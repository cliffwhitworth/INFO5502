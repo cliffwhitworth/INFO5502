{
 "cells": [
  {
   "cell_type": "markdown",
   "id": "b197f8c0",
   "metadata": {},
   "source": [
    "# Week 05 - Assignment"
   ]
  },
  {
   "cell_type": "markdown",
   "id": "d7df7eea",
   "metadata": {},
   "source": [
    "## Arrays\n",
    "\n",
    "Computers are most useful when you can use a small amount of code to *do the same action* to *many different things*.\n",
    "\n",
    "For example, in the time it takes you to calculate the 18% tip on a restaurant bill, a laptop can calculate 18% tips for every restaurant bill paid by every human on Earth that day.  (That's if you're pretty fast at doing arithmetic in your head!)\n",
    "\n",
    "**Arrays** are how we put many values in one place so that we can operate on them as a group. For example, if `billions_of_numbers` is an array of numbers, the expression\n",
    "\n",
    "    .18 * billions_of_numbers\n",
    "\n",
    "gives a new array of numbers that contains the result of multiplying **each number** in `billions_of_numbers` by .18.  Arrays are not limited to numbers; we can also put all the words in a book into an array of strings.\n",
    "\n",
    "Concretely, an array is a **collection of values of the same type**. "
   ]
  },
  {
   "cell_type": "markdown",
   "id": "8da09304",
   "metadata": {},
   "source": [
    "### Making Arrays\n",
    "\n",
    "First, let's learn how to manually input values into an array. This typically isn't how programs work. Normally, we create arrays by loading them from an external source, like a data file.\n",
    "\n",
    "To create an array by hand, call the function `np.array`.  Each argument you pass to `np.array` will be in the array it returns.  Run this cell to see an example:"
   ]
  },
  {
   "cell_type": "code",
   "execution_count": null,
   "id": "1f51d4ba",
   "metadata": {},
   "outputs": [],
   "source": [
    "# https://numpy.org/doc/stable/user/basics.creation.html\n",
    "import numpy as np\n",
    "\n",
    "my_array = np.array([0.125, 4.75, -1.3])\n",
    "my_array"
   ]
  },
  {
   "cell_type": "markdown",
   "id": "ddc71936",
   "metadata": {},
   "source": [
    "Each value in an array (in the above case, the numbers 0.125, 4.75, and -1.3) is called an *element* of that array.\n",
    "\n",
    "Arrays themselves are also values, just like numbers and strings.  That means you can assign them to names or use them as arguments to functions. For example, `len(<some_array>)` returns the number of elements in `some_array`."
   ]
  },
  {
   "cell_type": "markdown",
   "id": "f2e052d4",
   "metadata": {},
   "source": [
    "Make an array containing the numbers 0, 1, -1, and $\\pi$, in that order.  Name it `interesting_numbers`.  \n",
    "\n",
    "*Hint:* Remember how we got the value $\\pi$?  Use `math` module."
   ]
  },
  {
   "cell_type": "code",
   "execution_count": null,
   "id": "01d06a02",
   "metadata": {},
   "outputs": [],
   "source": [
    "# import numpy module (use appropriate alias for numpy) and math module\n",
    "... # replace this ellipsis with the appropriate import statement as with similarly placed ellipses\n",
    "...\n",
    "\n",
    "interesting_numbers = ...\n",
    "interesting_numbers"
   ]
  },
  {
   "cell_type": "markdown",
   "id": "f6715537",
   "metadata": {},
   "source": [
    "Make an array containing the five strings \"Hello\", \",\", \" \", \"world\", and \"!\". (The third one is a single space inside quotes.) Name it hello_world_components.\n",
    "\n",
    "Note: If you evaluate hello_world_components, you'll notice some extra information in addition to its contents: dtype='<U5'. That's just NumPy's extremely cryptic way of saying that the data types in the array are strings."
   ]
  },
  {
   "cell_type": "code",
   "execution_count": null,
   "id": "614e02b2",
   "metadata": {},
   "outputs": [],
   "source": [
    "hello_world_components = ...\n",
    "hello_world_components"
   ]
  },
  {
   "cell_type": "markdown",
   "id": "ceecedd4",
   "metadata": {},
   "source": [
    "###  `np.arange`\n",
    "\n",
    "Arrays are provided by a package called [NumPy](http://www.numpy.org/) (pronounced \"NUM-pie\"). The package is called `numpy`, but it's standard to rename it `np` for brevity.  You can do that with:\n",
    "\n",
    "    import numpy as np\n",
    "\n",
    "Very often in data science, we want to work with many numbers that are evenly spaced within some range.  NumPy provides a special function for this called `arange`.  The line of code `np.arange(start, stop, step)` evaluates to an array with all the numbers starting at `start` and counting up by `step`, stopping **before** `stop` is reached.\n",
    "\n",
    "Run the following cells to see some examples!"
   ]
  },
  {
   "cell_type": "code",
   "execution_count": null,
   "id": "40a63912",
   "metadata": {},
   "outputs": [],
   "source": [
    "# This array starts at 1 and counts up by 2\n",
    "# and then stops before 6\n",
    "np.arange(1, 6, 2)"
   ]
  },
  {
   "cell_type": "code",
   "execution_count": null,
   "id": "569e60c1",
   "metadata": {},
   "outputs": [],
   "source": [
    "# This array doesn't contain 9\n",
    "# because np.arange stops *before* the stop value is reached\n",
    "np.arange(4, 9, 1)"
   ]
  },
  {
   "cell_type": "markdown",
   "id": "086d7933",
   "metadata": {},
   "source": [
    " Import numpy as np and then use np.arange to create an array with the multiples of 99 from 0 up to (and including) 9999. (So its elements are 0, 99, 198, 297, etc.)"
   ]
  },
  {
   "cell_type": "code",
   "execution_count": null,
   "id": "9bc56669",
   "metadata": {},
   "outputs": [],
   "source": [
    "...\n",
    "\n",
    "multiples_of_99 = ...\n",
    "multiples_of_99"
   ]
  },
  {
   "cell_type": "markdown",
   "id": "a7884f64",
   "metadata": {},
   "source": [
    "### Working with Single Elements of Arrays (\"indexing\")\n",
    "\n",
    "Let's work with a more interesting dataset.  The next cell creates an array called `population_amounts` that includes estimated world populations of every year from **1950** to roughly the present.  (The estimates come from the US Census Bureau website.)"
   ]
  },
  {
   "cell_type": "code",
   "execution_count": null,
   "id": "29413fd7",
   "metadata": {},
   "outputs": [],
   "source": [
    "import pandas as pd\n",
    "\n",
    "population_amounts = pd.read_csv('https://raw.githubusercontent.com/data-8/materials-sp22/main/materials/sp22/lab/lab03/world_population.csv')\n",
    "population_amounts.head()"
   ]
  },
  {
   "cell_type": "markdown",
   "id": "be43c4c7",
   "metadata": {},
   "source": [
    "Here's how we get the first element of `population_amounts`, which is the world population in the first year in the dataset, 1950."
   ]
  },
  {
   "cell_type": "code",
   "execution_count": null,
   "id": "eea9724e",
   "metadata": {},
   "outputs": [],
   "source": [
    "# get the population_amounts at row index 0\n",
    "population_amounts.iloc[0]"
   ]
  },
  {
   "cell_type": "markdown",
   "id": "0d3dd6f3",
   "metadata": {},
   "source": [
    "The value of that expression is the number 2,557,628,654 (around 2.5 billion), because that's the first thing in the array `population_amounts`.\n",
    "\n",
    "Notice that we wrote `.iloc(0)`, not `.iloc(1)`, to get the first element.  This is a weird convention in computer science.  **0 is called the *index* of the first item.**  It's the number of elements that appear *before* that item.  So 3 is the index of the 4th item.\n",
    "\n",
    "Read this: https://www.statology.org/pandas-loc-vs-iloc/#:~:text=When%20it%20comes%20to%20selecting,columns%20at%20specific%20integer%20positions\n",
    "\n",
    "Here are some more examples.  In the examples, we've given names to the things we get out of `population_amounts`.  Read and run each cell."
   ]
  },
  {
   "cell_type": "code",
   "execution_count": null,
   "id": "cd39b402",
   "metadata": {},
   "outputs": [],
   "source": [
    "# The 13th element in the array is the population\n",
    "# in 1962 (which is 1950 + 12).\n",
    "population_1962 = population_amounts.iloc[12]\n",
    "population_1962"
   ]
  },
  {
   "cell_type": "code",
   "execution_count": null,
   "id": "0f343f22",
   "metadata": {},
   "outputs": [],
   "source": [
    "# The 66th element is the population in 2015.\n",
    "population_2015 = ...\n",
    "population_2015"
   ]
  },
  {
   "cell_type": "markdown",
   "id": "b9576265",
   "metadata": {},
   "source": [
    "Since `np.array` returns an array, we can call `[3]` on its output to get its 4th element, just like we \"chained\" together calls to the method `replace` earlier."
   ]
  },
  {
   "cell_type": "code",
   "execution_count": null,
   "id": "1c1a242d",
   "metadata": {},
   "outputs": [],
   "source": [
    "np.array([-1, -3, 4, -2])[3]"
   ]
  },
  {
   "cell_type": "markdown",
   "id": "53f59ded",
   "metadata": {},
   "source": [
    "Set population_1973 to the world population in 1973, by getting the appropriate element from population_amounts using `iloc`."
   ]
  },
  {
   "cell_type": "code",
   "execution_count": null,
   "id": "67ab6f97",
   "metadata": {},
   "outputs": [],
   "source": [
    "population_1973 = ...\n",
    "population_1973"
   ]
  },
  {
   "cell_type": "markdown",
   "id": "f07eae08",
   "metadata": {},
   "source": [
    "### Doing something to every element of an array\n",
    "\n",
    "Arrays are primarily useful for doing the same operation many times, so we don't often have to use `.iloc` and work with single elements.\n",
    "\n",
    "#### Rounding\n",
    "Here is one simple question we might ask about world population:\n",
    "\n",
    "> How big was the population in each year, rounded to the nearest million?\n",
    "\n",
    "Rounding is often used with large numbers when we don't need as much precision in our numbers. One example of this is when we present data in tables and visualizations. \n",
    "\n",
    "We could try to answer our question using the `round` function that is built into Python and the `item` method you just saw. \n",
    "\n",
    "**Note:** the `round` function takes in two arguments: the number to be rounded, and the number of decimal places to round to. The second argument can be thought of as how many steps right or left you move from the decimal point. Negative numbers tell us to move left, and positive numbers tell us to move right. So, if we have `round(1234.5, -2)`, it means that we should move two places left, and then make all numbers to the right of this place zeroes. This would output the number 1200.0. On the other hand, if we have `round(6.789, 1)`, we should move one place right, and then make all numbers to the right of this place zeroes. This would output the number 6.8."
   ]
  },
  {
   "cell_type": "code",
   "execution_count": null,
   "id": "5189de9b",
   "metadata": {},
   "outputs": [],
   "source": [
    "population_1950_magnitude = round(population_amounts.iloc[0], -6)\n",
    "population_1951_magnitude = round(population_amounts.iloc[1], -6)\n",
    "population_1952_magnitude = round(population_amounts.iloc[2], -6)\n",
    "population_1953_magnitude = round(population_amounts.iloc[3], -6)"
   ]
  },
  {
   "cell_type": "markdown",
   "id": "5a54f350",
   "metadata": {},
   "source": [
    "But this is tedious and doesn't really take advantage of the fact that we are using a computer.\n",
    "\n",
    "Instead, NumPy provides its own version of `round` that rounds each element of an array.  It takes in two arguments: a single array of numbers, and the number of decimal places to round to.  It returns an array of the same length, where the first element of the result is the first element of the argument rounded, and so on.\n",
    "\n",
    "Use `np.round` to compute the world population in every year, rounded to the nearest million (6 zeroes).  Give the result (an array of 66 numbers) the name `population_rounded`.  Your code should be very short."
   ]
  },
  {
   "cell_type": "code",
   "execution_count": null,
   "id": "2d584b8a",
   "metadata": {},
   "outputs": [],
   "source": [
    "...\n",
    "\n",
    "population_rounded = ...\n",
    "population_rounded"
   ]
  },
  {
   "cell_type": "markdown",
   "id": "0fadce17",
   "metadata": {},
   "source": [
    "What you just did is called **elementwise** application of `np.round`, since `np.round` operates separately on each element of the array that it's called on. Here's a picture of what's going on:"
   ]
  },
  {
   "cell_type": "markdown",
   "id": "3d62d0f8",
   "metadata": {},
   "source": [
    "<img src=\"https://raw.githubusercontent.com/data-8/materials-sp22/main/materials/sp22/lab/lab03/array_round.jpg\">\n",
    "\n",
    "The textbook's [section](https://www.inferentialthinking.com/chapters/05/1/Arrays)  on arrays has a useful list of NumPy functions that are designed to work elementwise, like `np.round`."
   ]
  },
  {
   "cell_type": "markdown",
   "id": "7c133d02",
   "metadata": {},
   "source": [
    "### Arithmetic\n",
    "\n",
    "Arithmetic also works elementwise on arrays, meaning that if you perform an arithmetic operation (like subtraction, division, etc) on an array, Python will do the operation to every element of the array individually and return an array of all of the results. For example, you can divide all the population numbers by 1 billion to get numbers in billions:"
   ]
  },
  {
   "cell_type": "code",
   "execution_count": null,
   "id": "f024071a",
   "metadata": {},
   "outputs": [],
   "source": [
    "population_in_billions = population_amounts / 1000000000\n",
    "population_in_billions"
   ]
  },
  {
   "cell_type": "code",
   "execution_count": null,
   "id": "c9d1f1f4",
   "metadata": {},
   "outputs": [],
   "source": [
    "# more array functions\n",
    "restaurant_bills = np.array([20.12, 39.90, 31.01])\n",
    "print(\"Restaurant bills:\\t\", restaurant_bills)\n",
    "\n",
    "# Array multiplication\n",
    "tips = .2 * restaurant_bills\n",
    "print(\"Tips:\\t\\t\\t\", tips)"
   ]
  },
  {
   "cell_type": "markdown",
   "id": "f4559831",
   "metadata": {},
   "source": [
    "<img src=\"https://raw.githubusercontent.com/data-8/materials-sp22/main/materials/sp22/lab/lab03/array_multiplication.jpg\">\n",
    "\n",
    "Suppose the total charge at a restaurant is the original bill plus the tip. If the tip is 20%, that means we can multiply the original bill by 1.2 to get the total charge.  Compute the total charge for each bill in `restaurant_bills`, and assign the resulting array to `total_charges`."
   ]
  },
  {
   "cell_type": "code",
   "execution_count": null,
   "id": "dd07cd27",
   "metadata": {},
   "outputs": [],
   "source": [
    "total_charges = ...\n",
    "total_charges"
   ]
  },
  {
   "cell_type": "markdown",
   "id": "caba6af5",
   "metadata": {},
   "source": [
    "## Functions"
   ]
  },
  {
   "cell_type": "markdown",
   "id": "0dfbe766",
   "metadata": {},
   "source": [
    "### Defining functions\n",
    "\n",
    "Let's write a very simple function that converts a proportion to a percentage by multiplying it by 100.  For example, the value of `to_percentage(.5)` should be the number 50 (no percent sign).\n",
    "\n",
    "A function definition has a few parts.\n",
    "\n",
    "#### `def`\n",
    "\n",
    "It always starts with `def` (short for **def**ine):\n",
    "\n",
    "#### `name`\n",
    "\n",
    "Next comes the name of the function.  Like other names we've defined, it can't start with a number or contain spaces. Let's call our function `to_percentage`:\n",
    "    \n",
    "    def to_percentage\n",
    "\n",
    "#### `signature`\n",
    "\n",
    "Next comes something called the *signature* of the function.  This tells Python how many arguments your function should have, and what names you'll use to refer to those arguments in the function's code.  A function can have any number of arguments (including 0!). \n",
    "\n",
    "`to_percentage` should take one argument, and we'll call that argument `proportion` since it should be a proportion.\n",
    "\n",
    "    def to_percentage(proportion)\n",
    "    \n",
    "If we want our function to take more than one argument, we add a comma between each argument name. Note that if we had zero arguments, we'd still place the parentheses () after that name. \n",
    "\n",
    "We put a **colon** after the signature to tell Python that the next indented lines are the body of the function. If you're getting a syntax error after defining a function, check to make sure you remembered the colon!\n",
    "\n",
    "    def to_percentage(proportion):\n",
    "\n",
    "#### `documentation`\n",
    "\n",
    "Functions can do complicated things, so you should write an explanation of what your function does.  For small functions, this is less important, but it's a good habit to learn from the start.  Conventionally, Python functions are documented by writing an **indented** triple-quoted string:\n",
    "\n",
    "    def to_percentage(proportion):\n",
    "        \"\"\"Converts a proportion to a percentage.\"\"\"\n",
    "        \n",
    "#### `body`\n",
    "Now we start writing code that runs when the function is called.  This is called the *body* of the function and every line **must be indented with a tab**.  Any lines that are *not* indented and left-aligned with the def statement is considered outside the function. \n",
    "\n",
    "Some notes about the body of the function:\n",
    "- We can write code that we would write anywhere else.  \n",
    "- We use the arguments defined in the function signature. We can do this because we assume that when we call the function, values are already assigned to those arguments.\n",
    "- We generally avoid referencing variables defined *outside* the function. If you would like to reference variables outside of the function, pass them through as arguments!\n",
    "\n",
    "\n",
    "Now, let's give a name to the number we multiply a proportion by to get a percentage:\n",
    "\n",
    "    def to_percentage(proportion):\n",
    "        \"\"\"Converts a proportion to a percentage.\"\"\"\n",
    "        factor = 100\n",
    "        \n",
    "#### `return`\n",
    "The special instruction `return` is part of the function's body and tells Python to make the value of the function call equal to whatever comes right after `return`.  We want the value of `to_percentage(.5)` to be the proportion .5 times the factor 100, so we write:\n",
    "\n",
    "    def to_percentage(proportion):\n",
    "        \"\"\"Converts a proportion to a percentage.\"\"\"\n",
    "        factor = 100\n",
    "        return proportion * factor\n",
    "        \n",
    "`return` only makes sense in the context of a function, and **can never be used outside of a function**. `return` is always the last line of the function because Python stops executing the body of a function once it hits a `return` statement. If a function does not have a return statement, it will not return anything; if you expect a value back from the function, make sure to include a return statement. \n",
    "\n",
    "*Note:*  `return` inside a function tells Python what value the function evaluates to. However, there are other functions, like `print`, that have no `return` value. For example, `print` simply prints a certain value out to the console. \n",
    "\n",
    "In short, `return` is used when you want to tell the *computer* what the value of some variable is, while `print` is used to tell you, a *human*, its value.        "
   ]
  },
  {
   "cell_type": "markdown",
   "id": "3414c911",
   "metadata": {},
   "source": [
    "Define `to_percentage` in the cell below.  Call your function to convert the proportion .2 to a percentage.  Name that percentage `twenty_percent`."
   ]
  },
  {
   "cell_type": "code",
   "execution_count": null,
   "id": "e7563ddc",
   "metadata": {},
   "outputs": [],
   "source": [
    "def to_percentage():\n",
    "    ''' ... '''\n",
    "    factor = ...\n",
    "    return ...\n",
    "\n",
    "twenty_percent = ...\n",
    "twenty_percent"
   ]
  },
  {
   "cell_type": "markdown",
   "id": "72c164df",
   "metadata": {},
   "source": [
    "Here's something important about functions: the names assigned *within* a function body are only accessible within the function body. Once the function has returned, those names are gone.  So even if you created a variable called `factor` and defined `factor = 100` inside of the body of the `to_percentage` function and then called `to_percentage`, `factor` would not have a value assigned to it outside of the body of `to_percentage`."
   ]
  },
  {
   "cell_type": "markdown",
   "id": "86470599",
   "metadata": {},
   "source": [
    "### `print` is not the same as `return`\n",
    "The `print_kth_top_movie_year(k)` function prints the total gross movie sales for the year that was provided! However, since we did not return any value in this function, we can not use it after we call it. Let's look at an example of another function that prints a value but does not return it."
   ]
  },
  {
   "cell_type": "code",
   "execution_count": null,
   "id": "89541fec",
   "metadata": {},
   "outputs": [],
   "source": [
    "def print_number_five():\n",
    "    print(5)"
   ]
  },
  {
   "cell_type": "code",
   "execution_count": null,
   "id": "c086dc76",
   "metadata": {},
   "outputs": [],
   "source": [
    "print_number_five()"
   ]
  },
  {
   "cell_type": "markdown",
   "id": "4bc85cfa",
   "metadata": {},
   "source": [
    "However, if we try to use the output of `print_number_five()`, we see that the value `5` is printed but we get a TypeError when we try to add the number 2 to it!"
   ]
  },
  {
   "cell_type": "code",
   "execution_count": null,
   "id": "bb2e9a45",
   "metadata": {},
   "outputs": [],
   "source": [
    "print_number_five_output = print_number_five()\n",
    "print_number_five_output + 2"
   ]
  },
  {
   "cell_type": "markdown",
   "id": "710dbc03",
   "metadata": {},
   "source": [
    "It may seem that `print_number_five()` is returning a value, 5. In reality, it just displays the number 5 to you without giving you the actual value! If your function prints out a value **without returning it** and you try to use that value, you will run into errors, so be careful!\n",
    "\n",
    "Explain to your neighbor or a staff member how you might add a line of code to the `print_number_five` function (after `print(5)`) so that the code `print_number_five_output + 5` would result in the value `10`, rather than an error."
   ]
  },
  {
   "cell_type": "markdown",
   "id": "69cd1ef7",
   "metadata": {},
   "source": [
    "### Functions and CEO Incomes\n",
    "\n",
    "In this question, we'll look at the 2015 compensation of CEOs at the 100 largest companies in California. The data was compiled from a [Los Angeles Times analysis](http://spreadsheets.latimes.com/california-ceo-compensation/), and ultimately came from [filings](https://www.sec.gov/answers/proxyhtf.htm) mandated by the SEC from all publicly-traded companies. Two companies have two CEOs, so there are 102 CEOs in the dataset.\n",
    "\n",
    "We've copied the raw data from the LA Times page into a file called `raw_compensation.csv`. (The page notes that all dollar amounts are in **millions of dollars**.)"
   ]
  },
  {
   "cell_type": "code",
   "execution_count": null,
   "id": "9a6c61c7",
   "metadata": {},
   "outputs": [],
   "source": [
    "import pandas as pd\n",
    "\n",
    "raw_compensation = pd.read_csv('https://raw.githubusercontent.com/data-8/materials-sp22/main/materials/sp22/lab/lab04/raw_compensation.csv')\n",
    "raw_compensation.head()"
   ]
  },
  {
   "cell_type": "markdown",
   "id": "3c1eee3a",
   "metadata": {},
   "source": [
    "We want to compute the average of the CEOs' pay. Try running the cell below."
   ]
  },
  {
   "cell_type": "code",
   "execution_count": null,
   "id": "ce47849b",
   "metadata": {},
   "outputs": [],
   "source": [
    "import numpy as np\n",
    "\n",
    "raw_compensation['Total Pay'].mean()"
   ]
  },
  {
   "cell_type": "markdown",
   "id": "7b7157c8",
   "metadata": {},
   "source": [
    "The problem is that `Total Pay` has a dollar sign and therefore is considered a string. Remove the dollar sign in Total Pay and convert the column to a float. Then output the mean of Total Pay"
   ]
  },
  {
   "cell_type": "code",
   "execution_count": null,
   "id": "bcf18b46",
   "metadata": {},
   "outputs": [],
   "source": [
    "# try a one liner without using a function\n",
    "raw_compensation['Total Pay'] = ...\n",
    "# raw_compensation['Total Pay'].mean()"
   ]
  },
  {
   "cell_type": "markdown",
   "id": "61b33deb",
   "metadata": {},
   "source": [
    "### `apply`ing functions"
   ]
  },
  {
   "cell_type": "code",
   "execution_count": null,
   "id": "2f0f78e9",
   "metadata": {},
   "outputs": [],
   "source": [
    "import pandas as pd\n",
    "\n",
    "raw_compensation = pd.read_csv('https://raw.githubusercontent.com/data-8/materials-sp22/main/materials/sp22/lab/lab04/raw_compensation.csv')\n",
    "raw_compensation.head()\n",
    "\n",
    "# define a function to return $ to float\n",
    "def dollar_to_float(row):\n",
    "    return float(row['Total Pay'].replace('$', ''))\n",
    "\n",
    "raw_compensation['Total Pay'] = raw_compensation.apply(dollar_to_float, axis=1)\n",
    "raw_compensation['Total Pay'].mean()"
   ]
  },
  {
   "cell_type": "markdown",
   "id": "bce08f98",
   "metadata": {},
   "source": [
    "### Histograms\n",
    "\n",
    "Earlier, we computed the average pay among the CEOs in our 102-CEO dataset.  The average doesn't tell us everything about the amounts CEOs are paid, though.  Maybe just a few CEOs make the bulk of the money, even among these 102.\n",
    "\n",
    "We can use a *histogram* method to display the *distribution* of a set of numbers.  The pandas method `hist` takes a single argument, the name of a column of numbers.  It produces a histogram of the numbers in that column.\n",
    "\n",
    "Make a histogram of the total pay of the CEOs in `Total Pay`. "
   ]
  },
  {
   "cell_type": "code",
   "execution_count": null,
   "id": "1a270df5",
   "metadata": {},
   "outputs": [],
   "source": [
    "# using pandas (not matplotlib) create a histogram of Total Pay"
   ]
  },
  {
   "cell_type": "markdown",
   "id": "e6155e72",
   "metadata": {},
   "source": [
    "## Create a Chart\n",
    "\n",
    "From the examples below, create a chart and explain the chart in 180 - 250 words. Many of the charts come with their own datasets and are self explaind so choose a chart that is skills appropriate.\n",
    "\n",
    "* https://matplotlib.org/stable/gallery/index.html \n",
    "* http://seaborn.pydata.org/examples/ \n",
    "* https://pandas.pydata.org/pandas-docs/stable/user_guide/visualization.html "
   ]
  },
  {
   "cell_type": "code",
   "execution_count": null,
   "id": "17c696b2",
   "metadata": {},
   "outputs": [],
   "source": [
    "# code for creating chart\n",
    "..."
   ]
  },
  {
   "cell_type": "markdown",
   "id": "b766f9bd",
   "metadata": {},
   "source": [
    "Explanation of the chart in 180 - 250 words"
   ]
  }
 ],
 "metadata": {
  "kernelspec": {
   "display_name": "Python 3",
   "language": "python",
   "name": "python3"
  },
  "language_info": {
   "codemirror_mode": {
    "name": "ipython",
    "version": 3
   },
   "file_extension": ".py",
   "mimetype": "text/x-python",
   "name": "python",
   "nbconvert_exporter": "python",
   "pygments_lexer": "ipython3",
   "version": "3.8.8"
  }
 },
 "nbformat": 4,
 "nbformat_minor": 5
}
