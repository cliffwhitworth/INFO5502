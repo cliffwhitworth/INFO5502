{
 "cells": [
  {
   "cell_type": "markdown",
   "id": "66371648",
   "metadata": {},
   "source": [
    "# Week 03 - Statistics, Probability, Randomness, Distributions, and Hypothesis Testing"
   ]
  },
  {
   "cell_type": "markdown",
   "id": "0cf890ae",
   "metadata": {},
   "source": [
    "## Basic Statistics (A Sampling)\n",
    "\n",
    "### Statistics\n",
    "\n",
    "* **Parameter vs Statistic**: https://www.statisticshowto.com/statistics-basics/how-to-tell-the-difference-between-a-statistic-and-a-parameter/ (parameter describes population, statistic describes sample)\n",
    "* **Statistical Inference**: According to Wikipedia: the process of using data analysis to infer properties of an underlying distribution of probability\n",
    "* **Variable**: Characteristic that describes a member of the sample\n",
    "\n",
    "### Features and Targets\n",
    "\n",
    "* Independent variables\n",
    "* Dependent variables"
   ]
  },
  {
   "cell_type": "markdown",
   "id": "d99b81f1",
   "metadata": {},
   "source": [
    "## Bootstrap Sampling"
   ]
  },
  {
   "cell_type": "code",
   "execution_count": 1,
   "id": "e61f9fcb",
   "metadata": {},
   "outputs": [
    {
     "name": "stdout",
     "output_type": "stream",
     "text": [
      "300.01543599695435\n",
      "299.99829937316304\n"
     ]
    }
   ],
   "source": [
    "# Bootstrap: https://www.digitalocean.com/community/tutorials/bootstrap-sampling-in-python\n",
    "import numpy as np\n",
    "import random\n",
    "\n",
    "x = np.random.normal(loc= 300.0, size=1000)\n",
    "print(np.mean(x))\n",
    "\n",
    "sample_mean = []\n",
    "\n",
    "for i in range(50):\n",
    "    y = random.sample(x.tolist(), 4)\n",
    "    avg = np.mean(y)\n",
    "    sample_mean.append(avg)\n",
    "    \n",
    "print(np.mean(sample_mean))"
   ]
  },
  {
   "cell_type": "code",
   "execution_count": 2,
   "id": "6ed72f3c",
   "metadata": {},
   "outputs": [
    {
     "name": "stdout",
     "output_type": "stream",
     "text": [
      "299.9574262920724\n"
     ]
    }
   ],
   "source": [
    "sample_mean = []\n",
    "\n",
    "for i in range(50):\n",
    "    y = random.sample(x.tolist(), 4)\n",
    "    avg = np.mean(y)\n",
    "    sample_mean.append(avg)\n",
    "    \n",
    "print(np.mean(sample_mean))"
   ]
  },
  {
   "cell_type": "markdown",
   "id": "a3427e41",
   "metadata": {},
   "source": [
    "\n",
    "## Randomness\n",
    "\n",
    "Randomness describes a phenomenon in which the outcome of a single repetition is uncertain, but there is nonetheless a regular distribution of relative frequencies in a large number of repetitions.\n",
    "\n",
    "* https://www.statisticsteacher.org/2019/09/19/building-understanding-of-randomness-from-ideas-about-variation-and-expectation/\n",
    "* https://plato.stanford.edu/entries/chance-randomness/\n",
    "\n",
    "<img src='https://www.statisticsteacher.org/files/2019/09/Figure1-300x170.png' alt='Interrelated big ideas underlying statistics' /><center>Interrelated big ideas underlying statistics</center>\n"
   ]
  },
  {
   "cell_type": "markdown",
   "id": "520dbbc7",
   "metadata": {},
   "source": [
    "## Law of Large Numbers\n",
    "\n",
    "According to Wikipedia (2022):\n",
    "\n",
    ">  In probability theory, the law of large numbers (LLN) is a theorem that describes the result of performing the same experiment a large number of times. According to the law, the average of the results obtained from a large number of trials should be close to the expected value and tends to become closer to the expected value as more trials are performed (para 1).\n",
    "\n",
    "Law of large numbers. (2022, February 1). In *Wikipedia*. https://en.wikipedia.org/wiki/Law_of_large_numbers.\n",
    "\n",
    "Guarantees stable long-term results for the averages of some random events"
   ]
  },
  {
   "cell_type": "markdown",
   "id": "7b458317",
   "metadata": {},
   "source": [
    "### Example"
   ]
  },
  {
   "cell_type": "code",
   "execution_count": 3,
   "id": "7e95bbc0",
   "metadata": {},
   "outputs": [
    {
     "data": {
      "text/plain": [
       "2526.474"
      ]
     },
     "execution_count": 3,
     "metadata": {},
     "output_type": "execute_result"
    }
   ],
   "source": [
    "# find the mean of a large distribution\n",
    "import numpy as np\n",
    "from numpy import random\n",
    "\n",
    "np.random.seed(42)\n",
    "\n",
    "data = random.randint(0, 5000, 5000)\n",
    "np.mean(data)"
   ]
  },
  {
   "cell_type": "code",
   "execution_count": 4,
   "id": "22fe760b",
   "metadata": {},
   "outputs": [
    {
     "name": "stdout",
     "output_type": "stream",
     "text": [
      "2449.8\n",
      "2749.86\n",
      "2544.07\n",
      "2564.941\n",
      "2544.196\n"
     ]
    }
   ],
   "source": [
    "# find sample means from generated list\n",
    "sample = np.random.choice(data, 5)\n",
    "print(np.mean(sample))\n",
    "sample = np.random.choice(data, 50)\n",
    "print(np.mean(sample))\n",
    "sample = np.random.choice(data, 500)\n",
    "print(np.mean(sample))\n",
    "sample = np.random.choice(data, 1000)\n",
    "print(np.mean(sample))\n",
    "sample = np.random.choice(data, 10000)\n",
    "print(np.mean(sample))"
   ]
  },
  {
   "cell_type": "markdown",
   "id": "4a694b0c",
   "metadata": {},
   "source": [
    "## Central Limit Theorem\n",
    "\n",
    "According to Wikipedia (2022):\n",
    "\n",
    ">  In probability theory, the central limit theorem (CLT) establishes that, in many situations, when independent random variables are summed up, their properly normalized sum tends toward a normal distribution (informally a bell curve) even if the original variables themselves are not normally distributed. The theorem is a key concept in probability theory because it implies that probabilistic and statistical methods that work for normal distributions can be applicable to many problems involving other types of distributions (para 1).\n",
    "\n",
    "Central limit theorem. (2022, February 1). In *Wikipedia*. https://en.wikipedia.org/wiki/Central_limit_theorem."
   ]
  },
  {
   "cell_type": "markdown",
   "id": "96530940",
   "metadata": {},
   "source": [
    "### Example"
   ]
  },
  {
   "cell_type": "code",
   "execution_count": 7,
   "id": "3644b4df",
   "metadata": {},
   "outputs": [
    {
     "name": "stdout",
     "output_type": "stream",
     "text": [
      "1018.8674511785524\n"
     ]
    },
    {
     "data": {
      "image/png": "[encoded data removed]",
      "text/plain": [
       "<Figure size 432x288 with 1 Axes>"
      ]
     },
     "metadata": {
      "needs_background": "light"
     },
     "output_type": "display_data"
    }
   ],
   "source": [
    "# https://levelup.gitconnected.com/large-numbers-and-central-limit-theorem-using-numpy-1c8199ef63b1\n",
    "# create right skewed data\n",
    "import matplotlib.pyplot as plt\n",
    "\n",
    "data = np.random.gamma(1, 1000, 5000)\n",
    "plt.hist(data);\n",
    "print(np.mean(data))"
   ]
  },
  {
   "cell_type": "code",
   "execution_count": 8,
   "id": "bcdb51a3",
   "metadata": {},
   "outputs": [
    {
     "data": {
      "image/png": "[encoded data removed]",
      "text/plain": [
       "<Figure size 432x288 with 1 Axes>"
      ]
     },
     "metadata": {
      "needs_background": "light"
     },
     "output_type": "display_data"
    }
   ],
   "source": [
    "# visualize 100 sample means and histogram\n",
    "means = []\n",
    "for i in range(5000):\n",
    "    means.append(np.random.choice(data, 100).mean())\n",
    "    \n",
    "plt.hist(means);"
   ]
  },
  {
   "cell_type": "markdown",
   "id": "ceee2a17",
   "metadata": {},
   "source": [
    "## Probability\n",
    "\n",
    "* Outcomes you are looking for / total possible outcomes\n",
    "* Terms you may see: events and sample space\n",
    "* Combinations, permutations, factorials\n",
    "* Intersections, unions, and conditional probability\n",
    "* Bayes Theorem and Bayes Inference\n",
    "\n",
    "https://www.statology.org/variance-of-probability-distribution/<br />\n",
    "https://www.probabilitycourse.com/preface.php"
   ]
  },
  {
   "cell_type": "markdown",
   "id": "fc564c75",
   "metadata": {},
   "source": [
    "### Factorials\n",
    "\n",
    "$n!$<br />\n",
    "5! = 1 * 2 * 3 * 4 * 5"
   ]
  },
  {
   "cell_type": "markdown",
   "id": "3d027033",
   "metadata": {},
   "source": [
    "### Permutations\n",
    "\n",
    "Order does matter (permutation, position)<br />\n",
    "The combination of a safe\n",
    "\n",
    "$_{n}P_r = \\frac{n!}{(n-r)!}$\n",
    "\n",
    "with repetitions\n",
    "\n",
    "$n^r$"
   ]
  },
  {
   "cell_type": "markdown",
   "id": "b91a13d7",
   "metadata": {},
   "source": [
    "### Combinations\n",
    "\n",
    "Order doesn't matter<br />\n",
    "Items on a pizza\n",
    "\n",
    "$C(n,r) = C_r^{n} = {_nC_r} = \\binom {n}{r}  = \\frac{n!}{r!(n-r)!}$\n",
    "\n",
    "#### With Replacement\n",
    "\n",
    "$_{n+r-1}C_r = \\frac{(r+n-1)!}{r!(n-1)!}$"
   ]
  },
  {
   "cell_type": "markdown",
   "id": "2972acd9",
   "metadata": {},
   "source": [
    "### Intersections\n",
    "\n",
    "$A \\cap B = \\{\\: x: x \\in A \\: and \\: x \\in B \\:\\}$\n",
    "\n",
    "order doesn't matter $A \\cap B$ or $B \\cap A$\n",
    "\n",
    "#### Independent\n",
    "\n",
    "$P(A \\cap B) = P(A) * P(B)$\n",
    "\n",
    "#### Dependent\n",
    "\n",
    "$P(A \\cap B) = P(A) * P(B|A) = P(B) * P(A|B)$<br />\n",
    "also expressed as P(A and B) = P(A) * P(B given A)"
   ]
  },
  {
   "cell_type": "markdown",
   "id": "cf00b353",
   "metadata": {},
   "source": [
    "### Unions\n",
    "\n",
    "$P(A \\cup B) = P(A) + P(B) - P(A \\cap B)$<br />\n",
    "also expressed P(A or B)<br />\n",
    "order doesn't matter\n",
    "\n",
    "#### Unions if mutually exclusive (vs. disjoint)\n",
    "\n",
    "$P(A \\cup B) = P(A) + P(B) - P(A \\cap B)$ where $P(A \\cap B) = 0$ \n",
    "<br />so<br />\n",
    "$P(A \\cup B) = P(A) + P(B)$\n",
    "\n",
    "Mutually Exclusive: $P(A \\cap B) = 0$<br />\n",
    "Disjoint (dealing in sets): $A \\cap B = 0$"
   ]
  },
  {
   "cell_type": "markdown",
   "id": "ce98a03b",
   "metadata": {},
   "source": [
    "### Compliment\n",
    "\n",
    "Compliment of $A$ is $\\bar{A}$\n",
    "\n",
    "Is the compliment of A mutually exclusive with A?"
   ]
  },
  {
   "cell_type": "markdown",
   "id": "18aaae35",
   "metadata": {},
   "source": [
    "## Conditional Probability\n",
    "\n",
    "https://towardsdatascience.com/conditional-probability-with-a-python-example-fd6f5937cd2<br />\n",
    "https://towardsdatascience.com/conditional-probability-with-python-concepts-tables-code-c23ffe65d110<br />\n",
    "\n",
    "$P(A|B) = \\frac{P(A \\cap B)}{P(B)}$<br />\n",
    "\n",
    "What's the probability of something given something else\n",
    "\n",
    "Terms\n",
    "* $P(A|B)$: Probability of A given B\n",
    "* $P(A \\cap B)$: Probability of A and B\n",
    "* $P(B)$: Probability of B\n",
    "\n",
    "#### Addition and Multiplication Rules\n",
    "\n",
    "* Addition Rule: $P(A \\cup B) = P(A) + P(B) - P(A \\cap B)$\n",
    "* Multiplication Rule: $P(A \\cap B) = P(A) * P(B|A)$<br />"
   ]
  },
  {
   "cell_type": "markdown",
   "id": "3a7761ef",
   "metadata": {},
   "source": [
    "## Bayes’ Theorem \n",
    "\n",
    "### $P(A|B) = \\frac{P(A) P(B|A)}{P(B)}$\n",
    "\n",
    "$P(B) = (P(A) * P(B|A)) + (P(\\bar{A}) * P(B|\\bar{A}))$\n",
    "\n",
    "Recall dependent intersection and multiplication rule:<br />\n",
    "$P(A \\cap B) = P(A) * P(B|A)$\n",
    "\n",
    "### Frequentist vs Bayesian\n",
    "\n",
    "* Frequentist finds an expected frequency of something occurring over a large number of experiments\n",
    "* Baysian has a measure of belief based on prior knowledge\n",
    "\n",
    "The Master Algorithm: https://www.amazon.com/Master-Algorithm-Ultimate-Learning-Machine-ebook/dp/B012271YB2"
   ]
  },
  {
   "cell_type": "markdown",
   "id": "52f4958c",
   "metadata": {},
   "source": [
    "### Baysian Inference\n",
    "\n",
    "Bayesian inference is therefore just the process of deducing properties about a population or probability distribution from data using Bayes’ theorem. That’s it.\n",
    "\n",
    "https://towardsdatascience.com/probability-concepts-explained-bayesian-inference-for-parameter-estimation-90e8930e5348\n",
    "\n",
    "* $P(A)$ a.k.a. the **prior**: A prior probability distribution, often simply called the prior, of an uncertain quantity is the probability distribution that would express one's beliefs about this quantity before some evidence is taken into account. https://en.m.wikipedia.org/wiki/Priowr_probability\n",
    "* $P(B)$ a.k.a. the **marginal likelihood**: Aa marginal likelihood function, or integrated likelihood, is a likelihood function in which some parameter variables have been marginalized. In the context of Bayesian statistics, it may also be referred to as the evidence or model evidence. https://en.m.wikipedia.org/wiki/Marginal_likelihood\n",
    "* $P(A|B)$ a.k.a. the **posterior**: This is what we want to know: the probability of a hypothesis given the observed evidence. https://en.m.wikipedia.org/wiki/Bayesian_inference\n",
    "* $P(B|A)$ a.k.a. the **likelihood**: Indicates the compatibility of the evidence with the given hypothesis. https://en.m.wikipedia.org/wiki/Bayesian_inference\n",
    "\n",
    "Bayesian inference. (February 8, 2022). In *Wikipedia*. https://en.m.wikipedia.org/wiki/Bayesian_inference \n",
    "\n",
    "### Updating Our Prior\n",
    "\n",
    "**Difference Between Conditional Probability and Bayes' Theorem**<br />\n",
    "https://www.investopedia.com/terms/b/bayes-theorem.asp"
   ]
  },
  {
   "cell_type": "markdown",
   "id": "6f10de67",
   "metadata": {},
   "source": [
    "### Contingency Tables\n",
    "\n",
    "According to Wikipedia (2022):\n",
    "\n",
    "In statistics, a contingency table (also known as a cross tabulation or crosstab) is a type of table in a matrix format that displays the (multivariate) frequency distribution of the variables. They are heavily used in survey research, business intelligence, engineering, and scientific research (para. 1).\n",
    "\n",
    "Contingency table. (February 6, 2022). In *Wikipedia*. https://en.wikipedia.org/wiki/Contingency_table "
   ]
  },
  {
   "cell_type": "markdown",
   "id": "a9ece1f7",
   "metadata": {},
   "source": [
    "### Groupby, Crosstab, Pivot Table\n",
    "\n",
    "More in Week 4: Assignment\n",
    "\n",
    "https://towardsdatascience.com/meet-the-hardest-functions-of-pandas-part-ii-f8029a2b0c9b"
   ]
  },
  {
   "cell_type": "markdown",
   "id": "2a3f0ec4",
   "metadata": {},
   "source": [
    "## Random Variables and Distributions\n",
    "\n",
    "### IID: Independent and Identically Distributed\n",
    "\n",
    "According to Wikipedia (2022):\n",
    "\n",
    "In probability theory and statistics, a collection of random variables is independent and identically distributed if each random variable has the same probability distribution as the others and all are mutually independent. This property is usually abbreviated as i.i.d. or iid or IID. IID was first used in statistics. With the development of science, IID has been applied in different fields such as data mining and signal processing (para. 1).\n",
    "\n",
    "Independent and identically distributed random variables. (February 13, 2022). In *Wikipedia*. https://en.wikipedia.org/wiki/Independent_and_identically_distributed_random_variables\n",
    "\n",
    "* https://stackoverflow.com/questions/24204582/generate-multiple-independent-random-streams-in-python\n",
    "* https://www.statisticshowto.com/iid-statistics/"
   ]
  },
  {
   "cell_type": "markdown",
   "id": "f4240a1b",
   "metadata": {},
   "source": [
    "A random variable is a mathematical formalization of a quantity or object which depends on random events. Informally, randomness typically represents some fundamental element of chance, such as in the roll of a dice; it may also represent uncertainty, such as measurement error (para 1).\n",
    "\n",
    "https://en.wikipedia.org/wiki/Random_variable"
   ]
  },
  {
   "cell_type": "markdown",
   "id": "60823f0b",
   "metadata": {},
   "source": [
    "### Probability Distributions\n",
    "\n",
    "https://docs.scipy.org/doc/scipy-0.14.0/reference/stats.html\n",
    "\n",
    "Discrete distributions: all probabilities add up to one\n",
    "* Bernoulli\n",
    "* Geometric\n",
    "* Binomial\n",
    "* Poisson\n",
    "\n",
    "Continuous distributions: area under curve adds up to one\n",
    "* Normal\n",
    "    * z\n",
    "    * t"
   ]
  },
  {
   "cell_type": "markdown",
   "id": "5618a462",
   "metadata": {},
   "source": [
    "### Functions"
   ]
  },
  {
   "cell_type": "markdown",
   "id": "6fa10f93",
   "metadata": {},
   "source": [
    "According to NIH SEMATECH (2022):\n",
    "\n",
    "Discrete probability functions are referred to as probability mass functions and continuous probability functions are referred to as probability density functions. The term probability functions covers both discrete and continuous distributions (para. 5).\n",
    "\n",
    "What is Probability Distribution. (February 13, 2022). In *NIST/SEMATECH e-Handbook of Statistical Methods*. https://www.itl.nist.gov/div898/handbook/eda/section3/eda361.htm\n",
    "\n",
    "### Probability Mass Function\n",
    "\n",
    "A probability mass function is a function that gives the probability that a discrete random variable is exactly equal to some value.\n",
    "\n",
    "https://en.wikipedia.org/wiki/Probability_mass_function"
   ]
  },
  {
   "cell_type": "code",
   "execution_count": 9,
   "id": "519bb76d",
   "metadata": {},
   "outputs": [
    {
     "data": {
      "image/png": "[encoded data removed]",
      "text/plain": [
       "<Figure size 432x288 with 1 Axes>"
      ]
     },
     "metadata": {
      "needs_background": "light"
     },
     "output_type": "display_data"
    }
   ],
   "source": [
    "# roll of one die 100 times\n",
    "# Rolling dice (2):<br />\n",
    "# https://www.thoughtco.com/probabilities-of-rolling-two-dice-3126559\n",
    "import numpy as np\n",
    "import matplotlib.pyplot as plt\n",
    "\n",
    "throws = 100\n",
    "observations = []\n",
    "for i in range(throws):    \n",
    "    roll = np.random.choice(['1', '2', '3', '4', '5', '6']) # roll the die\n",
    "    observations.append(roll)\n",
    "\n",
    "val, cnt = np.unique(observations, return_counts=True)\n",
    "prop = cnt / len(observations)\n",
    "\n",
    "plt.bar(val, prop)\n",
    "plt.ylabel('Probability')\n",
    "plt.xlabel('Roll')\n",
    "plt.title('Roll of One Die 100 Times')\n",
    "plt.show()"
   ]
  },
  {
   "cell_type": "code",
   "execution_count": 10,
   "id": "69bb8740",
   "metadata": {},
   "outputs": [
    {
     "data": {
      "image/png": "[encoded data removed]",
      "text/plain": [
       "<Figure size 432x288 with 1 Axes>"
      ]
     },
     "metadata": {
      "needs_background": "light"
     },
     "output_type": "display_data"
    }
   ],
   "source": [
    "# roll of die 10000 times\n",
    "import numpy as np\n",
    "import matplotlib.pyplot as plt\n",
    "\n",
    "throws = 10000\n",
    "observations = []\n",
    "for i in range(throws):    \n",
    "    roll = np.random.choice(['1', '2', '3', '4', '5', '6']) # roll the die\n",
    "    observations.append(roll)\n",
    "\n",
    "val, cnt = np.unique(observations, return_counts=True)\n",
    "prop = cnt / len(observations)\n",
    "\n",
    "plt.bar(val, prop)\n",
    "plt.ylabel('Probability')\n",
    "plt.xlabel('Roll')\n",
    "plt.title('Roll of Die 10000 Times')\n",
    "plt.show()"
   ]
  },
  {
   "cell_type": "markdown",
   "id": "efca3f3b",
   "metadata": {},
   "source": [
    "### Probability Density Function\n",
    "\n",
    "In probability theory, a probability density function (PDF), or density of a continuous random variable, is a function whose value at any given sample (or point) in the sample space (the set of possible values taken by the random variable) can be interpreted as providing a relative likelihood that the value of the random variable would be close to that sample (para. 1).\n",
    "\n",
    "https://en.wikipedia.org/wiki/Probability_density_function\n",
    "\n",
    "According to NIH SEMATECH (2022):\n",
    "\n",
    "For a continuous function, the probability density function (pdf) is the probability that the variate has the value x. Since for continuous distributions the probability at a single point is zero, this is often expressed in terms of an integral between two points.\n",
    "\n",
    "Related Distributions. (February 13, 2022). In *NIST/SEMATECH e-Handbook of Statistical Methods*. https://www.itl.nist.gov/div898/handbook/eda/section3/eda362.htm\n",
    "\n",
    "The probability that a particular random variable will equal a certain value is zero"
   ]
  },
  {
   "cell_type": "code",
   "execution_count": 11,
   "id": "9ed3f48d",
   "metadata": {},
   "outputs": [
    {
     "name": "stdout",
     "output_type": "stream",
     "text": [
      "What does stats.norm.rvs look like? 1.4329480654821565\n",
      "mu = 0.05, sigma = 0.99\n"
     ]
    },
    {
     "data": {
      "image/png": "[encoded data removed]",
      "text/plain": [
       "<Figure size 432x288 with 1 Axes>"
      ]
     },
     "metadata": {
      "needs_background": "light"
     },
     "output_type": "display_data"
    }
   ],
   "source": [
    "# demonstrate pdf\n",
    "import numpy as np\n",
    "import matplotlib.pyplot as plt \n",
    "import scipy.stats as stats\n",
    "\n",
    "# pay attention to the use of the parameters inside the stats.norm.pdf function.\n",
    "data = stats.norm.rvs(size=1000) # rvs = random variates\n",
    "\n",
    "# get the parameter for a normal distribution\n",
    "parameters = stats.norm.fit(data) \n",
    "mu = parameters[0]\n",
    "sigma = parameters[1] # sigma is std\n",
    "\n",
    "# using unpacking\n",
    "mu, sigma = parameters\n",
    "\n",
    "print(f'What does stats.norm.rvs look like? {data[0]}')\n",
    "print(f'mu = {mu:.2f}, sigma = {sigma:.2f}') # f strings https://zetcode.com/python/fstring/\n",
    "\n",
    "# plot the PDF.\n",
    "xmin, xmax = plt.xlim() # https://matplotlib.org/3.3.3/api/_as_gen/matplotlib.pyplot.xlim.html\n",
    "x = np.linspace(-3, 3, 100)\n",
    "params = stats.norm.pdf(x, loc=mu, scale=sigma)\n",
    "# we could also do stats.norm.pdf(x, loc=0, scale=1)\n",
    "\n",
    "plt.plot(x, params, 'k', linewidth=2); # k is short for the color black"
   ]
  },
  {
   "cell_type": "markdown",
   "id": "b78db38d",
   "metadata": {},
   "source": [
    "### Cumulative Density Function\n",
    "\n",
    "According to NIH SEMATECH (2022):\n",
    "\n",
    "The cumulative distribution function (cdf) is the probability that the variable takes a value less than or equal to x\n",
    "\n",
    "Related Distributions. (February 13, 2022). In *NIST/SEMATECH e-Handbook of Statistical Methods*. https://www.itl.nist.gov/div898/handbook/eda/section3/eda362.htm"
   ]
  },
  {
   "cell_type": "code",
   "execution_count": 12,
   "id": "953191db",
   "metadata": {},
   "outputs": [
    {
     "data": {
      "image/png": "[encoded data removed]",
      "text/plain": [
       "<Figure size 432x288 with 1 Axes>"
      ]
     },
     "metadata": {
      "needs_background": "light"
     },
     "output_type": "display_data"
    }
   ],
   "source": [
    "# plot the cdf\n",
    "x = np.linspace(-3, 3, 100)\n",
    "cdf_y = stats.norm.cdf(x)\n",
    "plt.plot(x, cdf_y, 'b', label='cdf')\n",
    "plt.title('The CDF')\n",
    "plt.xlabel('X') \n",
    "plt.ylabel('cdf(X)') \n",
    "plt.grid(True)\n",
    "plt.show();"
   ]
  },
  {
   "cell_type": "markdown",
   "id": "1796a4cf",
   "metadata": {},
   "source": [
    "### Percent Point Function\n",
    "\n",
    "According to NIH SEMATECH (2022):\n",
    "\n",
    "The percent point function (ppf) is the inverse of the cumulative distribution function. For this reason, the percent point function is also commonly referred to as the inverse distribution function. That is, for a distribution function we calculate the probability that the variable is less than or equal to x for a given x. For the percent point function, we start with the probability and compute the corresponding x for the cumulative distribution.\n",
    "\n",
    "Related Distributions. (February 13, 2022). In *NIST/SEMATECH e-Handbook of Statistical Methods*. https://www.itl.nist.gov/div898/handbook/eda/section3/eda362.htm"
   ]
  },
  {
   "cell_type": "code",
   "execution_count": 13,
   "id": "a5175db5",
   "metadata": {},
   "outputs": [
    {
     "data": {
      "image/png": "[encoded data removed]",
      "text/plain": [
       "<Figure size 432x288 with 1 Axes>"
      ]
     },
     "metadata": {
      "needs_background": "light"
     },
     "output_type": "display_data"
    }
   ],
   "source": [
    "# plot the ppff\n",
    "x = np.linspace(-3, 3, 100)\n",
    "ppf_y = stats.norm.ppf(x)\n",
    "plt.plot(x, ppf_y, 'b', label='cdf')\n",
    "plt.title('The PPF')\n",
    "plt.xlabel('ppf(X)') \n",
    "plt.ylabel('X') \n",
    "plt.grid(True)\n",
    "plt.show();"
   ]
  },
  {
   "cell_type": "markdown",
   "id": "3c58d468",
   "metadata": {},
   "source": [
    "### Kernel Density Estimation\n",
    "\n",
    "According to Wikipedia (2022):\n",
    "\n",
    "In statistics, kernel density estimation (KDE) is a non-parametric way to estimate the probability density function of a random variable. Kernel density estimation is a fundamental data smoothing problem where inferences about the population are made, based on a finite data sample.\n",
    "\n",
    "Kernel density estimation. (February 13, 2022) In *Wikipedia*. https://en.wikipedia.org/wiki/Kernel_density_estimation \n",
    "\n",
    "As mentioned, KDE is a non-parametric estimate compared to the parametric probability density function. Non-parametric data do not fit an established distribution such as the normal, or gaussian, distribution. Non-parametric models don't have parameters to define the data distribution so in the case of KDE, the shape of the data is estimated. \n",
    "\n",
    "According to Wikipedia (2022):\n",
    "\n",
    "In nonparametric statistics, a kernel is a weighting function used in non-parametric estimation techniques. Kernels are used in kernel density estimation to estimate random variables' density functions, or in kernel regression to estimate the conditional expectation of a random variable.\n",
    "\n",
    "Nonparametric statistics. (February 13, 2022) In *Wikipedia*.https://en.wikipedia.org/wiki/Kernel_(statistics)#Nonparametric_statistics\n",
    "\n",
    "Here is a simplified version of the equation provided by Wikipedia:\n",
    "\n",
    "$\n",
    "\\hat{f(x)} = \\frac{1}{N}\\sum{K(x - x_i)}\n",
    "$ \n",
    "\n",
    "Let (x1, x2, …, xn) be independent and identically distributed \\[IID\\] samples drawn from some univariate distribution with an unknown density ƒ at any given point x. We are interested in estimating the shape of this function ƒ.\n",
    "\n",
    "https://en.wikipedia.org/wiki/Kernel_density_estimation#Definition\n",
    "\n",
    "Recall **IID** definition: In probability theory and statistics, a collection of random variables is independent and identically distributed if each random variable has the same probability distribution as the others and all are mutually independent.\n",
    "\n",
    "https://en.wikipedia.org/wiki/Independent_and_identically_distributed_random_variables"
   ]
  },
  {
   "cell_type": "code",
   "execution_count": 14,
   "id": "c97185a3",
   "metadata": {},
   "outputs": [
    {
     "data": {
      "image/png": "[encoded data removed]",
      "text/plain": [
       "<Figure size 432x288 with 1 Axes>"
      ]
     },
     "metadata": {
      "needs_background": "light"
     },
     "output_type": "display_data"
    }
   ],
   "source": [
    "# example of KDE\n",
    "import seaborn as sns\n",
    "from scipy.stats.distributions import norm\n",
    "\n",
    "x = np.random.randn(100)\n",
    "x[int(0.3 * 100):] += 7\n",
    "sns.histplot(x, kde=True)\n",
    "plt.title('KDE')\n",
    "plt.show()"
   ]
  },
  {
   "cell_type": "markdown",
   "id": "545f06e4",
   "metadata": {},
   "source": [
    "## Discrete Probability Distributions\n",
    "\n",
    "* Bernoulli\n",
    "* Geometric\n",
    "* Binomial\n",
    "* Poisson\n",
    "\n",
    "Countable possible outcomes"
   ]
  },
  {
   "cell_type": "markdown",
   "id": "a6067ecc",
   "metadata": {},
   "source": [
    "### Bernoulli Distribution\n",
    "\n",
    "Success vs Failure\n",
    "* P(Success) is constant 1/2, 1/6\n",
    "* Trials are independent\n",
    "\n",
    "https://en.wikipedia.org/wiki/Bernoulli_distribution\n",
    "\n",
    "https://vitalflux.com/bernoulli-probability-distribution-explained-with-python-examples/"
   ]
  },
  {
   "cell_type": "code",
   "execution_count": 15,
   "id": "5e2bcd48",
   "metadata": {},
   "outputs": [
    {
     "name": "stdout",
     "output_type": "stream",
     "text": [
      "0.5\n",
      "0.5\n"
     ]
    }
   ],
   "source": [
    "# coin flip\n",
    "from scipy.stats import bernoulli\n",
    "\n",
    "p = 0.5\n",
    "X = bernoulli(p)\n",
    "print(X.pmf(1)) # heads\n",
    "print(X.pmf(0)) # tails"
   ]
  },
  {
   "cell_type": "code",
   "execution_count": 16,
   "id": "dd8556dd",
   "metadata": {},
   "outputs": [
    {
     "data": {
      "image/png": "[encoded data removed]",
      "text/plain": [
       "<Figure size 432x288 with 1 Axes>"
      ]
     },
     "metadata": {
      "needs_background": "light"
     },
     "output_type": "display_data"
    }
   ],
   "source": [
    "# plot coin flip\n",
    "import matplotlib.pyplot as plt\n",
    "from scipy.stats import bernoulli\n",
    "\n",
    "rv = bernoulli(0.5)\n",
    "X = [0, 1] # domain, sample space, possible outcomes, etc\n",
    "\n",
    "plt.bar(X, rv.pmf(X))\n",
    "plt.title('Bernoulli Distribution of a Coin Flip')\n",
    "plt.xlabel('Values of Random Variable (0, 1)')\n",
    "plt.ylabel('Probability')\n",
    "plt.show()"
   ]
  },
  {
   "cell_type": "markdown",
   "id": "10e975f0",
   "metadata": {},
   "source": [
    "### Geometric Distribution\n",
    "\n",
    "Formula:<br />\n",
    "$f(x) = (1 - p)^{x-1}p$\n",
    "\n",
    "* x = number of events before the event you're looking for\n",
    "* p = probability\n",
    "\n",
    "According to StatisticsHowTo (2022):\n",
    "\n",
    "The geometric distribution represents the number of failures before you get a success in a series of Bernoulli trials.\n",
    "\n",
    "Stephanie Glen. \"Geometric Distribution: Definition & Example\" From StatisticsHowTo.com: Elementary Statistics for the rest of us! (June 16, 2022). https://www.statisticshowto.com/geometric-distribution/"
   ]
  },
  {
   "cell_type": "code",
   "execution_count": 17,
   "id": "c39f071d",
   "metadata": {},
   "outputs": [
    {
     "data": {
      "text/plain": [
       "array([0.16666667, 0.13888889, 0.11574074, 0.09645062, 0.08037551,\n",
       "       0.0669796 , 0.05581633, 0.04651361, 0.03876134, 0.03230112])"
      ]
     },
     "execution_count": 17,
     "metadata": {},
     "output_type": "execute_result"
    }
   ],
   "source": [
    "# probabilities of rolling 1 per trial\n",
    "from scipy.stats import geom\n",
    "\n",
    "p = 1/6\n",
    "X = [1,2,3,4,5,6,7,8,9,10]\n",
    "geom.pmf(X, p)"
   ]
  },
  {
   "cell_type": "code",
   "execution_count": 18,
   "id": "4df91d87",
   "metadata": {},
   "outputs": [
    {
     "data": {
      "image/png": "[encoded data removed]",
      "text/plain": [
       "<Figure size 432x288 with 1 Axes>"
      ]
     },
     "metadata": {
      "needs_background": "light"
     },
     "output_type": "display_data"
    }
   ],
   "source": [
    "# plot the probability of rolling 1 per trial\n",
    "import matplotlib.pyplot as plt\n",
    "\n",
    "plt.bar(X, geom.pmf(X, p))\n",
    "plt.title('Probabilities of Rolling 1 per Trial')\n",
    "plt.xlabel('Rolls')\n",
    "plt.ylabel('Probability')\n",
    "plt.show()"
   ]
  },
  {
   "cell_type": "code",
   "execution_count": 19,
   "id": "2739cb3f",
   "metadata": {},
   "outputs": [
    {
     "data": {
      "text/plain": [
       "0.84"
      ]
     },
     "execution_count": 19,
     "metadata": {},
     "output_type": "execute_result"
    }
   ],
   "source": [
    "# probability of getting 1 in 10 rolls\n",
    "np.sum(geom.pmf(X, p)).round(2)"
   ]
  },
  {
   "cell_type": "markdown",
   "id": "c4d4233e",
   "metadata": {},
   "source": [
    "### Binomial Distribution\n",
    "\n",
    "Formula:<br />\n",
    "$P(x: n,p) = \\binom {n}{x} p^x (1 - p)^{(n-x)}$\n",
    "\n",
    "* n trials\n",
    "* x successes\n",
    "\n",
    "According to StatisticsHowTo (2022):\n",
    "\n",
    "A binomial distribution can be thought of as simply the probability of a SUCCESS or FAILURE outcome in an experiment or survey that is repeated multiple times. The binomial is a type of distribution that has two possible outcomes (the prefix “bi” means two, or twice). For example, a coin toss has only two possible outcomes: heads or tails and taking a test could have two possible outcomes: pass or fail.\n",
    "\n",
    "Stephanie Glen. \"Binomial Distribution: Formula, What it is, How to use it\" From StatisticsHowTo.com: Elementary Statistics for the rest of us! (February 13, 2022). https://www.statisticshowto.com/probability-and-statistics/binomial-theorem/binomial-distribution-formula/\n",
    "\n",
    "More info:\n",
    "* https://docs.scipy.org/doc/scipy/reference/generated/scipy.stats.binom.html\n",
    "* https://numpy.org/doc/stable/reference/random/generated/numpy.random.binomial.html\n",
    "* https://stattrek.com/online-calculator/binomial.aspx"
   ]
  },
  {
   "cell_type": "markdown",
   "id": "f1ded962",
   "metadata": {},
   "source": [
    "### Examples\n",
    "\n",
    "Show and use the scipy.stats.binom function to answer the following.\n",
    "* binom.pmf(k, n, p)\n",
    "* (k) things happening in (n) times with a (p) probability\n",
    "* A fair coin is flipped 5 times. What is the probability of getting 2 tails?\n",
    "* A fair die is thrown 4 times. What is the probability of getting 2 threes?"
   ]
  },
  {
   "cell_type": "code",
   "execution_count": 51,
   "id": "08110c99",
   "metadata": {},
   "outputs": [
    {
     "data": {
      "text/plain": [
       "0.31249999999999983"
      ]
     },
     "execution_count": 51,
     "metadata": {},
     "output_type": "execute_result"
    }
   ],
   "source": [
    "# flip of a fair coin: k = 2 tails, n = 5 flips, p = .5 \n",
    "from scipy.stats import binom\n",
    "\n",
    "binom.pmf(2, 5, 1/2)\n",
    "# binom.pmf(2, 4, 1/6)\n",
    "# binom.pmf(2, 2, 1/2)"
   ]
  },
  {
   "cell_type": "markdown",
   "id": "654b75f5",
   "metadata": {},
   "source": [
    "### Poisson Distribution\n",
    "\n",
    "$P(k; \\lambda) = \\frac{\\lambda^k e^{-\\lambda}}{k!}$\n",
    "\n",
    "* lambda = mu = expected value\n",
    "* P(Success) is proportional through the entire interval (lambda(minute) = lambda(hour)/60)\n",
    "\n",
    "A Poisson distribution is a tool that helps to predict the probability of certain events happening when you know how often the event has occurred. It gives us the probability of a given number of events happening in a fixed interval...\n",
    "\n",
    "Stephanie Glen. \"Poisson Distribution / Poisson Curve: Simple Definition\" From StatisticsHowTo.com: Elementary Statistics for the rest of us! https://www.statisticshowto.com/probability-and-statistics/statistics-definitions/probability-distribution/poisson-distribution/\n",
    "\n",
    "More info:\n",
    "* https://stattrek.com/probability-distributions/poisson.aspx\n",
    "* https://hadrienj.github.io/posts/Essential-Math-poisson_distribution/\n",
    "* https://docs.scipy.org/doc/scipy/reference/generated/scipy.stats.poisson.html"
   ]
  },
  {
   "cell_type": "code",
   "execution_count": 21,
   "id": "3fcde73d",
   "metadata": {},
   "outputs": [
    {
     "data": {
      "text/plain": [
       "0.1562934518505317"
      ]
     },
     "execution_count": 21,
     "metadata": {},
     "output_type": "execute_result"
    }
   ],
   "source": [
    "# what's the probability that 5 things will happen given an average of 4 things happening in a period of time\n",
    "from scipy.stats import poisson\n",
    "\n",
    "poisson.pmf(k=5, mu=4) # mu = lambda = expected value"
   ]
  },
  {
   "cell_type": "markdown",
   "id": "7e5acdae",
   "metadata": {},
   "source": [
    "## Continuous Probability Distributions \n",
    "\n",
    "https://en.wikipedia.org/wiki/Random_variable\n",
    "\n",
    "* Normal\n",
    "    * z\n",
    "    * t\n",
    "\n",
    "A continuous random variable X takes all values in a given interval\n",
    "* Often plotted as a curve, or density curve\n",
    "* P(some float) != 0"
   ]
  },
  {
   "cell_type": "markdown",
   "id": "ef4d74a3",
   "metadata": {},
   "source": [
    "### The Normal (Gaussian) Distribution\n",
    "\n",
    "https://www.itl.nist.gov/div898/handbook/eda/section3/eda3661.htm\n",
    "\n",
    "### Normal Distribution Equation\n",
    "\n",
    "Compare the formula for the normal distribution as shown below\n",
    "\n",
    "$\n",
    "\\frac{1}{\\sqrt{2\\pi\\sigma^2}}\\large{e^\\frac{-(x-\\mu)^2}{2\\sigma^2}}\n",
    "$\n",
    "\n",
    "with the python code below\n",
    "\n",
    "1/(np.sqrt(2 * np.pi * sigma&ast;&ast;2)) * np.exp( - (x - mu)&ast;&ast;2 / (2 * sigma&ast;&ast;2))\n",
    "\n",
    "Let's break the code down:\n",
    "* x = our set of numbers \n",
    "* mu = mean\n",
    "* sigma&ast;&ast;2 (sigma squared) = variance of x (sigma = std)\n",
    "* exp = exponential\n",
    "* 1 is our numerator\n",
    "* np.sqrt(2 * np.pi * sigma&ast;&ast;2) = $\\sqrt{2\\pi\\sigma^2}$ NOTE: the two asterisk designate a power such as squared\n",
    "* np.exp( - (x - mu)&ast;&ast;2 / (2 * sigma&ast;&ast;2)) = $\\large{e^\\frac{-(x-\\mu)^2}{2\\sigma^2}}$"
   ]
  },
  {
   "cell_type": "markdown",
   "id": "00bb92de",
   "metadata": {},
   "source": [
    "### z Distribution\n",
    "\n",
    "* mu = 0\n",
    "* sigma = 1\n",
    "* 68% of the data lies within -1, 1 deviation\n",
    "* 95.45% of the data lies within -2, 2 deviations\n",
    "* 99.73% of the data lies within -3, 3 deviations\n",
    "* Emprical rule 68, 95, 99.7 rule. https://en.wikipedia.org/wiki/68%E2%80%9395%E2%80%9399.7_rule\n",
    "* z score: $z = \\frac{x-\\mu}{\\sigma}$"
   ]
  },
  {
   "cell_type": "code",
   "execution_count": 22,
   "id": "ffa63ebf",
   "metadata": {},
   "outputs": [
    {
     "data": {
      "image/png": "[encoded data removed]",
      "text/plain": [
       "<Figure size 432x288 with 1 Axes>"
      ]
     },
     "metadata": {
      "needs_background": "light"
     },
     "output_type": "display_data"
    }
   ],
   "source": [
    "# standard normal distribution with numpy\n",
    "# https://numpy.org/doc/stable/reference/random/generated/numpy.random.normal.html\n",
    "import numpy as np\n",
    "import matplotlib.pyplot as plt\n",
    "\n",
    "mu = 0\n",
    "sigma = 1\n",
    "x = np.random.normal(0, 1, 10000) \n",
    "plt.hist(x, density=True, bins=25, alpha=0.3)\n",
    "\n",
    "# plot the distribution curve\n",
    "x = np.sort(x)\n",
    "plt.plot(x, 1/(np.sqrt(2 * np.pi * sigma**2)) * np.exp( - (x - mu)**2 / (2 * sigma**2)), \n",
    "         linewidth=3, color='green', label='pdf')\n",
    "\n",
    "plt.xlabel('Standard Deviations')\n",
    "plt.ylabel('Probabilities')\n",
    "plt.axvline(x=mu, color='red', label='Mean')\n",
    "plt.title('Normal Standard Distribution')\n",
    "plt.legend()\n",
    "plt.show()"
   ]
  },
  {
   "cell_type": "code",
   "execution_count": 23,
   "id": "a1a61957",
   "metadata": {},
   "outputs": [
    {
     "data": {
      "text/plain": [
       "DescribeResult(nobs=10000, minmax=(-3.7126310751521605, 3.740154717047273), mean=-0.003923498492373392, variance=1.0014619333749648, skewness=0.013606663761635275, kurtosis=-0.01231891931599094)"
      ]
     },
     "execution_count": 23,
     "metadata": {},
     "output_type": "execute_result"
    }
   ],
   "source": [
    "# standard normal distribution with stats\n",
    "# https://docs.scipy.org/doc/scipy/reference/generated/scipy.stats.describe.html\n",
    "import scipy.stats as stats \n",
    "\n",
    "stats.describe(x)"
   ]
  },
  {
   "cell_type": "markdown",
   "id": "809e4c3e",
   "metadata": {},
   "source": [
    "### t Distribution\n",
    "\n",
    "https://www.statisticshowto.com/probability-and-statistics/t-distribution/\n",
    "\n",
    "The z-distribution assumes we know the population standard deviation while the t-distribution uses the sample standard deviation. The following is a review of the equations for both means and standard deviations: <br />\n",
    "\n",
    "**The Population Mean** <br />\n",
    "$\\mu = \\frac{\\sum{x_i}}{N}$<br />\n",
    "**The Sample Mean** <br />\n",
    "$\\bar{x} = \\frac{\\sum{x_i}}{n}$<br />\n",
    "**The Population Standard Deviation** <br />\n",
    "$\n",
    "\\sigma = \\sqrt{\\frac{1}{N}\\sum(x-\\bar{x})^2}\n",
    "$ <br />\n",
    "**The Sample Standard Deviation** <br />\n",
    "$\n",
    "s = \\sqrt{\\frac{1}{n-1}\\sum(x-\\bar{x})^2}\n",
    "$ \n",
    "\n",
    "Notice we're using Bessel's correction again. We can also call this a degree of freedom. Let's look at some standard deviations for our data.\n",
    "\n",
    "### n - 1\n",
    "\n",
    "According to Wikipedia (2022):\n",
    "\n",
    "In statistics, Bessel's correction is the use of n − 1 instead of n in the formula for the sample variance and sample standard deviation, where n is the number of observations in a sample. This method corrects the bias in the estimation of the population variance. It also partially corrects the bias in the estimation of the population standard deviation. However, the correction often increases the mean squared error in these estimations. This technique is named after Friedrich Bessel (para 1).\n",
    "\n",
    "Bessel's correction. (June 13, 2022). In *Wikipedia*. https://en.wikipedia.org/wiki/Bessel%27s_correction\n",
    "\n",
    "* What is bias? https://stats.libretexts.org/Bookshelves/Applied_Statistics/Book%3A_Answering_Questions_with_Data_-__Introductory_Statistics_for_Psychology_Students_(Crump)/04%3A_Probability_Sampling_and_Estimation/4.13%3A_Estimating_population_parameters \n",
    "* What are degrees of freedom? https://www.statisticshowto.com/probability-and-statistics/hypothesis-testing/degrees-of-freedom/"
   ]
  },
  {
   "cell_type": "code",
   "execution_count": 24,
   "id": "37c162eb",
   "metadata": {},
   "outputs": [
    {
     "name": "stdout",
     "output_type": "stream",
     "text": [
      "For size = 10:\n",
      "\tPopulation standard deviation: 1.0161\n",
      "\tSample standard deviation: 1.0711\n",
      "For size = 100:\n",
      "\tPopulation standard deviation: 0.9922\n",
      "\tSample standard deviation: 0.9972\n",
      "For size = 1000:\n",
      "\tPopulation standard deviation: 1.0533\n",
      "\tSample standard deviation: 1.0539\n",
      "For size = 10000:\n",
      "\tPopulation standard deviation: 1.0147\n",
      "\tSample standard deviation: 1.0148\n",
      "For size = 100000:\n",
      "\tPopulation standard deviation: 1.0013\n",
      "\tSample standard deviation: 1.0013\n"
     ]
    }
   ],
   "source": [
    "# pandas default standard deviation is based on a sample, larger N, closer pop and sample std\n",
    "import numpy as np\n",
    "\n",
    "for s in [10, 100, 1000, 10000, 100000]:\n",
    "    print(f'For size = {s}:')\n",
    "    data = np.random.normal(0, 1, s) \n",
    "    print(f'\\tPopulation standard deviation: {np.round(np.std(data, ddof=0), 4)}')\n",
    "    print(f'\\tSample standard deviation: {np.round(np.std(data, ddof=1), 4)}')"
   ]
  },
  {
   "cell_type": "markdown",
   "id": "927f3910",
   "metadata": {},
   "source": [
    "If we want to make a “best guess” about the value of the population standard deviation, we should make sure our guess is a little bit larger.\n",
    "\n",
    "Note, whether you should divide by N or n-1 also depends on your philosophy about what you are doing. For example, if you don’t think that what you are doing is estimating a population parameter, then why would you divide by n-1? Also, when N is large, it doesn’t matter too much. The difference between a big N, and a big n-1, is just -1.\n",
    "\n",
    "https://stats.libretexts.org/Bookshelves/Applied_Statistics/Book%3A_Answering_Questions_with_Data_-__Introductory_Statistics_for_Psychology_Students_(Crump)/04%3A_Probability_Sampling_and_Estimation/4.13%3A_Estimating_population_parameters"
   ]
  },
  {
   "cell_type": "code",
   "execution_count": 25,
   "id": "da43c7ee",
   "metadata": {},
   "outputs": [
    {
     "name": "stdout",
     "output_type": "stream",
     "text": [
      "The corresponding percentile for 1 standard deviation above the mean is 0.84 so,\n",
      "a z score for 0.84 percentile is ~0.98 and,\n",
      "the percentile for a z-score of 0.98 is ~0.84\n",
      "for normal distributions.\n"
     ]
    },
    {
     "data": {
      "image/png": "[encoded data removed]",
      "text/plain": [
       "<Figure size 432x288 with 1 Axes>"
      ]
     },
     "metadata": {
      "needs_background": "light"
     },
     "output_type": "display_data"
    }
   ],
   "source": [
    "# compare CDF and PPF\n",
    "import numpy as np\n",
    "import matplotlib.pyplot as plt \n",
    "import scipy.stats as stats\n",
    "\n",
    "X = stats.norm.rvs(size=10000)\n",
    "X.sort()\n",
    "\n",
    "parameters = stats.norm.fit(X) \n",
    "mu, sigma = parameters\n",
    "cdf_val = np.round(stats.norm.cdf(1, loc=mu, scale=sigma), 2)\n",
    "ppf_val = np.round(stats.norm.ppf(cdf_val, loc=mu, scale=sigma), 2)\n",
    "\n",
    "# using the cumulative density function and percent point function to get z scores and percentiles\n",
    "print(f'The corresponding percentile for 1 standard deviation above the mean is {cdf_val} so,')\n",
    "print(f'a z score for {cdf_val} percentile is ~{np.round(stats.norm.ppf(cdf_val, loc=mu, scale=sigma), 2)} and,')\n",
    "print(f'the percentile for a z-score of {ppf_val} is ~{np.round(stats.norm.cdf(ppf_val, loc=mu, scale=sigma), 2)}')\n",
    "print('for normal distributions.')\n",
    "\n",
    "fig, ax = plt.subplots()\n",
    "ax.plot(X, stats.norm.pdf(X, loc=mu, scale=sigma))\n",
    "ax.hist(X, bins=25, density=True, alpha=0.5)\n",
    "ax.set_xlabel('x')\n",
    "ax.set_ylabel('pdf(x)')\n",
    "ax.set_xlim(-3, 3)\n",
    "ax.grid(True)\n",
    "\n",
    "px=np.arange(-3, ppf_val, 0.01)\n",
    "ax.fill_between(px, stats.norm.pdf(px,loc=mu,scale=sigma), alpha=0.5, color='k')\n",
    "ax.text(0, 0.02, f'{cdf_val}%', fontsize=20, color='w')\n",
    "\n",
    "plt.title('Percentile of 1 Std Above Mean')\n",
    "plt.show()"
   ]
  },
  {
   "cell_type": "code",
   "execution_count": 26,
   "id": "835703b7",
   "metadata": {},
   "outputs": [
    {
     "data": {
      "image/png": "[encoded data removed]",
      "text/plain": [
       "<Figure size 432x288 with 1 Axes>"
      ]
     },
     "metadata": {
      "needs_background": "light"
     },
     "output_type": "display_data"
    }
   ],
   "source": [
    "# plot the cdf with ppf\n",
    "import numpy as np\n",
    "import matplotlib.pyplot as plt \n",
    "import scipy.stats as stats\n",
    "\n",
    "mu = 0\n",
    "sigma = 1\n",
    "cdf_val = np.round(stats.norm.cdf(1, loc=mu, scale=sigma), 2)\n",
    "ppf_val = np.round(stats.norm.ppf(.84, loc=mu, scale=sigma), 2)\n",
    "\n",
    "x = np.linspace(-3, 3, 100)\n",
    "y = stats.norm.cdf(x)\n",
    "plt.plot(x, y, 'b', label='cdf')\n",
    "plt.axvline(x=ppf_val, color='red', label='Mean')\n",
    "plt.title(f'percentile: ~{cdf_val}, z-score: ~{ppf_val}')\n",
    "plt.xlabel('X') \n",
    "plt.ylabel('cdf(X)') \n",
    "plt.grid(True)\n",
    "plt.show();"
   ]
  },
  {
   "cell_type": "markdown",
   "id": "fc2763b2",
   "metadata": {},
   "source": [
    "### Converting z Score to Precentile and Vice Versa\n",
    "\n",
    "Show and use the stats.norm.cdf and stats.norm.ppf formulas for the following. Round your answers to 2 decimal places.\n",
    "* What is the precentile associated with 2 standard deviations (z-score) above the mean?\n",
    "* What is the precentile associated with 1 standard deviation below the mean?\n",
    "* What is the z score associated with the 84 percentile?\n",
    "* What is the z score associated with the 2.1 percentile?"
   ]
  },
  {
   "cell_type": "code",
   "execution_count": 27,
   "id": "bdd073a3",
   "metadata": {},
   "outputs": [
    {
     "name": "stdout",
     "output_type": "stream",
     "text": [
      "percentile: 0.16\n",
      "z-score: 1.0\n"
     ]
    }
   ],
   "source": [
    "# https://en.wikipedia.org/wiki/Normal_distribution#/media/File:Standard_deviation_diagram.svg \n",
    "import numpy as np\n",
    "import matplotlib.pyplot as plt \n",
    "import scipy.stats as stats\n",
    "\n",
    "X = stats.norm.rvs(size=10000)\n",
    "X.sort()\n",
    "parameters = stats.norm.fit(X) \n",
    "mu, sigma = parameters\n",
    "print('percentile:', np.round(stats.norm.cdf(-1, loc=mu, scale=sigma), 2))\n",
    "print('z-score:', np.round(stats.norm.ppf(.84, loc=mu, scale=sigma), 2))"
   ]
  },
  {
   "cell_type": "markdown",
   "id": "7739ce12",
   "metadata": {},
   "source": [
    "## Hypothesis Testing\n",
    "\n",
    "https://medium.com/peter-flom-the-blog/should-you-even-do-a-hypothesis-test-c21607d31c4b\n",
    "\n",
    "A hypothesis is an explanation about something. For example, we can set up an experiment to see if something is the result of chance or the result of some underlying factor(s). We take samples and use statistical methods to analyze the samples. Hypothesis testing is associated with two hypotheses called the null hypothesis and the alternate hypothesis. We never prove a hypothesis, we either reject or fail to reject the null hypothesis.\n",
    "\n",
    "As an example we might say that the class average is an A. This assumption is the null hypothesis, $H_0$, and the alternative hypothesis, $H_a$, is that the class average is not an A.\n",
    "\n",
    "* Null hypothesis: class average = A\n",
    "* Alternative hypothesis: class average $\\ne$ A\n",
    "\n",
    "After sampling from the class population we find that the class average is not an A. But we want the class average to be an A so we set up an intervention to improve the class average. We put in place the intervention and now want to compare where the class average was with where the class average is now.\n",
    "\n",
    "* Null hypothesis: old class average $\\geq$ new class average\n",
    "* Alternative hypothesis: old class average $\\lt$ new class average\n",
    "\n",
    "The alternative hypothesis is what I want to be true. The null hypothesis will contain an equality ($=$, $\\geq$, $\\leq$) while the alternative hypothesis contains ($\\ne$, $>$, $<$).\n",
    "\n",
    "Please review https://www.statisticshowto.com/probability-and-statistics/hypothesis-testing/one-tailed-test-or-two/\n",
    "\n",
    "- For a one tailed null hypothesis we see $\\leq$ or $\\geq$\n",
    "- For a one tailed alt hypothesis we see $<$ or $>$\n",
    "- For a two tailed null hypothesis we see the symbol $=$\n",
    "- For a two tailed alt hypothesis we see the symbol $\\ne$\n",
    "\n",
    "**For a One Tailed Test**\n",
    "- a null hypothesis might be $\\mu_1 \\geq \\mu_2$,\n",
    "- and the alt hypothesis would be $\\mu_1 < \\mu_2$\n",
    "\n",
    "**For a Two Tailed Test**\n",
    "- a null hypothesis might be $\\mu_1 = \\mu_2$,\n",
    "- and the alt hypothesis would be $\\mu_1 \\ne \\mu_2$\n",
    "\n",
    "Remember, we never accept the null hypothesis, we either reject it or fail to reject it."
   ]
  },
  {
   "cell_type": "code",
   "execution_count": 30,
   "id": "eadb2b1b",
   "metadata": {},
   "outputs": [
    {
     "data": {
      "image/png": "[encoded data removed]",
      "text/plain": [
       "<Figure size 432x288 with 1 Axes>"
      ]
     },
     "metadata": {
      "needs_background": "light"
     },
     "output_type": "display_data"
    }
   ],
   "source": [
    "# example of two tailed hypothesis\n",
    "import numpy as np\n",
    "import matplotlib.pyplot as plt\n",
    "import matplotlib.patches as mpatches\n",
    "import scipy.stats as stats\n",
    "\n",
    "x = np.linspace(-3, 3, 1000)\n",
    "\n",
    "fig, ax = plt.subplots()\n",
    "ax.plot(x, stats.norm.pdf(x,loc=0,scale=1))\n",
    "ax.set_xlabel('x')\n",
    "ax.set_ylabel('pdf(x)')\n",
    "ax.grid(True)\n",
    "stds = 2.4 # how many standard deviations from the mean\n",
    "full_range = np.arange(-3, 3, 0.01)\n",
    "ax.fill_between(full_range, stats.norm.pdf(full_range,loc=0,scale=1), color='b')\n",
    "px=np.arange(-stds,stds,0.01)\n",
    "ax.fill_between(px,stats.norm.pdf(px,loc=0,scale=1), color='r')\n",
    "plt.title('Two Tailed: The shaded part represents the null hypothesis')\n",
    "red_patch = mpatches.Patch(color='red', label=f'$H_0$ = likely observations')\n",
    "blue_patch = mpatches.Patch(color='blue', label=f'$H_a$ = unlikely observations')\n",
    "plt.legend(handles=[red_patch, blue_patch])\n",
    "plt.show()"
   ]
  },
  {
   "cell_type": "markdown",
   "id": "997f07b6",
   "metadata": {},
   "source": [
    "**For a Two Tailed Test**\n",
    "\n",
    "- For a two tailed null hypothesis we see the symbol $=$\n",
    "- For a two tailed alt hypothesis we see the symbol $\\ne$"
   ]
  },
  {
   "cell_type": "code",
   "execution_count": 31,
   "id": "4c4c9d13",
   "metadata": {},
   "outputs": [
    {
     "data": {
      "image/png": "[encoded data removed]",
      "text/plain": [
       "<Figure size 432x288 with 1 Axes>"
      ]
     },
     "metadata": {
      "needs_background": "light"
     },
     "output_type": "display_data"
    }
   ],
   "source": [
    "# example of one tailed hypothesis\n",
    "\n",
    "X = stats.norm.rvs(size=1000)\n",
    "X.sort()\n",
    "fig, ax = plt.subplots()\n",
    "\n",
    "ax.plot(X, stats.norm.pdf(X, loc=0, scale=1))\n",
    "ax.set_xlabel('x')\n",
    "ax.set_ylabel('pdf(x)')\n",
    "ax.grid(True)\n",
    "px=np.arange(-3, 2, 0.01)\n",
    "ax.set_xlim(-3, 3)\n",
    "full_range = np.arange(-3, 3, 0.01)\n",
    "ax.fill_between(full_range, stats.norm.pdf(full_range,loc=0,scale=1), color='b')\n",
    "ax.fill_between(px,stats.norm.pdf(px, loc=0, scale=1), color='r')\n",
    "plt.title('One Tail: The shaded part represents the null hypothesis')\n",
    "red_patch = mpatches.Patch(color='red', label=f'$H_0$ = likely observations')\n",
    "blue_patch = mpatches.Patch(color='blue', label=f'$H_a$ = unlikely observations')\n",
    "plt.legend(handles=[red_patch, blue_patch])\n",
    "plt.show()"
   ]
  },
  {
   "cell_type": "markdown",
   "id": "b6d5d681",
   "metadata": {},
   "source": [
    "**For a One Tailed Test**\n",
    "\n",
    "- a null hypothesis might be $\\mu_1 \\geq \\mu_2$,\n",
    "- and the alt hypothesis would be $\\mu_1 < \\mu_2$"
   ]
  },
  {
   "cell_type": "markdown",
   "id": "3183e660",
   "metadata": {},
   "source": [
    "### Type 1 and Type 2 Errors\n",
    "\n",
    "- Hypothesis testing is used against results that are already known\n",
    "- Type I error: Reject null hypothesis that should have been supported\n",
    "- $\\alpha$ (alpha) is the probability of type I error in any hypothesis test-incorrectly rejecting the null hypothesis (1 - $\\alpha$ is the confidence interval)\n",
    "- Set off the fire alarm when there is no fire\n",
    "- Type II error: Fail to reject a null hypothesis that should have been rejected\n",
    "- $\\beta$ (beta) is the probability of type II error in any hypothesis test - incorrectly failing to reject the null hypothesis (1 - $\\beta$ is the power)\n",
    "- Fail to set off the fire alarm when there is a fire\n",
    "\n",
    "https://economics.stackexchange.com/questions/27677/type-i-error-type-ii-error-pregnancy-test-analogy-is-it-legit"
   ]
  },
  {
   "cell_type": "markdown",
   "id": "3958bfed",
   "metadata": {},
   "source": [
    "### Confidence Intervals \n",
    "\n",
    "* variance\n",
    "* samples\n",
    "\n",
    "We more confident when numbers are closer together\n",
    "* (1, 3, 5)\n",
    "* (2.9, 3.0, 3.1)\n",
    "\n",
    "What are we more confident with?\n",
    "* Coin flip of 10, mean = 0.6\n",
    "* Coin flip of 1000, mean = 0.6\n",
    "\n",
    "Two things affect our confidence\n",
    "* How spread out the distribution (more spread out, less confident)\n",
    "* Number of samples\n",
    "* Fatter tails mean more probability for extreme values\n",
    "\n",
    "Significance and Confidence Levels\n",
    "* Flip a coin 100 times and calculate results\n",
    "* Flip another coin 100 times and calculate results\n",
    "* Is one coin better than the other? Do they have the same results?\n",
    "\n",
    "Again: Number of samples collected and variance of samples\n",
    "\n",
    "Factors affecting statistical significance\n",
    "* Variance\n",
    "* Effect size (difference in means)\n",
    "* Sample size\n",
    "\n",
    "https://aegis4048.github.io/comprehensive_confidence_intervals_for_python_developers\n",
    "\n",
    "Check out the conclusion to this article: https://www.mathsisfun.com/data/confidence-interval.html\n",
    "\n",
    "A confidence interval is the mean of your estimate plus and minus the variation in that estimate. This is the range of values you expect your estimate to fall between if you redo your test, within a certain level of confidence. Confidence, in statistics, is another way to describe probability.\n",
    "\n",
    "https://www.scribbr.com/statistics/confidence-interval/\n",
    "\n",
    "In frequentist statistics, a confidence interval (CI) is a range of estimates for an unknown parameter. A confidence interval is computed at a designated confidence level. The 95% level is most common, but other levels (such as 90% or 99%) are sometimes used. The confidence level represents the long-run proportion of correspondingly computed intervals that end up containing the true value of the parameter. For example, out of all confidence intervals computed at the 95% level, 95% of them should contain the parameter's true value.\n",
    "\n",
    "https://en.wikipedia.org/wiki/Confidence_interval"
   ]
  },
  {
   "cell_type": "markdown",
   "id": "36d754f7",
   "metadata": {},
   "source": [
    "### Significance and Confidence Levels"
   ]
  },
  {
   "cell_type": "code",
   "execution_count": 32,
   "id": "2c49decc",
   "metadata": {},
   "outputs": [
    {
     "data": {
      "image/png": "[encoded data removed]",
      "text/plain": [
       "<Figure size 432x288 with 1 Axes>"
      ]
     },
     "metadata": {
      "needs_background": "light"
     },
     "output_type": "display_data"
    }
   ],
   "source": [
    "# example of one tailed hypothesis\n",
    "import numpy as np\n",
    "import matplotlib.pyplot as plt\n",
    "import matplotlib.patches as mpatches\n",
    "import scipy.stats as stats\n",
    "\n",
    "X = stats.norm.rvs(size=1000)\n",
    "X.sort()\n",
    "fig, ax = plt.subplots()\n",
    "\n",
    "ax.plot(X, stats.norm.pdf(X, loc=0, scale=1))\n",
    "ax.set_xlabel('x')\n",
    "ax.set_ylabel('pdf(x)')\n",
    "ax.grid(True)\n",
    "px=np.arange(-3, 2, 0.01)\n",
    "ax.set_xlim(-3, 3)\n",
    "full_range = np.arange(-3, 3, 0.01)\n",
    "ax.fill_between(full_range, stats.norm.pdf(full_range,loc=0,scale=1), color='b')\n",
    "ax.fill_between(px,stats.norm.pdf(px, loc=0, scale=1), color='r')\n",
    "plt.title('One Tail: The shaded part represents the null hypothesis')\n",
    "red_patch = mpatches.Patch(color='red', label=f'$H_0$ = likely observations')\n",
    "blue_patch = mpatches.Patch(color='blue', label=f'$H_a$ = unlikely observations')\n",
    "plt.axhline(y=0.05)\n",
    "plt.legend(handles=[red_patch, blue_patch])\n",
    "plt.show()"
   ]
  },
  {
   "cell_type": "code",
   "execution_count": 33,
   "id": "715eba71",
   "metadata": {},
   "outputs": [
    {
     "data": {
      "image/png": "[encoded data removed]",
      "text/plain": [
       "<Figure size 432x288 with 1 Axes>"
      ]
     },
     "metadata": {
      "needs_background": "light"
     },
     "output_type": "display_data"
    }
   ],
   "source": [
    "# example of two tailed hypothesis\n",
    "x = np.linspace(-3, 3, 1000)\n",
    "\n",
    "fig, ax = plt.subplots()\n",
    "ax.plot(x, stats.norm.pdf(x,loc=0,scale=1))\n",
    "ax.set_xlabel('x')\n",
    "ax.set_ylabel('pdf(x)')\n",
    "ax.grid(True)\n",
    "stds = 2.4 # how many standard deviations from the mean\n",
    "full_range = np.arange(-3, 3, 0.01)\n",
    "ax.fill_between(full_range, stats.norm.pdf(full_range,loc=0,scale=1), color='b')\n",
    "px=np.arange(-stds,stds,0.01)\n",
    "ax.fill_between(px,stats.norm.pdf(px,loc=0,scale=1), color='r')\n",
    "plt.title('Two Tailed: The shaded part represents the null hypothesis')\n",
    "red_patch = mpatches.Patch(color='red', label=f'$H_0$ = likely observations')\n",
    "blue_patch = mpatches.Patch(color='blue', label=f'$H_a$ = unlikely observations')\n",
    "plt.axhline(y=0.025)\n",
    "plt.legend(handles=[red_patch, blue_patch])\n",
    "plt.show()"
   ]
  },
  {
   "cell_type": "markdown",
   "id": "881c6af0",
   "metadata": {},
   "source": [
    "### Significance Level and Critical Value\n",
    "\n",
    "A low probability value casts doubt on the null hypothesis.\n",
    "\n",
    "Our significance level corresponds to the area under the tail that is exactly equal to α: if we use our normal criterion of  α  = .05, then 5% of the area under the curve becomes what we call the rejection region (also called the critical region) of the distribution.\n",
    "\n",
    "In hypothesis testing, the value corresponding to a specific rejection region is called the critical value.\n",
    "\n",
    "https://stats.libretexts.org/Bookshelves/Applied_Statistics/Book%3A_An_Introduction_to_Psychological_Statistics_(Foster_et_al.)/07%3A__Introduction_to_Hypothesis_Testing/7.05%3A_Critical_values_p-values_and_significance_level"
   ]
  },
  {
   "cell_type": "markdown",
   "id": "1c447177",
   "metadata": {},
   "source": [
    "### p Value\n",
    "\n",
    "For a p value test:\n",
    "- Get the test statistic\n",
    "- Use it to determine the p-value\n",
    "- Compare the p-value to the level of significance\n",
    "- If the p-value is low the null must go! Reject $H_0$\n",
    "- If the p-value is high the null must fly! Fail to reject $H_0$\n",
    "\n",
    "\"The p value is the evidence against a null hypothesis. The smaller the p-value, the stronger the evidence that you should reject the null hypothesis.\"\n",
    "\n",
    "Stephanie Glen. \"P-Value in Statistical Hypothesis Tests: What is it?\" From StatisticsHowTo.com: Elementary Statistics for the rest of us! https://www.statisticshowto.com/probability-and-statistics/statistics-definitions/p-value/\n",
    "\n",
    "The lower the p value, the more predictive the feature is in principle. When we run tests, we are often concerned with the alpha level to help us reject or fail to reject the null hypothesis. The alpha level is (1 - our confidence interval), so if we wanted to have a confidence level of 95% we would use a alpha value of 5%. If our p value is less than the alpha value then the evidence points to rejecting the null hypothesis. If our p values is less than the alpha value then we can say our results are statistcally significant. We found something that is probably not the result of chance. But beware.\n",
    "\n",
    "\"The general definition of a P value may help one to understand why statistical tests tell us much less than what many think they do: Not only does a P value not tell us whether the hypothesis targeted for testing is true or not; it says nothing specifically related to that hypothesis unless we can be completely assured that every other assumption used for its computation is correct—an assurance that is lacking in far too many studies.\"\n",
    "\n",
    "Greenland, S., Senn, S. J., Rothman, K. J., Carlin, J. B., Poole, C., Goodman, S. N., & Altman, D. G. (2016). Statistical tests, P values, confidence intervals, and power: a guide to misinterpretations. European journal of epidemiology, 31(4), 337–350. https://doi.org/10.1007/s10654-016-0149-3\n",
    "\n",
    "We work on the left side of a one tailed test with - z scores and vice versa."
   ]
  },
  {
   "cell_type": "markdown",
   "id": "55ba56a9",
   "metadata": {},
   "source": [
    "### Misuse of p-Value\n",
    "\n",
    "The following list clarifies some issues that are commonly misunderstood regarding p-values:\n",
    "\n",
    "* The p-value is not the probability that the null hypothesis is true, or the probability that the alternative hypothesis is false. A p-value can indicate the degree of compatibility between a dataset and a particular hypothetical explanation (such as a null hypothesis). Specifically, the p-value can be taken as the prior probability of obtaining an effect that is at least as extreme as the observed effect, given that the null hypothesis is true. This should not be confused with the posterior probability that the null hypothesis is true given the observed effect (see prosecutor's fallacy). In fact, frequentist statistics does not attach probabilities to hypotheses.\n",
    "* The p-value is not the probability that the observed effects were produced by random chance alone. The p-value is computed under the assumption that a certain model, usually the null hypothesis, is true. This means that the p-value is a statement about the relation of the data to that hypothesis.\n",
    "* The 0.05 significance level is merely a convention. The 0.05 significance level (alpha level) is often used as the boundary between a statistically significant and a statistically non-significant p-value. However, this does not imply that there is generally a scientific reason to consider results on opposite sides of any threshold as qualitatively different.\n",
    "* The p-value does not indicate the size or importance of the observed effect. A small p-value can be observed for an effect that is not meaningful or important. In fact, the larger the sample size, the smaller the minimum effect needed to produce a statistically significant p-value (see effect size). Visualizing effect sizes is a critical component of a data-analysis method called estimation statistics.\n",
    "\n",
    "https://en.wikipedia.org/wiki/Misuse_of_p-values\n",
    "\n",
    "READ THIS: https://www.ncbi.nlm.nih.gov/pmc/articles/PMC5738950/"
   ]
  },
  {
   "cell_type": "markdown",
   "id": "fe464c4f",
   "metadata": {},
   "source": [
    "## Tests and T Tests"
   ]
  },
  {
   "cell_type": "markdown",
   "id": "335a7cef",
   "metadata": {},
   "source": [
    "### Parametric Tests \n",
    "\n",
    "(has assumptions about the distribution such as mean and standard deviation, population is known)\n",
    "- Paired t-Test\n",
    "- Unpaired t-Test\n",
    "- Pearson Correlation\n",
    "- One Way ANOVA\n",
    "\n",
    "### Non-parametric tests \n",
    "\n",
    "(does not assume anything about the distribution, population is not known)\n",
    "- Wilcoxon Rank Sum Test\n",
    "- Mann-Whitney U Test\n",
    "- Spearman Correlation\n",
    "- Kruskal Wallis Test"
   ]
  },
  {
   "cell_type": "markdown",
   "id": "2185f9d0",
   "metadata": {},
   "source": [
    "### Student's t Test\n",
    "\n",
    "- When we use z scores with a normal distribution, we have to know the population's standard deviation\n",
    "- Student's T-Distribution developed by William Sealy Gossett while working at Guinness Brewery but couldn't use his name\n",
    "- Student's t-test determines if there is a significant difference between two sets of data\n",
    "- Can't just compare means due to variance and outliers\n",
    "- t-test also considers sample variances"
   ]
  },
  {
   "cell_type": "markdown",
   "id": "c4150649",
   "metadata": {},
   "source": [
    "### Welch's T-Test\n",
    "\n",
    "* Variance's are not similar so we can't use pooled variance\n",
    "* Welch's t-test removes assumption of similar variances\n",
    "* t statistic is slightly different with different number of degrees of freedom - $\\nu$"
   ]
  },
  {
   "cell_type": "markdown",
   "id": "60015409",
   "metadata": {},
   "source": [
    "### Fisher's Exact Test\n",
    "\n",
    "Although in practice it is employed when sample sizes are small, it is valid for all sample sizes. It is named after its inventor, Ronald Fisher, and is one of a class of exact tests, so called because the significance of the deviation from a null hypothesis (e.g., P-value) can be calculated exactly, rather than relying on an approximation that becomes exact in the limit as the sample size grows to infinity, as with many statistical tests."
   ]
  },
  {
   "cell_type": "markdown",
   "id": "18a80eb3",
   "metadata": {},
   "source": [
    "### Levene Test\n",
    "\n",
    "Levene's test ( Levene 1960) is used to test if k samples have equal variances. Equal variances across samples is called homogeneity of variance. Some statistical tests, for example the analysis of variance, assume that variances are equal across groups or samples. The Levene test can be used to verify that assumption.\n",
    "\n",
    "https://www.itl.nist.gov/div898/handbook/eda/section3/eda35a.htm"
   ]
  },
  {
   "cell_type": "markdown",
   "id": "b00f2e8f",
   "metadata": {},
   "source": [
    "### Kolmogorov-Smirnov Test\n",
    "\n",
    "In statistics, the Kolmogorov–Smirnov test (K-S test or KS test) is a nonparametric test of the equality of continuous (or discontinuous, see Section 2.2), one-dimensional probability distributions that can be used to compare a sample with a reference probability distribution (one-sample K–S test), or to compare two samples (two-sample K–S test). In essence, the test answers the question \"What is the probability that this collection of samples could have been drawn from that probability distribution?\" or, in the second case, \"What is the probability that these two sets of samples were drawn from the same (but unknown) probability distribution?\". It is named after Andrey Kolmogorov and Nikolai Smirnov.\n",
    "\n",
    "https://en.wikipedia.org/wiki/Kolmogorov%E2%80%93Smirnov_test"
   ]
  },
  {
   "cell_type": "markdown",
   "id": "67cc32ae",
   "metadata": {},
   "source": [
    "### Mann-Whitney U Test \n",
    "\n",
    "In statistics, the Mann–Whitney U test (also called the Mann–Whitney–Wilcoxon (MWW/MWU), Wilcoxon rank-sum test, or Wilcoxon–Mann–Whitney test) is a nonparametric test of the null hypothesis that, for randomly selected values X and Y from two populations, the probability of X being greater than Y is equal to the probability of Y being greater than X.\n",
    "\n",
    "https://en.wikipedia.org/wiki/Mann%E2%80%93Whitney_U_test"
   ]
  },
  {
   "cell_type": "markdown",
   "id": "c23827d4",
   "metadata": {},
   "source": [
    "## Tests of Means\n",
    "\n",
    "### One Sample t Test\n",
    "\n",
    "- We don't know the population standard deviation\n",
    "- Tests null hypothesis that population mean is equal to a specified $\\mu$ based on a sample mean $\\bar{x}$\n",
    "- Sample mean = Class mean\n",
    "\n",
    "t-statistic:\n",
    "- $t = \\frac{\\bar{x} - \\mu}{s/\\sqrt{n}}$\n",
    "- s = sample standard error\n",
    "\n",
    "### Independent Two-Sample t-Test\n",
    "\n",
    "- $H_0$: $\\bar{x_1} = \\bar{x_2}$\n",
    "- Are two samples from the class equal?\n",
    "\n",
    "t-statistic can have:\n",
    "- equal sample sizes, equal variance\n",
    "- unequal sample sizes, equal variance\n",
    "- equal of unequal sample sizes, unequal variance (Welch's t-test)\n",
    "\n",
    "t = signal/noise = difference in means/sample variability = $\\frac{(\\bar{x_1} - \\bar{x_2})}{\\sqrt{\\frac{s_1^2}{n_1}+\\frac{s_2^2}{n_2}}}$\n",
    "\n",
    "Compared to a t-score:\n",
    "- $t$ = t-statistic\n",
    "- $t_{df, \\alpha}$ = t-critical\n",
    "- df = degrees of freedom \n",
    "- General formula for df = n1 + n2 - 2 for equal variance or \n",
    "- Also see Welch-Satterthwaite Formula\n",
    "- $\\alpha$ = significance level\n",
    "\n",
    "### Dependent Paired-Sample t-Test\n",
    "\n",
    "- Used when the 2 samples are dependent\n",
    "- Repeated measures\n",
    "- Means of before and after learning\n",
    "\n",
    "### Pooled Variance\n",
    "\n",
    "Pooled variance (also called combined, composite, or overall variance) is a way to estimate common variance when you believe that different populations have the same variances.\n",
    "\n",
    "https://www.statisticshowto.com/pooled-variance/\n",
    "\n",
    "Stephanie Glen. \"Pooled Variance\" From StatisticsHowTo.com: Elementary Statistics for the rest of us! https://www.statisticshowto.com/pooled-variance/\n",
    "\n",
    "The standard error of a sample is another name for the standard deviation of a sample (it tells you how spread out your data is from some the mean). A pooled standard error accounts for two sample variances and assumes that both of the variances from the two samples are equal. It’s called a “pooled” standard error because you’re pooling the data from both samples into one. There’s a slight difference between standard deviation and pooled sample standard error:\n",
    "\n",
    "* When we are talking about a population, we talk about standard deviations.\n",
    "* When we talk about a sample we call it a standard error.\n",
    "\n",
    "https://www.statisticshowto.com/find-pooled-sample-standard-error/\n",
    "\n",
    "Stephanie Glen. \"Pooled Sample Standard Error: How to Calculate it\" From StatisticsHowTo.com: Elementary Statistics for the rest of us! https://www.statisticshowto.com/find-pooled-sample-standard-error/\n",
    "\n",
    "### Tests of Means vs Tests of Proportion\n",
    "\n",
    "Test of means (comparing means of groups):\n",
    "- $z = \\frac{\\bar{x} - \\mu}{\\sigma/\\sqrt{n}}$\n",
    "- z assumes we know the population standard deviation\n",
    "- t is used when we don't know the population standard deviation\n",
    "\n",
    "Test of proportions (saying like 75%, or most, of the time):\n",
    "- $z = \\frac{\\hat{p} - p}{\\sqrt{\\frac{p (1 - p)}{n}}}$\n"
   ]
  },
  {
   "cell_type": "markdown",
   "id": "20704780",
   "metadata": {},
   "source": [
    "### Example\n",
    "\n",
    "Pizza delivery takes, on average, 31 minutes with a standard deviation of 7 minutes. We want faster delivery times so we provide bonuses to drivers that deliver under 30 minutes. We take a sample of size 40 of these new deliveries and find that the mean of the sample = 28. We want the confidence level to be 95%.\n",
    "\n",
    "- State the null hypothesis: $H_0: old average \\geq new average$\n",
    "- State the alternative hypothesis: $H_a: new average \\lt old average$\n",
    "- Determine test type (left tail, right tail, two tail)\n",
    "- Since we want an improved outcome this will be one tailed left\n",
    "- $z = \\frac{\\bar{x} - \\mu}{\\sigma/\\sqrt{n}}$"
   ]
  },
  {
   "cell_type": "code",
   "execution_count": 34,
   "id": "02945da5",
   "metadata": {},
   "outputs": [
    {
     "data": {
      "text/plain": [
       "-2.711"
      ]
     },
     "execution_count": 34,
     "metadata": {},
     "output_type": "execute_result"
    }
   ],
   "source": [
    "# find test statistic from our formula\n",
    "import numpy as np\n",
    "\n",
    "test_statistic = (28 - 31) / (7/np.sqrt(40))\n",
    "np.round(test_statistic, 3)"
   ]
  },
  {
   "cell_type": "code",
   "execution_count": 35,
   "id": "bf9da635",
   "metadata": {},
   "outputs": [
    {
     "data": {
      "text/plain": [
       "-1.645"
      ]
     },
     "execution_count": 35,
     "metadata": {},
     "output_type": "execute_result"
    }
   ],
   "source": [
    "# find critical value\n",
    "from scipy import stats\n",
    "\n",
    "critical_value = stats.norm.ppf(0.05)\n",
    "np.round(critical_value, 3)"
   ]
  },
  {
   "cell_type": "markdown",
   "id": "3c2cd05d",
   "metadata": {},
   "source": [
    "Since -2.711 is more extreme than -1.645 we reject the null hypothesis. Our bonuses worked."
   ]
  },
  {
   "cell_type": "code",
   "execution_count": 38,
   "id": "9c23619d",
   "metadata": {},
   "outputs": [
    {
     "data": {
      "text/plain": [
       "0.003"
      ]
     },
     "execution_count": 38,
     "metadata": {},
     "output_type": "execute_result"
    }
   ],
   "source": [
    "# p-value approach\n",
    "import scipy\n",
    "\n",
    "np.round(scipy.stats.norm.sf(abs(test_statistic)), 3)"
   ]
  },
  {
   "cell_type": "markdown",
   "id": "bf025622",
   "metadata": {},
   "source": [
    "### Distribution of the Test Statistic\n",
    "\n",
    "* The distribution of the test statistic tends toward a normal distribution as the sample size increases (central limit theorem)"
   ]
  },
  {
   "cell_type": "code",
   "execution_count": 39,
   "id": "94bfcc6c",
   "metadata": {},
   "outputs": [
    {
     "data": {
      "image/png": "[encoded data removed]",
      "text/plain": [
       "<Figure size 504x360 with 4 Axes>"
      ]
     },
     "metadata": {
      "needs_background": "light"
     },
     "output_type": "display_data"
    }
   ],
   "source": [
    "import numpy as np\n",
    "import matplotlib.pyplot as plt\n",
    "\n",
    "p = np.array([245, 0, 0, 0, 0, 0, 0, 0, 0,  1, 3, 1, 3, 2, 9, 18, 22, 10, 6, 2, 2, 1, 2, 1, 1])\n",
    "a = np.arange(len(p))\n",
    "p = p / p.sum()\n",
    "loc = (p*np.arange(len(p))).sum()\n",
    "nn = [1, 10, 20, 40]\n",
    "f, axx = plt.subplots(2, 2, figsize=(7, 5))\n",
    "\n",
    "for i, n in enumerate(nn):\n",
    "    r, c = divmod(i, 2)\n",
    "    x = p\n",
    "    ax = axx[r, c]\n",
    "    for _ in range(n):\n",
    "        x = np.convolve(x, p)\n",
    "        \n",
    "    ax.bar(np.arange(len(x))/n, x*n, width=1/n)\n",
    "    ax.set_ylim([0, 0.51])\n",
    "    ax.vlines(loc, 0, 0.51, 'r')\n",
    "    ax.set_xlabel('statistic')\n",
    "    ax.set_ylabel('prob density')\n",
    "    ax.set_title(f'sample size {n}')\n",
    "    \n",
    "f.tight_layout();"
   ]
  },
  {
   "cell_type": "markdown",
   "id": "3f9af37b",
   "metadata": {},
   "source": [
    "## A/B Testing"
   ]
  },
  {
   "cell_type": "markdown",
   "id": "eda74615",
   "metadata": {},
   "source": [
    "### Practical, or Substantive, Significance\n",
    "\n",
    "* The fact that an estimated regression coefficient is “statistically significant” (i.e., you can reject the null hypothesis that the true β is 0 with a high level of confidence) does not mean that your independent variable is substantively important."
   ]
  },
  {
   "cell_type": "markdown",
   "id": "d08aa53a",
   "metadata": {},
   "source": [
    "### Power (Sensitivity)\n",
    "\n",
    "<img src='https://www.statisticshowto.com/wp-content/uploads/2015/04/statistical-power.png' />\n",
    "\n",
    "* Beta is directly related to the power of a test. Power relates to how likely a test is to distinguish an actual effect from one you could expect to happen by chance alone. Beta plus the power of a test is always equal to 1. Usually, researchers will refer to the power of a test (e.g. a power of .8), leaving the beta level (.2 in this case) as implied. https://www.statisticshowto.com/beta-level/\n",
    "\n",
    "* The statistical power of a binary hypothesis test is the probability that the test correctly rejects the null hypothesis $H_{0}$ when a specific alternative hypothesis $H_{a}$ is true. It is commonly denoted by $1-\\beta$ , and represents the chances of a \"true positive\" detection conditional on the actual existence of an effect to detect. Statistical power ranges from 0 to 1, and as the power of a test increases, the probability $\\beta$  of making a type II error by wrongly failing to reject the null hypothesis decreases. https://en.wikipedia.org/wiki/Power_of_a_test"
   ]
  },
  {
   "cell_type": "markdown",
   "id": "979f09d3",
   "metadata": {},
   "source": [
    "### Conversion Rates\n",
    "\n",
    "* Conversion rate: Conversion rates are calculated by simply taking the number of conversions and dividing that by the number of total ad interactions that can be tracked to a conversion during the same time period. For example, if you had 50 conversions from 1,000 interactions, your conversion rate would be 5%, since 50 ÷ 1,000 = 5%. https://support.google.com/google-ads/answer/2684489?hl=en\n",
    "* Baseline conversion rate: Current conversion rate represented as a percentage"
   ]
  },
  {
   "cell_type": "markdown",
   "id": "b10aed00",
   "metadata": {},
   "source": [
    "### Minimum Detectable Effect\n",
    "\n",
    "Minimum Detectable Effect = Practical Significance Level\n",
    "\n",
    "Minimum detectable effect (MDE) is a calculation that estimates the smallest improvement you are willing to be able to detect. It determines how \"sensitive\" an experiment is. Use MDE to estimate how long an experiment will take given the following:\n",
    "\n",
    "* Baseline conversion rate\n",
    "* Statistical significance\n",
    "* Traffic allocation\n",
    "\n",
    "https://support.optimizely.com/hc/en-us/articles/4410288881293-Use-minimum-detectable-effect-MDE-when-designing-an-experiment"
   ]
  },
  {
   "cell_type": "markdown",
   "id": "39b22ee8",
   "metadata": {},
   "source": [
    "### Effect Size\n",
    "\n",
    "* In statistics, an effect size is a value measuring the strength of the relationship between two variables in a population, or a sample-based estimate of that quantity. It can refer to the value of a statistic calculated from a sample of data, the value of a parameter for a hypothetical population, or to the equation that operationalizes how statistics or parameters lead to the effect size value. https://en.wikipedia.org/wiki/Effect_size\n",
    "* https://www.simplypsychology.org/effect-size.html"
   ]
  },
  {
   "cell_type": "markdown",
   "id": "b0976ea7",
   "metadata": {},
   "source": [
    "### Sample Size\n",
    "\n",
    "https://www.evanmiller.org/ab-testing/sample-size.html"
   ]
  },
  {
   "cell_type": "code",
   "execution_count": 42,
   "id": "a5b550ee",
   "metadata": {},
   "outputs": [
    {
     "name": "stdout",
     "output_type": "stream",
     "text": [
      "Effect Size: -0.0491\n",
      "Sample Size: 6507\n"
     ]
    }
   ],
   "source": [
    "# power analysis\n",
    "import statsmodels.stats.api as sms\n",
    "\n",
    "effect_size = sms.proportion_effectsize(0.20, 0.22) # baseline = .20, MDE = 2%\n",
    "print(f'Effect Size: {effect_size.round(4)}')\n",
    "\n",
    "size = sms.NormalIndPower().solve_power(\n",
    "    effect_size, \n",
    "    power=0.8, \n",
    "    alpha=0.05, \n",
    "    ratio=1\n",
    "    )\n",
    "                \n",
    "print(f'Sample Size: {round(size)}')"
   ]
  },
  {
   "cell_type": "markdown",
   "id": "4540daf4",
   "metadata": {},
   "source": [
    "## Scenario\n",
    "\n",
    "We have a web page with a learn more button. We know that there is 13% conversion rate when new visitors click on the learn more button. The web team has designed a new page with a new look for the learn more button in hopes of a 2% conversion rate increase. You've been asked to run an A/B test.\n",
    "\n",
    "* Control group uses old page\n",
    "* Treatment group uses new page\n",
    "* Groups are independent\n",
    "* Conversion is dependent\n",
    "* $H_0$: base conversion rate = new conversion rate (the conversion rate of visitors to the old site)\n",
    "* $H_a$: base conversion rate $\\neq$ new conversion rate (the conversion rate of visitors to the new site)\n",
    "* Two tailed even though we have base conversion rate because we are comparing groups and want to control for other variables so that we can attribute any differences to the design\n",
    "\n",
    "Readings:\n",
    "\n",
    "* https://www.statsmodels.org/devel/generated/statsmodels.stats.proportion.proportions_ztest.html\n",
    "* https://www.statsmodels.org/dev/generated/statsmodels.stats.proportion.proportion_confint.html"
   ]
  },
  {
   "cell_type": "code",
   "execution_count": 43,
   "id": "1cff516b",
   "metadata": {},
   "outputs": [
    {
     "name": "stdout",
     "output_type": "stream",
     "text": [
      "4719\n"
     ]
    }
   ],
   "source": [
    "# get the sample size\n",
    "import statsmodels.stats.api as sms\n",
    "from math import ceil\n",
    "\n",
    "effect_size = sms.proportion_effectsize(0.13, 0.15) \n",
    "# effect_size = sms.proportion_effectsize(0.116, 0.136)\n",
    "sample_size = sms.NormalIndPower().solve_power(\n",
    "    effect_size, \n",
    "    power=0.8, \n",
    "    alpha=0.05, \n",
    "    ratio=1\n",
    "    )\n",
    "\n",
    "sample_size = int(sample_size)\n",
    "print(sample_size)"
   ]
  },
  {
   "cell_type": "code",
   "execution_count": 44,
   "id": "7537118f",
   "metadata": {},
   "outputs": [
    {
     "name": "stdout",
     "output_type": "stream",
     "text": [
      "(294478, 5)\n",
      "   user_id                   timestamp      group landing_page  converted\n",
      "0   851104  2017-01-21 22:11:48.556739    control     old_page          0\n",
      "1   804228  2017-01-12 08:01:45.159739    control     old_page          0\n",
      "2   661590  2017-01-11 16:55:06.154213  treatment     new_page          0\n",
      "3   853541  2017-01-08 18:28:03.143765  treatment     new_page          0\n",
      "4   864975  2017-01-21 01:52:26.210827    control     old_page          1\n"
     ]
    }
   ],
   "source": [
    "# https://www.kaggle.com/datasets/zhangluyuan/ab-testing?select=ab_data.csv\n",
    "import pandas as pd\n",
    "\n",
    "df = pd.read_csv('ab_data.csv')\n",
    "print(df.shape)\n",
    "print(df.head())"
   ]
  },
  {
   "cell_type": "code",
   "execution_count": 45,
   "id": "e94380c9",
   "metadata": {},
   "outputs": [
    {
     "name": "stdout",
     "output_type": "stream",
     "text": [
      "Repeat users: 3894\n"
     ]
    },
    {
     "data": {
      "text/plain": [
       "(286690, 5)"
      ]
     },
     "execution_count": 45,
     "metadata": {},
     "output_type": "execute_result"
    }
   ],
   "source": [
    "# delete repeat users\n",
    "session_counts = df['user_id'].value_counts(ascending=False)\n",
    "repeat_users = session_counts[session_counts > 1].count()\n",
    "print(f'Repeat users: {repeat_users}')\n",
    "\n",
    "users_to_drop = session_counts[session_counts > 1].index\n",
    "df = df[~df['user_id'].isin(users_to_drop)]\n",
    "df.shape"
   ]
  },
  {
   "cell_type": "code",
   "execution_count": 46,
   "id": "9468c63b",
   "metadata": {},
   "outputs": [
    {
     "name": "stdout",
     "output_type": "stream",
     "text": [
      "   user_id                   timestamp    group landing_page  converted\n",
      "0   663037  2017-01-05 02:13:38.063443  control     old_page          0\n",
      "1   932826  2017-01-13 04:50:06.941679  control     old_page          1\n",
      "2   922999  2017-01-04 07:19:23.813317  control     old_page          0\n",
      "3   857826  2017-01-19 02:27:37.678241  control     old_page          0\n",
      "4   762926  2017-01-18 17:50:59.261406  control     old_page          0\n",
      "control      4719\n",
      "treatment    4719\n",
      "Name: group, dtype: int64\n"
     ]
    }
   ],
   "source": [
    "# sample database\n",
    "control_sample = df[df['group'] == 'control'].sample(n=sample_size, random_state=42)\n",
    "treatment_sample = df[df['group'] == 'treatment'].sample(n=sample_size, random_state=42)\n",
    "\n",
    "ab_test = pd.concat([control_sample, treatment_sample], axis=0)\n",
    "ab_test.reset_index(drop=True, inplace=True)\n",
    "\n",
    "print(ab_test.head())\n",
    "print(ab_test['group'].value_counts())"
   ]
  },
  {
   "cell_type": "code",
   "execution_count": 47,
   "id": "236f4233",
   "metadata": {},
   "outputs": [
    {
     "name": "stdout",
     "output_type": "stream",
     "text": [
      "<class 'pandas.core.frame.DataFrame'>\n",
      "Int64Index: 4719 entries, 293433 to 68819\n",
      "Data columns (total 5 columns):\n",
      " #   Column        Non-Null Count  Dtype \n",
      "---  ------        --------------  ----- \n",
      " 0   user_id       4719 non-null   int64 \n",
      " 1   timestamp     4719 non-null   object\n",
      " 2   group         4719 non-null   object\n",
      " 3   landing_page  4719 non-null   object\n",
      " 4   converted     4719 non-null   int64 \n",
      "dtypes: int64(2), object(3)\n",
      "memory usage: 221.2+ KB\n"
     ]
    }
   ],
   "source": [
    "control_sample.info()"
   ]
  },
  {
   "cell_type": "code",
   "execution_count": 48,
   "id": "33637cf0",
   "metadata": {},
   "outputs": [
    {
     "data": {
      "text/html": [
       "<style type=\"text/css\">\n",
       "</style>\n",
       "<table id=\"T_8446c_\">\n",
       "  <thead>\n",
       "    <tr>\n",
       "      <th class=\"blank level0\" >&nbsp;</th>\n",
       "      <th class=\"col_heading level0 col0\" >conversion_rate</th>\n",
       "      <th class=\"col_heading level0 col1\" >std_deviation</th>\n",
       "      <th class=\"col_heading level0 col2\" >std_error</th>\n",
       "    </tr>\n",
       "    <tr>\n",
       "      <th class=\"index_name level0\" >group</th>\n",
       "      <th class=\"blank col0\" >&nbsp;</th>\n",
       "      <th class=\"blank col1\" >&nbsp;</th>\n",
       "      <th class=\"blank col2\" >&nbsp;</th>\n",
       "    </tr>\n",
       "  </thead>\n",
       "  <tbody>\n",
       "    <tr>\n",
       "      <th id=\"T_8446c_level0_row0\" class=\"row_heading level0 row0\" >control</th>\n",
       "      <td id=\"T_8446c_row0_col0\" class=\"data row0 col0\" >0.115</td>\n",
       "      <td id=\"T_8446c_row0_col1\" class=\"data row0 col1\" >0.320</td>\n",
       "      <td id=\"T_8446c_row0_col2\" class=\"data row0 col2\" >0.005</td>\n",
       "    </tr>\n",
       "    <tr>\n",
       "      <th id=\"T_8446c_level0_row1\" class=\"row_heading level0 row1\" >treatment</th>\n",
       "      <td id=\"T_8446c_row1_col0\" class=\"data row1 col0\" >0.129</td>\n",
       "      <td id=\"T_8446c_row1_col1\" class=\"data row1 col1\" >0.335</td>\n",
       "      <td id=\"T_8446c_row1_col2\" class=\"data row1 col2\" >0.005</td>\n",
       "    </tr>\n",
       "  </tbody>\n",
       "</table>\n"
      ],
      "text/plain": [
       "<pandas.io.formats.style.Styler at 0x1c846bce850>"
      ]
     },
     "execution_count": 48,
     "metadata": {},
     "output_type": "execute_result"
    }
   ],
   "source": [
    "# conversion rates\n",
    "import numpy as np\n",
    "import scipy.stats as stats\n",
    "\n",
    "conversion_rates = ab_test.groupby('group')['converted']\n",
    "std_p = lambda x: np.std(x, ddof=0) # standard deviation\n",
    "se_p = lambda x: stats.sem(x, ddof=0) # standard error\n",
    "\n",
    "conversion_rates = conversion_rates.agg([np.mean, std_p, se_p])\n",
    "conversion_rates.columns = ['conversion_rate', 'std_deviation', 'std_error']\n",
    "conversion_rates.style.format('{:.3f}')"
   ]
  },
  {
   "cell_type": "markdown",
   "id": "cedc94fe",
   "metadata": {},
   "source": [
    "### Test of Proportions\n",
    "\n",
    "$z = \\frac{\\hat{p} - p}{\\sqrt{\\frac{p (1 - p)}{n}}}$"
   ]
  },
  {
   "cell_type": "code",
   "execution_count": 49,
   "id": "1baafbd1",
   "metadata": {},
   "outputs": [
    {
     "name": "stdout",
     "output_type": "stream",
     "text": [
      "p: 0.044\n",
      "control group ci (95%): [0.106 - 0.125]\n",
      "treatment group ci (95%): [0.119 - 0.139]\n"
     ]
    }
   ],
   "source": [
    "# test of proportions\n",
    "from scipy import stats\n",
    "from statsmodels.stats.proportion import proportions_ztest, proportion_confint\n",
    "\n",
    "control_group = ab_test[ab_test['group'] == 'control']['converted']\n",
    "treatment_group = ab_test[ab_test['group'] == 'treatment']['converted']\n",
    "n_con = control_group.count()\n",
    "n_treat = treatment_group.count()\n",
    "successes = [control_group.sum(), treatment_group.sum()]\n",
    "n_obs = [n_con, n_treat]\n",
    "\n",
    "_, pval = proportions_ztest(successes, nobs=n_obs)\n",
    "(lower_con, lower_treat), (upper_con, upper_treat) = proportion_confint(successes, nobs=n_obs, alpha=0.05)\n",
    "\n",
    "print(f'p: {pval:.3f}')\n",
    "print(f'control group ci (95%): [{lower_con:.3f} - {upper_con:.3f}]')\n",
    "print(f'treatment group ci (95%): [{lower_treat:.3f} - {upper_treat:.3f}]')"
   ]
  },
  {
   "cell_type": "markdown",
   "id": "89c17983",
   "metadata": {},
   "source": [
    "### Conclusions\n",
    "\n",
    "* p-value (0.044) < $\\alpha$ (0.05)\n",
    "* our treatment ci upper bound is only 0.139, short of the desired 0.15\n",
    "* statistically significant but not practically significant\n",
    "* the new design did not work"
   ]
  },
  {
   "cell_type": "markdown",
   "id": "dca73576",
   "metadata": {},
   "source": [
    "### References\n",
    "\n",
    "1. https://towardsdatascience.com/a-b-testing-a-complete-guide-to-statistical-testing-e3f1db140499\n",
    "2. https://classroom.udacity.com/courses/ud257/lessons/456f424d-0cbc-481c-a0ab-a6217013f46e/concepts/d87d2932-962d-4c1d-9fdb-c5ac754783b7 \n",
    "3. https://www.dataquest.io/blog/a-b-testing-the-definitive-guide-to-improving-your-product/\n",
    "4. https://en.wikipedia.org/wiki/Bounce_rate\n",
    "5. https://en.wikipedia.org/wiki/Kolmogorov%E2%80%93Smirnov_test\n",
    "6. https://www.analytics-toolkit.com/glossary/sample-ratio-mismatch/\n",
    "7. https://en.wikipedia.org/wiki/Fisher's_exact_test\n",
    "8. https://www.statology.org/two-sample-t-test-python/\n",
    "9. https://en.wikipedia.org/wiki/Mann%E2%80%93Whitney_U_test\n",
    "10. https://towardsdatascience.com/ab-testing-with-python-e5964dd66143"
   ]
  }
 ],
 "metadata": {
  "kernelspec": {
   "display_name": "Python 3 (ipykernel)",
   "language": "python",
   "name": "python3"
  },
  "language_info": {
   "codemirror_mode": {
    "name": "ipython",
    "version": 3
   },
   "file_extension": ".py",
   "mimetype": "text/x-python",
   "name": "python",
   "nbconvert_exporter": "python",
   "pygments_lexer": "ipython3",
   "version": "3.9.7"
  }
 },
 "nbformat": 4,
 "nbformat_minor": 5
}
