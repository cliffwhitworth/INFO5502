{
 "cells": [
  {
   "cell_type": "markdown",
   "id": "d8951624",
   "metadata": {},
   "source": [
    "# Week 04 - Assignment"
   ]
  },
  {
   "cell_type": "markdown",
   "id": "c0c25781",
   "metadata": {},
   "source": [
    "## Text\n",
    "Programming doesn't just concern numbers. Text is one of the most common data types used in programs. \n",
    "\n",
    "Text is represented by a **string value** in Python. The word \"string\" is a programming term for a sequence of characters. A string might contain a single character, a word, a sentence, or a whole book.\n",
    "\n",
    "To distinguish text data from actual code, we demarcate strings by putting quotation marks around them. Single quotes (`'`) and double quotes (`\"`) are both valid, but the types of opening and closing quotation marks must match. The contents can be any sequence of characters, including numbers and symbols. \n",
    "\n",
    "We've seen strings before in `print` statements.  Below, two different strings are passed as arguments to the `print` function."
   ]
  },
  {
   "cell_type": "code",
   "execution_count": null,
   "id": "246a40cb",
   "metadata": {},
   "outputs": [],
   "source": [
    "print(\"I <3\", 'Data Science')"
   ]
  },
  {
   "cell_type": "markdown",
   "id": "6a0cb9e1",
   "metadata": {},
   "source": [
    "Just as names can be given to numbers, names can be given to string values.  The names and strings aren't required to be similar in any way. Any name can be assigned to any string."
   ]
  },
  {
   "cell_type": "code",
   "execution_count": null,
   "id": "f1ff36ed",
   "metadata": {},
   "outputs": [],
   "source": [
    "one = 'two'\n",
    "plus = '*'\n",
    "print(one, plus, one)"
   ]
  },
  {
   "cell_type": "markdown",
   "id": "fecf13b2",
   "metadata": {},
   "source": [
    "Yuri Gagarin was the first person to travel through outer space.  When he emerged from his capsule upon landing on Earth, he [reportedly](https://en.wikiquote.org/wiki/Yuri_Gagarin) had the following conversation with a woman and girl who saw the landing:\n",
    "\n",
    "    The woman asked: \"Can it be that you have come from outer space?\"\n",
    "    Gagarin replied: \"As a matter of fact, I have!\"\n",
    "\n",
    "The cell below contains unfinished code.  Fill in the `...`s so that it prints out this conversation *exactly* as it appears above."
   ]
  },
  {
   "cell_type": "code",
   "execution_count": null,
   "id": "ae487bf1",
   "metadata": {},
   "outputs": [],
   "source": [
    "woman_asking = ...\n",
    "woman_quote = '\"Can it be that you have come from outer space?\"'\n",
    "gagarin_reply = 'Gagarin replied:'\n",
    "gagarin_quote = ...\n",
    "\n",
    "print(woman_asking, woman_quote)\n",
    "print(gagarin_reply, gagarin_quote)"
   ]
  },
  {
   "cell_type": "markdown",
   "id": "e2ac9c6b",
   "metadata": {},
   "source": [
    "## String Methods"
   ]
  },
  {
   "cell_type": "markdown",
   "id": "d74f40d7",
   "metadata": {},
   "source": [
    "Strings can be transformed using **methods**. Recall that methods and functions are not the same thing. Here is the textbook section on string methods: [4.2.1 String Methods](https://inferentialthinking.com/chapters/04/2/1/String_Methods.html?highlight=methods). \n",
    "\n",
    "Here's a sketch of how to call methods on a string:\n",
    "\n",
    "    <expression that evaluates to a string>.<method name>(<argument>, <argument>, ...)\n",
    "    \n",
    "One example of a string method is `replace`, which replaces all instances of some part of the original string (or a *substring*) with a new string. \n",
    "\n",
    "    <original string>.replace(<old substring>, <new substring>)\n",
    "    \n",
    "`replace` returns (evaluates to) a new string, leaving the original string unchanged.\n",
    "    \n",
    "Try to predict the output of this example, then run the cell!"
   ]
  },
  {
   "cell_type": "code",
   "execution_count": null,
   "id": "ae9bec1a",
   "metadata": {},
   "outputs": [],
   "source": [
    "# Replace one letter\n",
    "bag = 'bag'\n",
    "print(bag.replace('g', 't'), bag)"
   ]
  },
  {
   "cell_type": "markdown",
   "id": "7056a344",
   "metadata": {},
   "source": [
    "You can call functions on the results of other functions.  For example, `max(abs(-5), abs(3))` evaluates to 5.  Similarly, you can call methods on the results of other method or function calls.\n",
    "\n",
    "You may have already noticed one difference between functions and methods - a function like `max` does not require a `.` before it's called, but a string method like `replace` does. Here's a handy [Python reference](http://data8.org/fa21/python-reference.html) on the Data 8 website. It's a good idea to refer to this whenever you're unsure of how to call a function or method."
   ]
  },
  {
   "cell_type": "code",
   "execution_count": null,
   "id": "71c949bd",
   "metadata": {},
   "outputs": [],
   "source": [
    "# Calling replace on the output of another call to replace\n",
    "'train'.replace('t', 'ing').replace('in', 'de')"
   ]
  },
  {
   "cell_type": "markdown",
   "id": "d520ad48",
   "metadata": {},
   "source": [
    "Here's a picture of how Python evaluates a \"chained\" method call like that:\n",
    "\n",
    "<img src=\"https://raw.githubusercontent.com/data-8/materials-sp22/301476351432adb59d6ea7c83e26aa5528382b00/materials/sp22/lab/lab03/chaining_method_calls.png\"/>"
   ]
  },
  {
   "cell_type": "markdown",
   "id": "bfa0de93",
   "metadata": {},
   "source": [
    "Use `replace` to transform the string `'hitchhiker'` into `'matchmaker'`. Assign your result to `new_word`."
   ]
  },
  {
   "cell_type": "code",
   "execution_count": null,
   "id": "ae121440",
   "metadata": {},
   "outputs": [],
   "source": [
    "new_word = ...\n",
    "new_word"
   ]
  },
  {
   "cell_type": "markdown",
   "id": "912b9df0",
   "metadata": {},
   "source": [
    "There are many more string methods in Python, but most programmers don't memorize their names or how to use them.  In the \"real world,\" people usually just search the internet for documentation and examples. A complete [list of string methods](https://docs.python.org/3/library/stdtypes.html#string-methods) appears in the Python language documentation. [Stack Overflow](http://stackoverflow.com) has a huge database of answered questions that often demonstrate how to use these methods to achieve various ends. Material covered in these resources that haven't already been introduced in this class will be out of scope. "
   ]
  },
  {
   "cell_type": "markdown",
   "id": "26114273",
   "metadata": {},
   "source": [
    "## Converting to and from Strings"
   ]
  },
  {
   "cell_type": "markdown",
   "id": "391a05b1",
   "metadata": {},
   "source": [
    "Strings and numbers are different *types* of values, even when a string contains the digits of a number. For example, evaluating the following cell causes an error because an integer cannot be added to a string."
   ]
  },
  {
   "cell_type": "code",
   "execution_count": null,
   "id": "0395ca20",
   "metadata": {},
   "outputs": [],
   "source": [
    "8 + \"8\""
   ]
  },
  {
   "cell_type": "markdown",
   "id": "655ffc8d",
   "metadata": {},
   "source": [
    "However, there are built-in functions to convert numbers to strings and strings to numbers. Some of these built-in functions have restrictions on the type of argument they take:\n",
    "\n",
    "|Function |Description|\n",
    "|-|-|\n",
    "|`int`|Converts a string of digits or a float to an integer (\"int\") value|\n",
    "|`float`|Converts a string of digits (perhaps with a decimal point) or an int to a decimal (\"float\") value|\n",
    "|`str`|Converts any value to a string|"
   ]
  },
  {
   "cell_type": "markdown",
   "id": "b68409c3",
   "metadata": {},
   "source": [
    "Try to predict what data type and value `example` evaluates to, then run the cell."
   ]
  },
  {
   "cell_type": "code",
   "execution_count": null,
   "id": "bf259d5d",
   "metadata": {},
   "outputs": [],
   "source": [
    "example = 8 + int(\"10\") + float(\"8\")\n",
    "\n",
    "print(example)\n",
    "print(\"This example returned a \" + str(type(example)) + \"!\")"
   ]
  },
  {
   "cell_type": "markdown",
   "id": "7d2ad479",
   "metadata": {},
   "source": [
    "Suppose you're writing a program that looks for dates in a text, and you want your program to find the amount of time that elapsed between two years it has identified.  It doesn't make sense to subtract two texts, but you can first convert the text containing the years into numbers.\n",
    "\n",
    "Finish the code below to compute the number of years that elapsed between `one_year` and `another_year`.  Don't just write the numbers `1618` and `1648` (or `30`); use a conversion function to turn the given text data into numbers."
   ]
  },
  {
   "cell_type": "code",
   "execution_count": null,
   "id": "b13a4084",
   "metadata": {},
   "outputs": [],
   "source": [
    "# Some text data:\n",
    "one_year = \"1618\"\n",
    "another_year = \"1648\"\n",
    "\n",
    "# Complete the next line.  Note that we can't just write:\n",
    "#   another_year - one_year\n",
    "# If you don't see why, try seeing what happens when you\n",
    "# write that here.\n",
    "difference = ...\n",
    "difference"
   ]
  },
  {
   "cell_type": "markdown",
   "id": "4fee791a",
   "metadata": {},
   "source": [
    "## Passing strings to functions\n",
    "\n",
    "String values, like numbers, can be arguments to functions and can be returned by functions. \n",
    "\n",
    "The function `len` (derived from the word \"length\") takes a single string as its argument and returns the number of characters (including spaces) in the string.\n",
    "\n",
    "Note that it doesn't count *words*. `len(\"one small step for man\")` evaluates to 22 characters, not 5 words.\n",
    "\n",
    "Use `len` to find the number of characters in the long string in the next cell.  Characters include things like spaces and punctuation. Assign `sentence_length` to that number.\n",
    "\n",
    "(The string is the first sentence of the English translation of the French [Declaration of the Rights of Man](http://avalon.law.yale.edu/18th_century/rightsof.asp).)  "
   ]
  },
  {
   "cell_type": "code",
   "execution_count": null,
   "id": "1dc46e03",
   "metadata": {},
   "outputs": [],
   "source": [
    "a_very_long_sentence = \"The representatives of the French people, organized as a National Assembly, believing that the ignorance, neglect, or contempt of the rights of man are the sole cause of public calamities and of the corruption of governments, have determined to set forth in a solemn declaration the natural, unalienable, and sacred rights of man, in order that this declaration, being constantly before all the members of the Social body, shall remind them continually of their rights and duties; in order that the acts of the legislative power, as well as those of the executive power, may be compared at any moment with the objects and purposes of all political institutions and may thus be more respected, and, lastly, in order that the grievances of the citizens, based hereafter upon simple and incontestable principles, shall tend to the maintenance of the constitution and redound to the happiness of all.\"\n",
    "sentence_length = ...\n",
    "sentence_length"
   ]
  },
  {
   "cell_type": "markdown",
   "id": "2b89b544",
   "metadata": {},
   "source": [
    "## What is conditional probability good for?\n",
    "\n",
    "Suppose we have a known population, like all dogs in California.  So far, we've seen three ways of *predicting* something about an individual in that population, given incomplete knowledge about the identity of the individual:\n",
    "\n",
    "* If we know nothing about the individual dog, we could predict that its speed is the *average* or *median* of all the speeds in the population.\n",
    "* If we know the dog's height but not its speed, we could use *linear regression* to predict its speed from its height.  The resulting prediction is still imperfect, but it might be more accurate than the population average.\n",
    "* If we know the dog's breed, height, and age, we could use *nearest-neighbor classification* to predict its speed by comparing it to a collection of dogs with known speed.\n",
    "\n",
    "\n",
    "We can also compute conditional probabilities to make predictions about individuals or events. This technique is different from the previous methods we’ve examined because \n",
    "\n",
    "1. our prediction for each outcome is described by a probability, and \n",
    "2. each probability can be exactly calculated from assumptions, as opposed to estimated from data."
   ]
  },
  {
   "cell_type": "markdown",
   "id": "3a9ff50a",
   "metadata": {},
   "source": [
    "## Marbles\n",
    "\n",
    "Imagine you and Samantha are playing a game in which you are given a marble and tasked to determine the marble's texture and size. You don't know anything about the marble you're given, but you know that Samantha drew it **uniformly at random** from a bag that contained the following marbles:\n",
    "* 4 large shiny marbles,\n",
    "* 1 large dull marble,\n",
    "* 6 small shiny marbles,\n",
    "* 2 small dull marbles."
   ]
  },
  {
   "cell_type": "markdown",
   "id": "9055b68c",
   "metadata": {},
   "source": [
    "Knowing only what we've told you so far, what's the probability that the marble you're given was a large shiny marble?"
   ]
  },
  {
   "cell_type": "code",
   "execution_count": null,
   "id": "52de03df",
   "metadata": {},
   "outputs": [],
   "source": [
    "probability_large_shiny = ..."
   ]
  },
  {
   "cell_type": "markdown",
   "id": "108cfc1f",
   "metadata": {},
   "source": [
    "Here's a table with those marbles:"
   ]
  },
  {
   "cell_type": "code",
   "execution_count": null,
   "id": "65c7b637",
   "metadata": {},
   "outputs": [],
   "source": [
    "# marbles dataframe\n",
    "import pandas as pd\n",
    "\n",
    "marbles = pd.read_csv('https://raw.githubusercontent.com/data-8/materials-sp22/main/materials/sp22/lab/lab10/marbles.csv')\n",
    "marbles.head(13)"
   ]
  },
  {
   "cell_type": "markdown",
   "id": "edbd9b30",
   "metadata": {},
   "source": [
    "Here are the counts of each type of marble in a pivot table."
   ]
  },
  {
   "cell_type": "code",
   "execution_count": null,
   "id": "e1662462",
   "metadata": {},
   "outputs": [],
   "source": [
    "# pivot surface and size and get count\n",
    "marbles.pivot_table(values=['surface', 'size'], index=['surface', 'size'], aggfunc=lambda x: len(x))"
   ]
  },
  {
   "cell_type": "code",
   "execution_count": null,
   "id": "af80a4b2",
   "metadata": {},
   "outputs": [],
   "source": [
    "marbles.groupby(['surface', 'size'])['size'].count()"
   ]
  },
  {
   "cell_type": "markdown",
   "id": "c58d9caf",
   "metadata": {},
   "source": [
    "### Groupby, Crosstab, Pivot Table\n",
    "\n",
    "https://towardsdatascience.com/meet-the-hardest-functions-of-pandas-part-ii-f8029a2b0c9b"
   ]
  },
  {
   "cell_type": "code",
   "execution_count": null,
   "id": "2c482584",
   "metadata": {},
   "outputs": [],
   "source": [
    "# seaborn mpg dataset\n",
    "import seaborn as sns\n",
    "\n",
    "mpg = sns.load_dataset('mpg')\n",
    "print(mpg.shape)\n",
    "print(mpg.head())"
   ]
  },
  {
   "cell_type": "code",
   "execution_count": null,
   "id": "200664c1",
   "metadata": {},
   "outputs": [],
   "source": [
    "# find mpg quartiles\n",
    "mpg.describe()"
   ]
  },
  {
   "cell_type": "code",
   "execution_count": null,
   "id": "c43a59cc",
   "metadata": {},
   "outputs": [],
   "source": [
    "import numpy as np\n",
    "\n",
    "# create a feature where 1 represents horsepower > 94 (median) and 0 if not\n",
    "mpg['above_median_hp'] = np.where(mpg['horsepower'] > np.median(mpg['horsepower'].dropna()), 1, 0)\n",
    "\n",
    "# create a feature where 1 represents mpg > 23 and 0 if not\n",
    "mpg['above_median_mpg'] = np.where(mpg['mpg'] > np.median(mpg['mpg']), 1, 0)\n",
    "\n",
    "# column used to for counting\n",
    "mpg['count'] = 1\n",
    "\n",
    "mpg.info()"
   ]
  },
  {
   "cell_type": "markdown",
   "id": "ccdf9e9f",
   "metadata": {},
   "source": [
    "### Groupby\n",
    "\n",
    "A groupby operation involves some combination of splitting the object, applying a function, and combining the results. This can be used to group large amounts of data and compute operations on these groups.\n",
    "\n",
    "https://pandas.pydata.org/docs/reference/api/pandas.DataFrame.groupby.html"
   ]
  },
  {
   "cell_type": "code",
   "execution_count": null,
   "id": "caf0c061",
   "metadata": {},
   "outputs": [],
   "source": [
    "# group by aggregate max, min, and mean\n",
    "mpg.groupby('origin')['mpg'].agg(['max', 'min', 'mean'])"
   ]
  },
  {
   "cell_type": "markdown",
   "id": "0d7a4abe",
   "metadata": {},
   "source": [
    "### Crosstab\n",
    "\n",
    "Compute a simple cross tabulation of two (or more) factors. By default computes a frequency table of the factors unless an array of values and an aggregation function are passed.\n",
    "\n",
    "https://pandas.pydata.org/docs/reference/api/pandas.crosstab.html"
   ]
  },
  {
   "cell_type": "code",
   "execution_count": null,
   "id": "b15e4cfc",
   "metadata": {},
   "outputs": [],
   "source": [
    "# crosstab\n",
    "import pandas as pd\n",
    "\n",
    "pd.set_option('display.max_columns', None)\n",
    "pd.crosstab(mpg.origin, [mpg.model_year, mpg.above_median_mpg], margins=True, margins_name=\"Total\")\n",
    "\n",
    "# https://www.ucsusa.org/resources/brief-history-us-fuel-efficiency"
   ]
  },
  {
   "cell_type": "code",
   "execution_count": null,
   "id": "8560ac76",
   "metadata": {},
   "outputs": [],
   "source": [
    "# show vaules in 1970\n",
    "mpg[mpg['model_year'] == 70]"
   ]
  },
  {
   "cell_type": "code",
   "execution_count": null,
   "id": "95e19ee9",
   "metadata": {},
   "outputs": [],
   "source": [
    "# count origin with model year of 70\n",
    "mpg['origin'][mpg['model_year'] == 70].value_counts()"
   ]
  },
  {
   "cell_type": "markdown",
   "id": "08254699",
   "metadata": {},
   "source": [
    "### Pivot Table\n",
    "\n",
    "According to Wikipedia (2022):\n",
    "\n",
    "A pivot table is a table of grouped values that aggregates the individual items of a more extensive table (such as from a database, spreadsheet, or business intelligence program) within one or more discrete categories. This summary might include sums, averages, or other statistics, which the pivot table groups together using a chosen aggregation function applied to the grouped values (para. 1).\n",
    "\n",
    "Contingency table. (February 9, 2022). In *Wikipedia*. https://en.wikipedia.org/wiki/Pivot_table"
   ]
  },
  {
   "cell_type": "code",
   "execution_count": null,
   "id": "514632ff",
   "metadata": {},
   "outputs": [],
   "source": [
    "# show pivot table\n",
    "pd.pivot_table(mpg, values='count', index=['above_median_hp'], columns=['above_median_mpg'], aggfunc=np.sum)"
   ]
  },
  {
   "cell_type": "markdown",
   "id": "dd638b96",
   "metadata": {},
   "source": [
    "## Conditional Probability\n",
    "\n",
    "Suppose you overhear Samantha say that you were given a large marble. Does this somehow change the chance that your marble is shiny?  Let's find out.\n",
    "\n",
    "Let's assume that the marble you were given was equally likely to be any of the marbles, simply because we didn't know any better. That's why we looked at all the marbles to compute the probability that your marble was shiny.\n",
    "\n",
    "But assuming that you've been given a large marble, we can eliminate some of these possibilities. In particular, you can't have been given a small shiny marble or a small dull marble.\n",
    "\n",
    "You're still equally likely to have been given any of the remaining marbles, because you don't know any other information. \n",
    "\n",
    "What's the probability Samantha gives you a shiny marble, knowing that she gave you a large marble?"
   ]
  },
  {
   "cell_type": "code",
   "execution_count": null,
   "id": "3dfc8ab0",
   "metadata": {},
   "outputs": [],
   "source": [
    "# type your answer here\n",
    "..."
   ]
  },
  {
   "cell_type": "markdown",
   "id": "d71a0452",
   "metadata": {},
   "source": [
    "You should have found that this is different from the probability that Samantha gave you a shiny marble, given no size information, which you computed earlier.  The distribution of surfaces among the large marbles is a little different from the distribution of surfaces among all the marbles."
   ]
  },
  {
   "cell_type": "code",
   "execution_count": null,
   "id": "c43b8eee",
   "metadata": {},
   "outputs": [],
   "source": [
    "# type your answer here\n",
    "..."
   ]
  },
  {
   "cell_type": "markdown",
   "id": "a04b33ff",
   "metadata": {},
   "source": [
    "## Normal Distributions\n",
    "\n",
    "When we visualize the distribution of a sample, we are often interested in the mean and the standard deviation of the sample (for the rest of this lab, we will abbreviate “standard deviation” as “SD”). These two sample statistics can give us a bird’s eye view of the distribution -- by letting us know where the distribution sits on the number line and how spread out it is, respectively.\n",
    "\n",
    "We want to check if the data is linearly related, so we should look at the data."
   ]
  },
  {
   "cell_type": "markdown",
   "id": "ca917c78",
   "metadata": {},
   "source": [
    "The next cell loads the `births` dataframe, which is a large random sample of US births and includes information about mother-child pairs. \n",
    "\n",
    "Plot the distribution of mother’s ages from the table. Don’t change the last line, which will plot the mean of the sample on the distribution itself."
   ]
  },
  {
   "cell_type": "code",
   "execution_count": null,
   "id": "73b197e2",
   "metadata": {},
   "outputs": [],
   "source": [
    "# load births csv\n",
    "import pandas as pd\n",
    "\n",
    "births = pd.read_csv('https://raw.githubusercontent.com/data-8/materials-sp22/main/materials/sp22/lab/lab08/baby.csv')\n",
    "births.head()"
   ]
  },
  {
   "cell_type": "code",
   "execution_count": null,
   "id": "4a0b0fef",
   "metadata": {},
   "outputs": [],
   "source": [
    "# maternal age hist\n",
    "import matplotlib.pyplot as plt\n",
    "\n",
    "mu = births['Maternal Age'].mean()\n",
    "md = births['Maternal Age'].median()\n",
    "\n",
    "births['Maternal Age'].hist(alpha=0.5)\n",
    "plt.axvline(x=mu, color='red', label='Mean')\n",
    "plt.axvline(x=md, color='green', label='Median')\n",
    "plt.legend()\n",
    "plt.show();"
   ]
  },
  {
   "cell_type": "markdown",
   "id": "66312440",
   "metadata": {},
   "source": [
    "From the plot above, we can see that the mean is the center of gravity or balance point of the distribution. If you cut the distribution out of cardboard, and then placed your finger at the mean, the distribution would perfectly balance on your finger. Since the distribution above is right skewed (which means it has a long right tail), we know that the mean of the distribution is larger than the median, which is the “halfway” point of the data. Conversely, if the distribution had been left skewed, we know the mean would be smaller than the median.\n",
    "\n",
    "We are also interested in the standard deviation of mother’s ages. The SD gives us a sense of how variable mothers' ages are around the average mothers' age. If the SD is large, then the mothers' ages should spread over a large range from the mean. If the SD is small, then the mothers' ages should be tightly clustered around the average mother age. \n",
    "\n",
    "**The SD of an array is defined as the root mean square of the deviations where the deviations are the difference between the original elements and their average.**\n",
    "\n",
    "You can read more about Variability and SD in [Chapter 14.2](https://inferentialthinking.com/chapters/14/2/Variability.html). Fun fact! $\\sigma$ (Greek letter sigma) is used to represent the SD and $\\mu$ (Greek letter mu) is used for the mean. "
   ]
  },
  {
   "cell_type": "code",
   "execution_count": null,
   "id": "0ac6406d",
   "metadata": {},
   "outputs": [],
   "source": [
    "# maternal age hist\n",
    "import matplotlib.pyplot as plt\n",
    "\n",
    "mu = births['Maternal Age'].mean()\n",
    "sd = births['Maternal Age'].std()\n",
    "\n",
    "births['Maternal Age'].hist(alpha=0.5)\n",
    "plt.axvline(x=mu, color='red', label='Mean')\n",
    "plt.axvline(x=mu-sd, color='green', label='Lower Standard Deviation')\n",
    "plt.axvline(x=mu+sd, color='green', label='Upper Standard Deviation')\n",
    "plt.legend()\n",
    "plt.show();"
   ]
  },
  {
   "cell_type": "markdown",
   "id": "38f08d60",
   "metadata": {},
   "source": [
    "In this histogram, the standard deviation is not easy to identify just by looking at the graph.\n",
    "\n",
    "However, the distributions of some variables allow us to easily spot the standard deviation on the plot. For example, if a sample follows a *normal distribution*, the standard deviation is easily spotted at the point of inflection (the point where the curve begins to change the direction of its curvature) of the distribution. \n",
    "\n",
    "Duplicate the code above to show the mean and lower, upper standard deviations for maternal heights, which is roughly normally distributed. Notice where one standard deviation (green) away from the mean (red) falls on the plot."
   ]
  },
  {
   "cell_type": "code",
   "execution_count": null,
   "id": "274f153f",
   "metadata": {},
   "outputs": [],
   "source": [
    "# plot maternal height mean and upper lower standard deviations\n",
    "..."
   ]
  },
  {
   "cell_type": "markdown",
   "id": "304ca418",
   "metadata": {},
   "source": [
    "We don’t always know how a variable will be distributed, and making assumptions about whether or not a variable will follow a normal distribution is dangerous. However, the **Central Limit Theorem** defines one distribution that always follows a normal distribution. **The distribution of the *sums* and *means* of all large random samples drawn with replacement from a single distribution (regardless of the distribution’s original shape) will be normally distributed.** Remember that the Central Limit Theorem refers to the distribution of a *statistic* calculated from a distribution, not the distribution of the original sample or population. \n"
   ]
  },
  {
   "cell_type": "markdown",
   "id": "ff169656",
   "metadata": {},
   "source": [
    "While we are talking about the normal distribution, let's try converting from z scores and percentiles.\n",
    "\n",
    "Use the stats.norm.cdf and stats.norm.ppf formulas for the following. Round your answers to 2 decimal places.\n",
    "\n",
    "* What is the cdf precentile associated with 2 standard deviations above the mean?\n",
    "* What is the cdf precentile associated with 1 standard deviation below the mean?\n",
    "* What is the z score associated with the 84 percentile?\n",
    "* What is the z score associated with the 2.1 percentile?\n",
    "\n",
    "Just for fun, let's try some binomial functions before moving on to variability of the sample mean.\n",
    "\n",
    "Use the scipy.stats.binom function to answer the following. Round your answers to 2 decimal places.\n",
    "\n",
    "* A fair coins is flipped 5 times. What is the probability of getting 2 tails?\n",
    "* A fair die is thrown 4 times. What is the probability of getting 2 threes?\n"
   ]
  },
  {
   "cell_type": "code",
   "execution_count": null,
   "id": "89218a97",
   "metadata": {},
   "outputs": [],
   "source": [
    "# What is the cdf precentile associated with 2 standard deviations above the mean?\n",
    "..."
   ]
  },
  {
   "cell_type": "code",
   "execution_count": null,
   "id": "bb1f6133",
   "metadata": {},
   "outputs": [],
   "source": [
    "# What is the cdf precentile associated with 1 standard deviation below the mean?\n",
    "..."
   ]
  },
  {
   "cell_type": "code",
   "execution_count": null,
   "id": "0e4db05d",
   "metadata": {},
   "outputs": [],
   "source": [
    "# What is the z score associated with the 84 percentile?\n",
    "..."
   ]
  },
  {
   "cell_type": "code",
   "execution_count": null,
   "id": "4b116afb",
   "metadata": {},
   "outputs": [],
   "source": [
    "# What is the z score associated with the 2.1 percentile?\n",
    "..."
   ]
  },
  {
   "cell_type": "code",
   "execution_count": null,
   "id": "ddb1388c",
   "metadata": {},
   "outputs": [],
   "source": [
    "# A fair coins is flipped 5 times. What is the probability of getting 2 tails (binom)?\n",
    "..."
   ]
  },
  {
   "cell_type": "code",
   "execution_count": null,
   "id": "7191c305",
   "metadata": {},
   "outputs": [],
   "source": [
    "# A fair die is thrown 4 times. What is the probability of getting 2 threes (binom)?\n",
    "..."
   ]
  },
  {
   "cell_type": "markdown",
   "id": "19fb0fbb",
   "metadata": {},
   "source": [
    "The next section will explore distributions of sample means, and you will see how the standard deviation of these distributions depends on sample sizes."
   ]
  },
  {
   "cell_type": "markdown",
   "id": "a8a1f5c0",
   "metadata": {},
   "source": [
    "## Variability of the Sample Mean\n",
    "\n",
    "By the [Central Limit Theorem](https://www.inferentialthinking.com/chapters/14/4/Central_Limit_Theorem.html), the probability distribution of the mean or sum of a large random sample is roughly normal. The bell curve is centered at the population mean. Some of the sample means are higher and some are lower, but the deviations from the population mean are roughly symmetric on either side, as we have seen repeatedly. \n",
    "\n",
    "In our simulations, we also noticed that the means of larger samples tend to be more tightly clustered around the population mean than means of smaller samples. In this section, we will quantify the [variability of the sample mean](https://www.inferentialthinking.com/chapters/14/5/Variability_of_the_Sample_Mean.html) and develop a relation between the variability and the sample size.\n",
    "\n",
    "Let's take a look at the salaries of employees of the City of San Francisco in 2014. The mean salary reported by the city government was about $75,463.92.\n",
    "\n",
    "*Note: If you get stuck on any part of this lab, please refer to [Chapter 14 of the textbook](https://www.inferentialthinking.com/chapters/14/Why_the_Mean_Matters.html).*"
   ]
  },
  {
   "cell_type": "code",
   "execution_count": null,
   "id": "e43af2b5",
   "metadata": {},
   "outputs": [],
   "source": [
    "# load dataframe\n",
    "import pandas as pd\n",
    "\n",
    "salaries = pd.read_csv('https://raw.githubusercontent.com/data-8/materials-sp22/main/materials/sp22/lab/lab08/sf_salaries_2014.csv', usecols=['salary'])\n",
    "print(len(salaries))\n",
    "salaries.head()"
   ]
  },
  {
   "cell_type": "code",
   "execution_count": null,
   "id": "abd0b0ae",
   "metadata": {},
   "outputs": [],
   "source": [
    "# show salaries histogram\n",
    "salaries.hist();"
   ]
  },
  {
   "cell_type": "code",
   "execution_count": null,
   "id": "f2607f24",
   "metadata": {},
   "outputs": [],
   "source": [
    "# visualize 100 sample means and histogram\n",
    "import numpy as np\n",
    "\n",
    "means = []\n",
    "for i in range(5000):\n",
    "    means.append(np.random.choice(salaries['salary'], 100).mean())\n",
    "    \n",
    "plt.hist(means);"
   ]
  },
  {
   "cell_type": "markdown",
   "id": "44a83849",
   "metadata": {},
   "source": [
    "Answer the following question and write some code proving your answer (write some code that shows the standard deviation when (re)samples are large and when resamples are small.\n",
    "\n",
    "When I increase the number of *resamples* that I take, for a *fixed* sample size, the SD of my sample means will...\n",
    "\n",
    "1. Increase\n",
    "2. Decrease\n",
    "3. Stay about the same\n",
    "4. Vary widely"
   ]
  },
  {
   "cell_type": "code",
   "execution_count": null,
   "id": "60d9b86a",
   "metadata": {},
   "outputs": [],
   "source": [
    "# write your code here\n",
    "data = np.random.choice(salaries['salary'], 100)\n",
    "print(data.mean())\n",
    "print(data.std())\n",
    "data = np.random.choice(salaries['salary'], 1000)\n",
    "print(data.mean())\n",
    "print(data.std())\n",
    "data = np.random.choice(salaries['salary'], 10000)\n",
    "print(data.mean())\n",
    "print(data.std())"
   ]
  },
  {
   "cell_type": "markdown",
   "id": "74b9b0cd",
   "metadata": {},
   "source": [
    "##  A/B Testing\n",
    "\n",
    "A/B testing is a form of hypothesis testing that allows you to make comparisons between two distributions. We may also refer to an A/B test as a permutation test.\n",
    "\n",
    "You'll almost never be explicitly asked to perform an A/B test. Make sure you can identify situations where the test is appropriate and know how to correctly implement each step. Oftentimes, we use an A/B test to determine whether or not two samples came from the same underlying distribution."
   ]
  },
  {
   "cell_type": "markdown",
   "id": "3facff11",
   "metadata": {},
   "source": [
    "The following statements are the steps of an A/B hypothesis test presented in a *random order*:\n",
    "\n",
    "1. Choose a test statistic (typically the difference in means between two categories)\n",
    "\n",
    "2. Shuffle the labels of the original sample, find your simulated test statistic, and repeat many times\n",
    "\n",
    "3. Find the value of the observed test statistic\n",
    "\n",
    "4. Calculate the p-value based off your observed and simulated test statistics\n",
    "\n",
    "5. Define a null and alternate model\n",
    "\n",
    "6. Use the p-value and p-value cutoff to draw a conclusion about the null hypothesis\n",
    "\n",
    "Assign `ab_test_order` to an array of integers that contains the correct order of an A/B test, where the first item of the array is the first step of an A/B test and the last item of the array is the last step of an A/B test. Put the numbers above in the correct order.\n",
    "\n",
    "For example, if the order above was correct then `ab_test_order` would print `[1, 2, 3, 4, 5, 6]`"
   ]
  },
  {
   "cell_type": "code",
   "execution_count": null,
   "id": "bfa126ad",
   "metadata": {},
   "outputs": [],
   "source": [
    "ab_test_order = ...\n",
    "ab_test_order"
   ]
  },
  {
   "cell_type": "code",
   "execution_count": null,
   "id": "e2441856",
   "metadata": {},
   "outputs": [],
   "source": []
  }
 ],
 "metadata": {
  "kernelspec": {
   "display_name": "Python 3 (ipykernel)",
   "language": "python",
   "name": "python3"
  },
  "language_info": {
   "codemirror_mode": {
    "name": "ipython",
    "version": 3
   },
   "file_extension": ".py",
   "mimetype": "text/x-python",
   "name": "python",
   "nbconvert_exporter": "python",
   "pygments_lexer": "ipython3",
   "version": "3.9.7"
  }
 },
 "nbformat": 4,
 "nbformat_minor": 5
}
