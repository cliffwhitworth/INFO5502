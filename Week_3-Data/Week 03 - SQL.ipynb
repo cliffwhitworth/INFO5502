{
 "cells": [
  {
   "cell_type": "markdown",
   "id": "62190f2f",
   "metadata": {},
   "source": [
    "# Week 03 - SQL\n",
    "\n",
    "* https://www.analyticsvidhya.com/blog/2022/06/an-introduction-to-joins-in-mysql/\n",
    "* https://towardsdatascience.com/how-to-run-sql-queries-from-a-jupyter-notebook-aaa18e59e7bc\n",
    "* https://www.digitalocean.com/community/tutorials/how-to-use-the-sqlite3-module-in-python-3"
   ]
  },
  {
   "cell_type": "code",
   "execution_count": 1,
   "id": "c4a8b193",
   "metadata": {},
   "outputs": [],
   "source": [
    "# !pip install ipython-sql"
   ]
  },
  {
   "cell_type": "code",
   "execution_count": 2,
   "id": "b2a71307",
   "metadata": {},
   "outputs": [],
   "source": [
    "# load sql and use sqlite as out database\n",
    "%load_ext sql\n",
    "%sql sqlite://"
   ]
  },
  {
   "cell_type": "code",
   "execution_count": 3,
   "id": "618fca65",
   "metadata": {},
   "outputs": [
    {
     "name": "stdout",
     "output_type": "stream",
     "text": [
      " * sqlite://\n",
      "Done.\n",
      "6 rows affected.\n",
      "Done.\n",
      "6 rows affected.\n"
     ]
    },
    {
     "data": {
      "text/plain": [
       "[]"
      ]
     },
     "execution_count": 3,
     "metadata": {},
     "output_type": "execute_result"
    }
   ],
   "source": [
    "%%sql \n",
    "CREATE TABLE aTable\n",
    "(\n",
    "    pkey     INTEGER PRIMARY KEY,\n",
    "    name     varchar(24)\n",
    ");\n",
    "INSERT INTO aTable (name)\n",
    "VALUES ('Bugs Bunny'),\n",
    "       ('Popeye'),\n",
    "       ('Daffy Duck'),\n",
    "       ('Mickey Mouse'),\n",
    "       ('Minnie Mouse'),\n",
    "       ('Tweety');\n",
    "    \n",
    "CREATE TABLE bTable\n",
    "(\n",
    "    pkey     INTEGER PRIMARY KEY,\n",
    "    fkey     int,\n",
    "    name     varchar(24)\n",
    ");\n",
    "INSERT INTO bTable(fkey, name)\n",
    "VALUES (1, 'Bugs Bunny'),\n",
    "       (2, 'Charlie Brown'),\n",
    "       (3, 'Daffy Duck'),\n",
    "       (4, 'Homer Simpson'),\n",
    "       (5, 'Marge Simpson'),\n",
    "       (6, 'Tweety');"
   ]
  },
  {
   "cell_type": "code",
   "execution_count": 4,
   "id": "724d3ada",
   "metadata": {},
   "outputs": [
    {
     "name": "stdout",
     "output_type": "stream",
     "text": [
      " * sqlite://\n",
      "Done.\n"
     ]
    },
    {
     "data": {
      "text/html": [
       "<table>\n",
       "    <tr>\n",
       "        <th>type</th>\n",
       "        <th>name</th>\n",
       "        <th>tbl_name</th>\n",
       "        <th>rootpage</th>\n",
       "        <th>sql</th>\n",
       "    </tr>\n",
       "    <tr>\n",
       "        <td>table</td>\n",
       "        <td>aTable</td>\n",
       "        <td>aTable</td>\n",
       "        <td>2</td>\n",
       "        <td>CREATE TABLE aTable (<br>    pkey     INTEGER PRIMARY KEY,<br>    name     varchar(24)<br>)</td>\n",
       "    </tr>\n",
       "    <tr>\n",
       "        <td>table</td>\n",
       "        <td>bTable</td>\n",
       "        <td>bTable</td>\n",
       "        <td>3</td>\n",
       "        <td>CREATE TABLE bTable<br>(<br>    pkey     INTEGER PRIMARY KEY,<br>    fkey     int,<br>    name     varchar(24)<br>)</td>\n",
       "    </tr>\n",
       "</table>"
      ],
      "text/plain": [
       "[('table', 'aTable', 'aTable', 2, 'CREATE TABLE aTable (\\n    pkey     INTEGER PRIMARY KEY,\\n    name     varchar(24)\\n)'),\n",
       " ('table', 'bTable', 'bTable', 3, 'CREATE TABLE bTable\\n(\\n    pkey     INTEGER PRIMARY KEY,\\n    fkey     int,\\n    name     varchar(24)\\n)')]"
      ]
     },
     "execution_count": 4,
     "metadata": {},
     "output_type": "execute_result"
    }
   ],
   "source": [
    "%%sql \n",
    "SELECT * FROM sqlite_master;"
   ]
  },
  {
   "cell_type": "markdown",
   "id": "d29e58ba",
   "metadata": {},
   "source": [
    "## JOINS\n",
    "\n",
    "* https://www.w3schools.com/sql/sql_join.asp\n",
    "* RIGHT and FULL OUTER JOINs are not currently supported in sqlite 3"
   ]
  },
  {
   "cell_type": "code",
   "execution_count": 5,
   "id": "f6921c35",
   "metadata": {},
   "outputs": [
    {
     "name": "stdout",
     "output_type": "stream",
     "text": [
      " * sqlite://\n",
      "Done.\n"
     ]
    },
    {
     "data": {
      "text/html": [
       "<table>\n",
       "    <tr>\n",
       "        <th>pkey</th>\n",
       "        <th>name</th>\n",
       "        <th>fkey</th>\n",
       "        <th>name_1</th>\n",
       "    </tr>\n",
       "    <tr>\n",
       "        <td>1</td>\n",
       "        <td>Bugs Bunny</td>\n",
       "        <td>1</td>\n",
       "        <td>Bugs Bunny</td>\n",
       "    </tr>\n",
       "    <tr>\n",
       "        <td>2</td>\n",
       "        <td>Popeye</td>\n",
       "        <td>2</td>\n",
       "        <td>Charlie Brown</td>\n",
       "    </tr>\n",
       "    <tr>\n",
       "        <td>3</td>\n",
       "        <td>Daffy Duck</td>\n",
       "        <td>3</td>\n",
       "        <td>Daffy Duck</td>\n",
       "    </tr>\n",
       "    <tr>\n",
       "        <td>4</td>\n",
       "        <td>Mickey Mouse</td>\n",
       "        <td>4</td>\n",
       "        <td>Homer Simpson</td>\n",
       "    </tr>\n",
       "    <tr>\n",
       "        <td>5</td>\n",
       "        <td>Minnie Mouse</td>\n",
       "        <td>5</td>\n",
       "        <td>Marge Simpson</td>\n",
       "    </tr>\n",
       "    <tr>\n",
       "        <td>6</td>\n",
       "        <td>Tweety</td>\n",
       "        <td>6</td>\n",
       "        <td>Tweety</td>\n",
       "    </tr>\n",
       "</table>"
      ],
      "text/plain": [
       "[(1, 'Bugs Bunny', 1, 'Bugs Bunny'),\n",
       " (2, 'Popeye', 2, 'Charlie Brown'),\n",
       " (3, 'Daffy Duck', 3, 'Daffy Duck'),\n",
       " (4, 'Mickey Mouse', 4, 'Homer Simpson'),\n",
       " (5, 'Minnie Mouse', 5, 'Marge Simpson'),\n",
       " (6, 'Tweety', 6, 'Tweety')]"
      ]
     },
     "execution_count": 5,
     "metadata": {},
     "output_type": "execute_result"
    }
   ],
   "source": [
    "%%sql\n",
    "SELECT * FROM aTable JOIN bTable USING (pkey);"
   ]
  },
  {
   "cell_type": "code",
   "execution_count": 6,
   "id": "c9bf1a98",
   "metadata": {},
   "outputs": [
    {
     "data": {
      "text/html": [
       "<div>\n",
       "<style scoped>\n",
       "    .dataframe tbody tr th:only-of-type {\n",
       "        vertical-align: middle;\n",
       "    }\n",
       "\n",
       "    .dataframe tbody tr th {\n",
       "        vertical-align: top;\n",
       "    }\n",
       "\n",
       "    .dataframe thead th {\n",
       "        text-align: right;\n",
       "    }\n",
       "</style>\n",
       "<table border=\"1\" class=\"dataframe\">\n",
       "  <thead>\n",
       "    <tr style=\"text-align: right;\">\n",
       "      <th></th>\n",
       "      <th>pkey</th>\n",
       "      <th>aTable</th>\n",
       "      <th>fkey</th>\n",
       "      <th>bTable</th>\n",
       "    </tr>\n",
       "  </thead>\n",
       "  <tbody>\n",
       "    <tr>\n",
       "      <th>0</th>\n",
       "      <td>1</td>\n",
       "      <td>Bugs Bunny</td>\n",
       "      <td>1</td>\n",
       "      <td>Bugs Bunny</td>\n",
       "    </tr>\n",
       "    <tr>\n",
       "      <th>1</th>\n",
       "      <td>2</td>\n",
       "      <td>Popeye</td>\n",
       "      <td>2</td>\n",
       "      <td>Charlie Brown</td>\n",
       "    </tr>\n",
       "    <tr>\n",
       "      <th>2</th>\n",
       "      <td>3</td>\n",
       "      <td>Daffy Duck</td>\n",
       "      <td>3</td>\n",
       "      <td>Daffy Duck</td>\n",
       "    </tr>\n",
       "    <tr>\n",
       "      <th>3</th>\n",
       "      <td>4</td>\n",
       "      <td>Mickey Mouse</td>\n",
       "      <td>4</td>\n",
       "      <td>Homer Simpson</td>\n",
       "    </tr>\n",
       "    <tr>\n",
       "      <th>4</th>\n",
       "      <td>5</td>\n",
       "      <td>Minnie Mouse</td>\n",
       "      <td>5</td>\n",
       "      <td>Marge Simpson</td>\n",
       "    </tr>\n",
       "    <tr>\n",
       "      <th>5</th>\n",
       "      <td>6</td>\n",
       "      <td>Tweety</td>\n",
       "      <td>6</td>\n",
       "      <td>Tweety</td>\n",
       "    </tr>\n",
       "  </tbody>\n",
       "</table>\n",
       "</div>"
      ],
      "text/plain": [
       "   pkey        aTable  fkey         bTable\n",
       "0     1    Bugs Bunny     1     Bugs Bunny\n",
       "1     2        Popeye     2  Charlie Brown\n",
       "2     3    Daffy Duck     3     Daffy Duck\n",
       "3     4  Mickey Mouse     4  Homer Simpson\n",
       "4     5  Minnie Mouse     5  Marge Simpson\n",
       "5     6        Tweety     6         Tweety"
      ]
     },
     "execution_count": 6,
     "metadata": {},
     "output_type": "execute_result"
    }
   ],
   "source": [
    "# save output from previous cell and create a dataframe\n",
    "result = _\n",
    "df = result.DataFrame()\n",
    "df.columns = ['pkey', 'aTable', 'fkey', 'bTable']\n",
    "df"
   ]
  },
  {
   "cell_type": "markdown",
   "id": "920a4090",
   "metadata": {},
   "source": [
    "## LEFT JOIN\n",
    "\n",
    "Return all records from aTable and values that match from bTable. If no match, return null (None)"
   ]
  },
  {
   "cell_type": "code",
   "execution_count": 7,
   "id": "87f68321",
   "metadata": {},
   "outputs": [
    {
     "name": "stdout",
     "output_type": "stream",
     "text": [
      " * sqlite://\n",
      "Done.\n"
     ]
    },
    {
     "data": {
      "text/html": [
       "<table>\n",
       "    <tr>\n",
       "        <th>pkey</th>\n",
       "        <th>name</th>\n",
       "        <th>pkey_1</th>\n",
       "        <th>fkey</th>\n",
       "        <th>name_1</th>\n",
       "    </tr>\n",
       "    <tr>\n",
       "        <td>1</td>\n",
       "        <td>Bugs Bunny</td>\n",
       "        <td>1</td>\n",
       "        <td>1</td>\n",
       "        <td>Bugs Bunny</td>\n",
       "    </tr>\n",
       "    <tr>\n",
       "        <td>2</td>\n",
       "        <td>Popeye</td>\n",
       "        <td>None</td>\n",
       "        <td>None</td>\n",
       "        <td>None</td>\n",
       "    </tr>\n",
       "    <tr>\n",
       "        <td>3</td>\n",
       "        <td>Daffy Duck</td>\n",
       "        <td>3</td>\n",
       "        <td>3</td>\n",
       "        <td>Daffy Duck</td>\n",
       "    </tr>\n",
       "    <tr>\n",
       "        <td>4</td>\n",
       "        <td>Mickey Mouse</td>\n",
       "        <td>None</td>\n",
       "        <td>None</td>\n",
       "        <td>None</td>\n",
       "    </tr>\n",
       "    <tr>\n",
       "        <td>5</td>\n",
       "        <td>Minnie Mouse</td>\n",
       "        <td>None</td>\n",
       "        <td>None</td>\n",
       "        <td>None</td>\n",
       "    </tr>\n",
       "    <tr>\n",
       "        <td>6</td>\n",
       "        <td>Tweety</td>\n",
       "        <td>6</td>\n",
       "        <td>6</td>\n",
       "        <td>Tweety</td>\n",
       "    </tr>\n",
       "</table>"
      ],
      "text/plain": [
       "[(1, 'Bugs Bunny', 1, 1, 'Bugs Bunny'),\n",
       " (2, 'Popeye', None, None, None),\n",
       " (3, 'Daffy Duck', 3, 3, 'Daffy Duck'),\n",
       " (4, 'Mickey Mouse', None, None, None),\n",
       " (5, 'Minnie Mouse', None, None, None),\n",
       " (6, 'Tweety', 6, 6, 'Tweety')]"
      ]
     },
     "execution_count": 7,
     "metadata": {},
     "output_type": "execute_result"
    }
   ],
   "source": [
    "%%sql\n",
    "SELECT * FROM aTable\n",
    "LEFT JOIN bTable\n",
    "ON aTable.name = bTable.name;"
   ]
  },
  {
   "cell_type": "markdown",
   "id": "3f68c88f",
   "metadata": {},
   "source": [
    "## LEFT JOIN WHERE\n",
    "\n",
    "Return records from aTable and bTable based on some where condition"
   ]
  },
  {
   "cell_type": "code",
   "execution_count": 8,
   "id": "1eb7f7e3",
   "metadata": {},
   "outputs": [
    {
     "name": "stdout",
     "output_type": "stream",
     "text": [
      " * sqlite://\n",
      "Done.\n"
     ]
    },
    {
     "data": {
      "text/html": [
       "<table>\n",
       "    <tr>\n",
       "        <th>pkey</th>\n",
       "        <th>name</th>\n",
       "        <th>pkey_1</th>\n",
       "        <th>fkey</th>\n",
       "        <th>name_1</th>\n",
       "    </tr>\n",
       "    <tr>\n",
       "        <td>1</td>\n",
       "        <td>Bugs Bunny</td>\n",
       "        <td>1</td>\n",
       "        <td>1</td>\n",
       "        <td>Bugs Bunny</td>\n",
       "    </tr>\n",
       "    <tr>\n",
       "        <td>3</td>\n",
       "        <td>Daffy Duck</td>\n",
       "        <td>3</td>\n",
       "        <td>3</td>\n",
       "        <td>Daffy Duck</td>\n",
       "    </tr>\n",
       "    <tr>\n",
       "        <td>6</td>\n",
       "        <td>Tweety</td>\n",
       "        <td>6</td>\n",
       "        <td>6</td>\n",
       "        <td>Tweety</td>\n",
       "    </tr>\n",
       "</table>"
      ],
      "text/plain": [
       "[(1, 'Bugs Bunny', 1, 1, 'Bugs Bunny'),\n",
       " (3, 'Daffy Duck', 3, 3, 'Daffy Duck'),\n",
       " (6, 'Tweety', 6, 6, 'Tweety')]"
      ]
     },
     "execution_count": 8,
     "metadata": {},
     "output_type": "execute_result"
    }
   ],
   "source": [
    "%%sql\n",
    "SELECT * FROM aTable\n",
    "LEFT JOIN bTable\n",
    "ON aTable.name = bTable.name\n",
    "WHERE bTable.fkey IS not null;"
   ]
  },
  {
   "cell_type": "markdown",
   "id": "f669bdc0",
   "metadata": {},
   "source": [
    "## INNER JOIN\n",
    "\n",
    "Returns the set of records that match in both aTable and bTable"
   ]
  },
  {
   "cell_type": "code",
   "execution_count": 9,
   "id": "645f8ce1",
   "metadata": {},
   "outputs": [
    {
     "name": "stdout",
     "output_type": "stream",
     "text": [
      " * sqlite://\n",
      "Done.\n"
     ]
    },
    {
     "data": {
      "text/html": [
       "<table>\n",
       "    <tr>\n",
       "        <th>pkey</th>\n",
       "        <th>name</th>\n",
       "        <th>pkey_1</th>\n",
       "        <th>fkey</th>\n",
       "        <th>name_1</th>\n",
       "    </tr>\n",
       "    <tr>\n",
       "        <td>1</td>\n",
       "        <td>Bugs Bunny</td>\n",
       "        <td>1</td>\n",
       "        <td>1</td>\n",
       "        <td>Bugs Bunny</td>\n",
       "    </tr>\n",
       "    <tr>\n",
       "        <td>3</td>\n",
       "        <td>Daffy Duck</td>\n",
       "        <td>3</td>\n",
       "        <td>3</td>\n",
       "        <td>Daffy Duck</td>\n",
       "    </tr>\n",
       "    <tr>\n",
       "        <td>6</td>\n",
       "        <td>Tweety</td>\n",
       "        <td>6</td>\n",
       "        <td>6</td>\n",
       "        <td>Tweety</td>\n",
       "    </tr>\n",
       "</table>"
      ],
      "text/plain": [
       "[(1, 'Bugs Bunny', 1, 1, 'Bugs Bunny'),\n",
       " (3, 'Daffy Duck', 3, 3, 'Daffy Duck'),\n",
       " (6, 'Tweety', 6, 6, 'Tweety')]"
      ]
     },
     "execution_count": 9,
     "metadata": {},
     "output_type": "execute_result"
    }
   ],
   "source": [
    "%%sql\n",
    "SELECT * FROM aTable\n",
    "INNER JOIN bTable\n",
    "ON aTable.name = bTable.name;"
   ]
  },
  {
   "cell_type": "markdown",
   "id": "1323cd9d",
   "metadata": {},
   "source": [
    "## Using Aliases"
   ]
  },
  {
   "cell_type": "code",
   "execution_count": 10,
   "id": "8a4f8d30",
   "metadata": {},
   "outputs": [
    {
     "name": "stdout",
     "output_type": "stream",
     "text": [
      " * sqlite://\n",
      "Done.\n"
     ]
    },
    {
     "data": {
      "text/html": [
       "<table>\n",
       "    <tr>\n",
       "        <th>pkey</th>\n",
       "        <th>name</th>\n",
       "    </tr>\n",
       "    <tr>\n",
       "        <td>1</td>\n",
       "        <td>Bugs Bunny</td>\n",
       "    </tr>\n",
       "    <tr>\n",
       "        <td>3</td>\n",
       "        <td>Daffy Duck</td>\n",
       "    </tr>\n",
       "    <tr>\n",
       "        <td>6</td>\n",
       "        <td>Tweety</td>\n",
       "    </tr>\n",
       "</table>"
      ],
      "text/plain": [
       "[(1, 'Bugs Bunny'), (3, 'Daffy Duck'), (6, 'Tweety')]"
      ]
     },
     "execution_count": 10,
     "metadata": {},
     "output_type": "execute_result"
    }
   ],
   "source": [
    "%%sql\n",
    "SELECT a.pkey, a.name FROM aTable a, btable b WHERE a.name = b.name;"
   ]
  },
  {
   "cell_type": "code",
   "execution_count": 11,
   "id": "6a6e0c7e",
   "metadata": {},
   "outputs": [
    {
     "name": "stdout",
     "output_type": "stream",
     "text": [
      " * sqlite://\n",
      "Done.\n"
     ]
    },
    {
     "data": {
      "text/html": [
       "<table>\n",
       "    <tr>\n",
       "        <th>pkey</th>\n",
       "        <th>name</th>\n",
       "    </tr>\n",
       "    <tr>\n",
       "        <td>1</td>\n",
       "        <td>Bugs Bunny</td>\n",
       "    </tr>\n",
       "</table>"
      ],
      "text/plain": [
       "[(1, 'Bugs Bunny')]"
      ]
     },
     "execution_count": 11,
     "metadata": {},
     "output_type": "execute_result"
    }
   ],
   "source": [
    "%%sql\n",
    "SELECT a.pkey, a.name FROM aTable a, btable b WHERE a.pkey = b.fkey and b.fkey = 1;"
   ]
  },
  {
   "cell_type": "code",
   "execution_count": 12,
   "id": "c10ff68f",
   "metadata": {},
   "outputs": [
    {
     "name": "stdout",
     "output_type": "stream",
     "text": [
      "0\n"
     ]
    }
   ],
   "source": [
    "import sqlite3\n",
    "\n",
    "connection = sqlite3.connect('looneylms.db') # sqlite will create looneylms.db if it doesn't exist, \n",
    "                                             # a file now in the same folder as this file\n",
    "cursor = connection.cursor()\n",
    "print(connection.total_changes)"
   ]
  },
  {
   "cell_type": "code",
   "execution_count": 13,
   "id": "70958a29",
   "metadata": {},
   "outputs": [
    {
     "data": {
      "text/plain": [
       "<sqlite3.Cursor at 0x20b76ad09d0>"
      ]
     },
     "execution_count": 13,
     "metadata": {},
     "output_type": "execute_result"
    }
   ],
   "source": [
    "# multiline strings in Python can be sorrounded with ''' Multi line text '''\n",
    "query = '''\n",
    "CREATE TABLE IF NOT EXISTS people (\n",
    "    id INTEGER PRIMARY KEY, \n",
    "    firstname TEXT, \n",
    "    lastname TEXT, \n",
    "    year INTEGER\n",
    ")\n",
    "'''\n",
    "cursor.execute(query)"
   ]
  },
  {
   "cell_type": "code",
   "execution_count": 14,
   "id": "d35beb25",
   "metadata": {},
   "outputs": [
    {
     "data": {
      "text/plain": [
       "<sqlite3.Cursor at 0x20b76ad09d0>"
      ]
     },
     "execution_count": 14,
     "metadata": {},
     "output_type": "execute_result"
    }
   ],
   "source": [
    "# populate people table\n",
    "cursor.execute(\"INSERT INTO people(firstname, lastname, year) VALUES ('Bugs', 'Bunny', 1)\")\n",
    "cursor.execute(\"INSERT INTO people(firstname, lastname, year) VALUES ('Fifi', 'La Fume', 3)\")\n",
    "cursor.execute(\"INSERT INTO people(firstname, lastname, year) VALUES ('Daffy', 'Duck', 2)\")\n",
    "cursor.execute(\"INSERT INTO people(firstname, lastname, year) VALUES ('Foghorn', 'Leghorn', 1)\")\n",
    "cursor.execute(\"INSERT INTO people(firstname, lastname, year) VALUES ('Tweety', 'Bird', 4)\")\n",
    "cursor.execute(\"INSERT INTO people(firstname, lastname, year) VALUES ('Porky', 'Pig', 4)\")"
   ]
  },
  {
   "cell_type": "code",
   "execution_count": 15,
   "id": "3882f9e7",
   "metadata": {},
   "outputs": [
    {
     "name": "stdout",
     "output_type": "stream",
     "text": [
      "[(1, 'Bugs', 'Bunny', 1), (2, 'Fifi', 'La Fume', 3), (3, 'Daffy', 'Duck', 2), (4, 'Foghorn', 'Leghorn', 1), (5, 'Tweety', 'Bird', 4), (6, 'Porky', 'Pig', 4)]\n"
     ]
    }
   ],
   "source": [
    "rows = cursor.execute(\"SELECT * FROM people\").fetchall()\n",
    "print(rows)"
   ]
  },
  {
   "cell_type": "code",
   "execution_count": 16,
   "id": "4e8e480d",
   "metadata": {},
   "outputs": [
    {
     "data": {
      "text/plain": [
       "<sqlite3.Cursor at 0x20b76ad09d0>"
      ]
     },
     "execution_count": 16,
     "metadata": {},
     "output_type": "execute_result"
    }
   ],
   "source": [
    "query = '''\n",
    "CREATE TABLE IF NOT EXISTS quizzes (\n",
    "    id INTEGER PRIMARY KEY, \n",
    "    quizname TEXT, \n",
    "    description TEXT\n",
    ")\n",
    "'''\n",
    "cursor.execute(query)"
   ]
  },
  {
   "cell_type": "code",
   "execution_count": 17,
   "id": "986ed5e1",
   "metadata": {},
   "outputs": [
    {
     "data": {
      "text/plain": [
       "<sqlite3.Cursor at 0x20b76ad09d0>"
      ]
     },
     "execution_count": 17,
     "metadata": {},
     "output_type": "execute_result"
    }
   ],
   "source": [
    "cursor.execute(\"INSERT INTO quizzes(quizname, description) VALUES ('Looney', 'quiz about laughing')\")\n",
    "cursor.execute(\"INSERT INTO quizzes(quizname, description) VALUES ('Tune', 'quiz about tunes')\")"
   ]
  },
  {
   "cell_type": "code",
   "execution_count": 18,
   "id": "ee689b39",
   "metadata": {},
   "outputs": [
    {
     "name": "stdout",
     "output_type": "stream",
     "text": [
      "[(1, 'Looney', 'quiz about laughing'), (2, 'Tune', 'quiz about tunes')]\n"
     ]
    }
   ],
   "source": [
    "rows = cursor.execute(\"SELECT * FROM quizzes\").fetchall()\n",
    "print(rows)"
   ]
  },
  {
   "cell_type": "code",
   "execution_count": 19,
   "id": "ff30dc4f",
   "metadata": {},
   "outputs": [
    {
     "data": {
      "text/plain": [
       "<sqlite3.Cursor at 0x20b76ad09d0>"
      ]
     },
     "execution_count": 19,
     "metadata": {},
     "output_type": "execute_result"
    }
   ],
   "source": [
    "query = '''\n",
    "CREATE TABLE IF NOT EXISTS quiz_details (\n",
    "    id INTEGER PRIMARY KEY, \n",
    "    quizzes_id INTEGER, \n",
    "    items INTEGER,\n",
    "    FOREIGN KEY (quizzes_id) \n",
    "      REFERENCES quizzes (id) \n",
    "         ON DELETE NO ACTION \n",
    "         ON UPDATE CASCADE\n",
    ")\n",
    "'''\n",
    "cursor.execute(query)"
   ]
  },
  {
   "cell_type": "code",
   "execution_count": 20,
   "id": "bb74e7a9",
   "metadata": {},
   "outputs": [
    {
     "data": {
      "text/plain": [
       "<sqlite3.Cursor at 0x20b76ad09d0>"
      ]
     },
     "execution_count": 20,
     "metadata": {},
     "output_type": "execute_result"
    }
   ],
   "source": [
    "cursor.execute(\"INSERT INTO quiz_details(quizzes_id, items) VALUES (1, 10)\")\n",
    "cursor.execute(\"INSERT INTO quiz_details(quizzes_id, items) VALUES (2, 10)\")"
   ]
  },
  {
   "cell_type": "code",
   "execution_count": 21,
   "id": "48fd3927",
   "metadata": {},
   "outputs": [
    {
     "name": "stdout",
     "output_type": "stream",
     "text": [
      "[(1, 1, 10), (2, 2, 10)]\n"
     ]
    }
   ],
   "source": [
    "rows = cursor.execute(\"SELECT * FROM quiz_details\").fetchall()\n",
    "print(rows)"
   ]
  },
  {
   "cell_type": "code",
   "execution_count": 22,
   "id": "2c96e5e9",
   "metadata": {},
   "outputs": [
    {
     "data": {
      "text/plain": [
       "<sqlite3.Cursor at 0x20b76ad09d0>"
      ]
     },
     "execution_count": 22,
     "metadata": {},
     "output_type": "execute_result"
    }
   ],
   "source": [
    "query = '''\n",
    "CREATE TABLE IF NOT EXISTS quiz_results (\n",
    "    id INTEGER PRIMARY KEY, \n",
    "    quizzes_id INTEGER, \n",
    "    people_id INTEGER,\n",
    "    score INTEGER,\n",
    "    FOREIGN KEY (people_id) \n",
    "      REFERENCES people (id) \n",
    "         ON DELETE NO ACTION \n",
    "         ON UPDATE CASCADE,\n",
    "    FOREIGN KEY (quizzes_id) \n",
    "      REFERENCES quizzes (id) \n",
    "         ON DELETE NO ACTION \n",
    "         ON UPDATE CASCADE\n",
    ")\n",
    "'''\n",
    "cursor.execute(query)"
   ]
  },
  {
   "cell_type": "code",
   "execution_count": 23,
   "id": "ccee6f24",
   "metadata": {},
   "outputs": [
    {
     "data": {
      "text/plain": [
       "<sqlite3.Cursor at 0x20b76ad09d0>"
      ]
     },
     "execution_count": 23,
     "metadata": {},
     "output_type": "execute_result"
    }
   ],
   "source": [
    "cursor.execute(\"INSERT INTO quiz_results(quizzes_id, people_id, score) VALUES (1, 3, 7)\")\n",
    "cursor.execute(\"INSERT INTO quiz_results(quizzes_id, people_id, score) VALUES (2, 5, 8)\")\n",
    "cursor.execute(\"INSERT INTO quiz_results(quizzes_id, people_id, score) VALUES (2, 1, 9)\")\n",
    "cursor.execute(\"INSERT INTO quiz_results(quizzes_id, people_id, score) VALUES (1, 4, 8)\")\n",
    "cursor.execute(\"INSERT INTO quiz_results(quizzes_id, people_id, score) VALUES (2, 3, 7)\")\n",
    "cursor.execute(\"INSERT INTO quiz_results(quizzes_id, people_id, score) VALUES (1, 2, 8)\")"
   ]
  },
  {
   "cell_type": "code",
   "execution_count": 24,
   "id": "1dadffc5",
   "metadata": {},
   "outputs": [
    {
     "name": "stdout",
     "output_type": "stream",
     "text": [
      "[(1, 1, 3, 7), (2, 2, 5, 8), (3, 2, 1, 9), (4, 1, 4, 8), (5, 2, 3, 7), (6, 1, 2, 8)]\n"
     ]
    }
   ],
   "source": [
    "rows = cursor.execute(\"SELECT * FROM quiz_results\").fetchall()\n",
    "print(rows)"
   ]
  },
  {
   "cell_type": "code",
   "execution_count": 25,
   "id": "c4771eeb",
   "metadata": {},
   "outputs": [
    {
     "name": "stdout",
     "output_type": "stream",
     "text": [
      "[(1, 'Bugs', 'Bunny', 1), (2, 'Fifi', 'La Fume', 3), (4, 'Foghorn', 'Leghorn', 1), (5, 'Tweety', 'Bird', 4), (6, 'Porky', 'Pig', 4), (7, 'Daffy', 'Duck', 2)]\n"
     ]
    }
   ],
   "source": [
    "query = '''\n",
    "UPDATE people\n",
    "SET id = 7\n",
    "WHERE firstname = 'Daffy';\n",
    "'''\n",
    "cursor.execute(query)\n",
    "rows = cursor.execute(\"SELECT * FROM people\").fetchall()\n",
    "print(rows)"
   ]
  },
  {
   "cell_type": "code",
   "execution_count": 26,
   "id": "d1e3591e",
   "metadata": {},
   "outputs": [
    {
     "name": "stdout",
     "output_type": "stream",
     "text": [
      "[(1, 1, 3, 7), (2, 2, 5, 8), (3, 2, 1, 9), (4, 1, 4, 8), (5, 2, 3, 7), (6, 1, 2, 8)]\n"
     ]
    }
   ],
   "source": [
    "cursor.execute(query)\n",
    "rows = cursor.execute(\"SELECT * FROM quiz_results\").fetchall()\n",
    "print(rows)"
   ]
  },
  {
   "cell_type": "markdown",
   "id": "fd5603e9",
   "metadata": {},
   "source": [
    "## Views"
   ]
  },
  {
   "cell_type": "code",
   "execution_count": 27,
   "id": "6500833b",
   "metadata": {},
   "outputs": [
    {
     "name": "stdout",
     "output_type": "stream",
     "text": [
      "('Looney', 'Foghorn', 'Leghorn', 8, 1)\n",
      "('Looney', 'Fifi', 'La Fume', 8, 3)\n",
      "('Tune', 'Tweety', 'Bird', 8, 4)\n",
      "('Tune', 'Bugs', 'Bunny', 9, 1)\n"
     ]
    }
   ],
   "source": [
    "query = '''\n",
    "SELECT \n",
    "    quizzes.quizname as quiz, \n",
    "    people.firstname as firstname, \n",
    "    people.lastname as lastname, \n",
    "    quiz_results.score as score, \n",
    "    people.year as year\n",
    "FROM \n",
    "    quiz_results\n",
    "INNER JOIN people ON people.id = quiz_results.people_id\n",
    "INNER JOIN quizzes ON quizzes.id = quiz_results.quizzes_id\n",
    "ORDER BY quizzes.id;\n",
    "'''\n",
    "results = cursor.execute(query).fetchall()\n",
    "for r in results:\n",
    "    print(r)"
   ]
  },
  {
   "cell_type": "code",
   "execution_count": 28,
   "id": "05906aa3",
   "metadata": {},
   "outputs": [
    {
     "data": {
      "text/plain": [
       "<sqlite3.Cursor at 0x20b76ad09d0>"
      ]
     },
     "execution_count": 28,
     "metadata": {},
     "output_type": "execute_result"
    }
   ],
   "source": [
    "query = '''\n",
    "CREATE VIEW quiz_takers\n",
    "AS\n",
    "SELECT \n",
    "    quizzes.quizname as quiz, \n",
    "    people.firstname as firstname, \n",
    "    people.lastname as lastname, \n",
    "    quiz_results.score as score, \n",
    "    people.year as year\n",
    "FROM \n",
    "    quiz_results\n",
    "INNER JOIN people ON people.id = quiz_results.people_id\n",
    "INNER JOIN quizzes ON quizzes.id = quiz_results.quizzes_id\n",
    "ORDER BY quizzes.id;\n",
    "'''\n",
    "cursor.execute(query)"
   ]
  },
  {
   "cell_type": "code",
   "execution_count": 29,
   "id": "4a5ba6e6",
   "metadata": {},
   "outputs": [
    {
     "name": "stdout",
     "output_type": "stream",
     "text": [
      "('Looney', 'Foghorn', 'Leghorn', 8, 1)\n",
      "('Looney', 'Fifi', 'La Fume', 8, 3)\n",
      "('Tune', 'Tweety', 'Bird', 8, 4)\n",
      "('Tune', 'Bugs', 'Bunny', 9, 1)\n"
     ]
    }
   ],
   "source": [
    "rows = cursor.execute(\"SELECT * FROM quiz_takers\").fetchall()\n",
    "for r in rows:\n",
    "    print(r)"
   ]
  },
  {
   "cell_type": "markdown",
   "id": "0b5d301d",
   "metadata": {},
   "source": [
    "## Using Pandas"
   ]
  },
  {
   "cell_type": "code",
   "execution_count": 30,
   "id": "6eb400be",
   "metadata": {},
   "outputs": [
    {
     "name": "stdout",
     "output_type": "stream",
     "text": [
      "     quiz firstname lastname  score  year\n",
      "0  Looney   Foghorn  Leghorn      8     1\n",
      "1  Looney      Fifi  La Fume      8     3\n",
      "2    Tune    Tweety     Bird      8     4\n",
      "3    Tune      Bugs    Bunny      9     1\n"
     ]
    }
   ],
   "source": [
    "# https://datacarpentry.org/python-ecology-lesson/09-working-with-sql/index.html\n",
    "import pandas as pd\n",
    "\n",
    "df = pd.read_sql_query(\"SELECT * FROM quiz_takers\", connection)\n",
    "print(df.head())"
   ]
  },
  {
   "cell_type": "code",
   "execution_count": 31,
   "id": "1a341351",
   "metadata": {},
   "outputs": [
    {
     "name": "stdout",
     "output_type": "stream",
     "text": [
      "[(1,)]\n"
     ]
    }
   ],
   "source": [
    "from contextlib import closing\n",
    "\n",
    "with closing(sqlite3.connect(\"looneylms.db\")) as connection:\n",
    "    with closing(connection.cursor()) as cursor:\n",
    "        rows = cursor.execute(\"SELECT 1\").fetchall()\n",
    "        print(rows)"
   ]
  },
  {
   "cell_type": "markdown",
   "id": "03d4add0",
   "metadata": {},
   "source": [
    "Start completely over\n",
    "\n",
    "* Kernel Restart and clear output\n",
    "* Delete looneylms.db \n",
    "* Kernel Restart and run all"
   ]
  },
  {
   "cell_type": "markdown",
   "id": "c6b2bafc",
   "metadata": {},
   "source": [
    "## SQLAlchemy\n",
    "\n",
    "* SQLAlchemy provides a nice “Pythonic” way of interacting with databases. So rather than dealing with the differences between specific dialects of traditional SQL such as MySQL or PostgreSQL or Oracle, you can leverage the Pythonic framework of SQLAlchemy to streamline your workflow and more efficiently query your data.\n",
    "\n",
    "https://towardsdatascience.com/sqlalchemy-python-tutorial-79a577141a91\n",
    "\n",
    "## ORM\n",
    "\n",
    "* ORM (Object Relational Mapping) is a programming technique for converting data between incompatible type systems in object-oriented programming languages. Usually, the type system used in an Object Oriented (OO) language like Python contains non-scalar types. These cannot be expressed as primitive types such as integers and strings. Hence, the OO programmer has to convert objects in scalar data to interact with backend database. However, data types in most of the database products such as Oracle, MySQL, etc., are primary. In an ORM system, each class maps to a table in the underlying database. Instead of writing tedious database interfacing code yourself, an ORM takes care of these issues for you while you can focus on programming the logics of the system.\n",
    "\n",
    "https://www.tutorialspoint.com/sqlalchemy/sqlalchemy_introduction.htm"
   ]
  },
  {
   "cell_type": "code",
   "execution_count": 32,
   "id": "d3461a5c",
   "metadata": {},
   "outputs": [],
   "source": [
    "# pip install sqlalchemy"
   ]
  },
  {
   "cell_type": "code",
   "execution_count": 33,
   "id": "ad6921a8",
   "metadata": {},
   "outputs": [
    {
     "name": "stdout",
     "output_type": "stream",
     "text": [
      "1.4.22\n",
      "column keys: ['Id', 'firstname', 'lastname', 'year']\n",
      "\n",
      "Table('people', MetaData(), Column('Id', INTEGER(), table=<people>, primary_key=True, nullable=False), Column('firstname', VARCHAR(length=255), table=<people>), Column('lastname', VARCHAR(length=255), table=<people>), Column('year', INTEGER(), table=<people>), schema=None)\n",
      "\n",
      "   Id firstname lastname  year\n",
      "0   1      Bugs    Bunny     4\n",
      "1   2    Tweety     Bird     3\n",
      "2   3     Daffy     Duck     4\n"
     ]
    }
   ],
   "source": [
    "# how to connect to different databases https://www.tutorialspoint.com/sqlalchemy/sqlalchemy_core_connecting_to_database.htm\n",
    "import pandas as pd\n",
    "import sqlalchemy as db\n",
    "from sqlalchemy.sql import select\n",
    "\n",
    "print(db.__version__)\n",
    "\n",
    "engine = db.create_engine('sqlite:///looneyalchemy.db') # creates a new database\n",
    "connection = engine.connect()\n",
    "metadata = db.MetaData()\n",
    "\n",
    "# define people table\n",
    "people = db.Table('people', metadata,\n",
    "              db.Column('Id', db.Integer(), primary_key=True),\n",
    "              db.Column('firstname', db.String(255)),\n",
    "              db.Column('lastname', db.String(255)),\n",
    "              db.Column('year', db.Integer())\n",
    "              )\n",
    "\n",
    "# create table\n",
    "metadata.create_all(engine) \n",
    "\n",
    "# insert data\n",
    "query = db.insert(people).values(Id=1, firstname='Bugs', lastname='Bunny', year=4).prefix_with(\"OR IGNORE\") \n",
    "connection.execute(query)\n",
    "\n",
    "query = db.insert(people).prefix_with(\"OR IGNORE\")\n",
    "values_list = [{'Id':'2', 'firstname': 'Tweety', 'lastname': 'Bird', 'year': 3},\n",
    "               {'Id':'3', 'firstname': 'Daffy', 'lastname': 'Duck', 'year': 4}]\n",
    "connection.execute(query, values_list)\n",
    "\n",
    "\n",
    "metadata = db.MetaData()\n",
    "people = db.Table('people', metadata, autoload=True, autoload_with=engine)\n",
    "\n",
    "print('column keys:', people.columns.keys())\n",
    "print()\n",
    "print(repr(metadata.tables['people']))\n",
    "\n",
    "# select * from people\n",
    "query = db.select([people])\n",
    "result = connection.execute(query)\n",
    "rows = result.fetchall()\n",
    "df = pd.DataFrame(rows)\n",
    "df.columns = people.columns.keys()\n",
    "print()\n",
    "print(df.head())"
   ]
  }
 ],
 "metadata": {
  "kernelspec": {
   "display_name": "Python 3 (ipykernel)",
   "language": "python",
   "name": "python3"
  },
  "language_info": {
   "codemirror_mode": {
    "name": "ipython",
    "version": 3
   },
   "file_extension": ".py",
   "mimetype": "text/x-python",
   "name": "python",
   "nbconvert_exporter": "python",
   "pygments_lexer": "ipython3",
   "version": "3.9.7"
  }
 },
 "nbformat": 4,
 "nbformat_minor": 5
}
