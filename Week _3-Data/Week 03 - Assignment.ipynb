{
 "cells": [
  {
   "cell_type": "markdown",
   "id": "2a4fdd4d",
   "metadata": {},
   "source": [
    "# Week 03 - Assignment"
   ]
  },
  {
   "cell_type": "markdown",
   "id": "d773be2a",
   "metadata": {},
   "source": [
    "## Review: The Building Blocks of Python Code\n",
    "\n",
    "The two building blocks of Python code are *expressions* and *statements*.  An **expression** is a piece of code that\n",
    "\n",
    "* is self-contained, meaning it would make sense to write it on a line by itself, and\n",
    "* usually evaluates to a value.\n",
    "\n",
    "\n",
    "Here are two expressions that both evaluate to 3:\n",
    "\n",
    "    3\n",
    "    5 - 2\n",
    "    \n",
    "One important type of expression is the **call expression**. A call expression begins with the name of a function and is followed by the argument(s) of that function in parentheses. The function returns some value, based on its arguments. Some important mathematical functions are listed below.\n",
    "\n",
    "| Function | Description                                                   |\n",
    "|----------|---------------------------------------------------------------|\n",
    "| `abs`      | Returns the absolute value of its argument                    |\n",
    "| `max`      | Returns the maximum of all its arguments                      |\n",
    "| `min`      | Returns the minimum of all its arguments                      |\n",
    "| `pow`      | Raises its first argument to the power of its second argument |\n",
    "| `round`    | Rounds its argument to the nearest integer                     |\n",
    "\n",
    "Here are two call expressions that both evaluate to 3:\n",
    "\n",
    "    abs(2 - 5)\n",
    "    max(round(2.8), min(pow(2, 10), -1 * pow(2, 10)))\n",
    "\n",
    "The expression `2 - 5` and the two call expressions given above are examples of **compound expressions**, meaning that they are actually combinations of several smaller expressions.  `2 - 5` combines the expressions `2` and `5` by subtraction.  In this case, `2` and `5` are called **subexpressions** because they're expressions that are part of a larger expression.\n",
    "\n",
    "A **statement** is a whole line of code.  Some statements are just expressions.  The expressions listed above are examples.\n",
    "\n",
    "Other statements *make something happen* rather than *having a value*. For example, an **assignment statement** assigns a value to a name. \n",
    "\n",
    "A good way to think about this is that we're **evaluating the right-hand side** of the equals sign and **assigning it to the left-hand side**. Here are some assignment statements:\n",
    "    \n",
    "    height = 1.3\n",
    "    the_number_five = abs(-5)\n",
    "    absolute_height_difference = abs(height - 1.688)\n",
    "\n",
    "An important idea in programming is that large, interesting things can be built by combining many simple, uninteresting things.  The key to understanding a complicated piece of code is breaking it down into its simple components.\n",
    "\n",
    "For example, a lot is going on in the last statement above, but it's really just a combination of a few things.  This picture describes what's going on.\n",
    "\n",
    "<img src=\"https://github.com/data-8/materials-fa20/raw/54c2e7a954e1685c0a6145b311599718ece5d97d/materials/fa20/lab/lab02/statement.png\">"
   ]
  },
  {
   "cell_type": "markdown",
   "id": "39b0f9d6",
   "metadata": {},
   "source": [
    "In the next cell, assign the name `new_year` to the **larger number** among the following two numbers:\n",
    "\n",
    "* the **absolute value** of $2^{5}-2^{11}-2^1 + 1$, and \n",
    "* $5 \\times 13 \\times 31 + 7$.\n",
    "\n",
    "Use just one statement (one line of code) that provides the larger of the two expressions."
   ]
  },
  {
   "cell_type": "code",
   "execution_count": null,
   "id": "7ae55947",
   "metadata": {},
   "outputs": [],
   "source": [
    "new_year = ...\n",
    "new_year"
   ]
  },
  {
   "cell_type": "markdown",
   "id": "291708c8",
   "metadata": {},
   "source": [
    "We've asked you to use one line of code in the question above because it only involves mathematical operations. However, more complicated programming questions will require more steps. It isn’t always a good idea to jam these steps into a single line because it can make the code harder to read and harder to debug.\n",
    "\n",
    "Good programming practice involves splitting up your code into smaller steps and using appropriate names. You'll have plenty of practice in the rest of this course!"
   ]
  },
  {
   "cell_type": "markdown",
   "id": "c110d38c",
   "metadata": {},
   "source": [
    "## Importing Code\n",
    "\n",
    "Most programming involves work that is very similar to work that has been done before.  Since writing code is time-consuming, it's good to rely on others' published code when you can.  Rather than copy-pasting, Python allows us to **import modules**. A module is a file with Python code that has defined variables and functions. By importing a module, we are able to use its code in our own notebook.\n",
    "\n",
    "Python includes many useful modules that are just an `import` away.  We'll look at the `math` module as a first example. The `math` module is extremely useful in computing mathematical expressions in Python. \n",
    "\n",
    "Suppose we want to very accurately compute the area of a circle with a radius of 5 meters.  For that, we need the constant $\\pi$, which is roughly 3.14.  Conveniently, the `math` module has `pi` defined for us. Run the following cell to import the math module:"
   ]
  },
  {
   "cell_type": "code",
   "execution_count": null,
   "id": "6d765aea",
   "metadata": {},
   "outputs": [],
   "source": [
    "import math\n",
    "radius = 5\n",
    "area_of_circle = radius**2 * math.pi\n",
    "area_of_circle"
   ]
  },
  {
   "cell_type": "markdown",
   "id": "df51e977",
   "metadata": {},
   "source": [
    "In the code above, the line `import math` imports the math module. This statement creates a module and then assigns the name `math` to that module. We are now able to access any variables or functions defined within `math` by typing the name of the module followed by a dot, then followed by the name of the variable or function we want.\n",
    "\n",
    "    <module name>.<name>"
   ]
  },
  {
   "cell_type": "markdown",
   "id": "b9ac8489",
   "metadata": {},
   "source": [
    "The module `math` also provides the name `e` for the base of the natural logarithm, which is roughly 2.71. Compute $e^{\\pi}-\\pi$, giving it the name `near_twenty`.\n",
    "\n",
    "*Remember: You can access `pi` from the `math` module as well!*"
   ]
  },
  {
   "cell_type": "code",
   "execution_count": null,
   "id": "ccf47b87",
   "metadata": {},
   "outputs": [],
   "source": [
    "near_twenty = ...\n",
    "near_twenty"
   ]
  },
  {
   "cell_type": "markdown",
   "id": "75bf7672",
   "metadata": {},
   "source": [
    "## Accessing Functions\n",
    "\n",
    "In the question above, you accessed variables within the `math` module. \n",
    "\n",
    "**Modules** also define **functions**.  For example, `math` provides the name `floor` for the floor function.  Having imported `math` already, we can write `math.floor(7.5)` to compute the floor of 7.5.  (Note that the floor function returns the largest integer less than or equal to a given number.)\n",
    "\n",
    "Compute the floor of pi using `floor` and `pi` from the `math` module.  Give the result the name `floor_of_pi`."
   ]
  },
  {
   "cell_type": "code",
   "execution_count": null,
   "id": "20ad1828",
   "metadata": {},
   "outputs": [],
   "source": [
    "floor_of_pi = ...\n",
    "floor_of_pi"
   ]
  },
  {
   "cell_type": "markdown",
   "id": "5eda4032",
   "metadata": {},
   "source": [
    "For your reference, below are some more examples of functions from the `math` module.\n",
    "\n",
    "Notice how different functions take in different numbers of arguments. Often, the [documentation](https://docs.python.org/3/library/math.html) of the module will provide information on how many arguments are required for each function.\n",
    "\n",
    "*Hint: If you press `shift+tab` while next to the function call, the documentation for that function will appear.*"
   ]
  },
  {
   "cell_type": "code",
   "execution_count": null,
   "id": "846090d7",
   "metadata": {},
   "outputs": [],
   "source": [
    "# Calculating logarithms (the logarithm of 8 in base 2).\n",
    "# The result is 3 because 2 to the power of 3 is 8.\n",
    "import math\n",
    "\n",
    "math.log(8, 2)"
   ]
  },
  {
   "cell_type": "code",
   "execution_count": null,
   "id": "9014efbf",
   "metadata": {},
   "outputs": [],
   "source": [
    "# Calculating square roots.\n",
    "math.sqrt(5)"
   ]
  },
  {
   "cell_type": "markdown",
   "id": "2f289b66",
   "metadata": {},
   "source": [
    "There are various ways to import and access code from outside sources. The method we used above — `import <module_name>` — imports the entire module and requires that we use `<module_name>.<name>` to access its code. \n",
    "\n",
    "We can also import a specific constant or function instead of the entire module. Notice that you don't have to use the module name beforehand to reference that particular value. However, you do have to be careful about reassigning the names of the constants or functions to other values!"
   ]
  },
  {
   "cell_type": "code",
   "execution_count": null,
   "id": "c799258c",
   "metadata": {},
   "outputs": [],
   "source": [
    "# Importing just cos and pi from math.\n",
    "# We don't have to use `math.` in front of cos or pi\n",
    "from math import cos, pi\n",
    "print(cos(pi))\n",
    "\n",
    "# We do have to use it in front of other functions from math, though\n",
    "math.log(pi)"
   ]
  },
  {
   "cell_type": "markdown",
   "id": "c4cacfb4",
   "metadata": {},
   "source": [
    "Or we can import every function and value from the entire module."
   ]
  },
  {
   "cell_type": "code",
   "execution_count": null,
   "id": "b3192d5e",
   "metadata": {},
   "outputs": [],
   "source": [
    "# Lastly, we can import everything from math using the *\n",
    "# Once again, we don't have to use 'math.' beforehand \n",
    "from math import *\n",
    "\n",
    "log(pi)"
   ]
  },
  {
   "cell_type": "markdown",
   "id": "dc071acc",
   "metadata": {},
   "source": [
    "Don't worry too much about which type of import to use. It's often a coding style choice left up to each programmer. In this course, you'll always import the necessary modules when you run the setup cell (like the first code cell in this lab).\n",
    "\n",
    "Let's move on to practicing some of the table operations you've learned in lecture!"
   ]
  },
  {
   "cell_type": "markdown",
   "id": "14b77f54",
   "metadata": {},
   "source": [
    "## DataFrame (Table) Operations\n",
    "\n",
    "https://pandas.pydata.org/docs/reference/api/pandas.DataFrame.html\n",
    "\n",
    "The table `farmers_markets.csv` contains data on farmers' markets in the United States  (data associated with [the USDA](https://apps.ams.usda.gov/FarmersMarketsExport/ExcelExport.aspx)).  Each row represents one such market.\n",
    "\n",
    "Run the next cell to load the `farmers_markets` table. There will be no output -- no output is expected as the cell contains an assignment statement. An assignment statement does not produce any output (it does not yield any value)."
   ]
  },
  {
   "cell_type": "code",
   "execution_count": null,
   "id": "511750be",
   "metadata": {},
   "outputs": [],
   "source": [
    "# Just run this cell; no output\n",
    "import pandas as pd\n",
    "\n",
    "farmers_markets = pd.read_csv('https://raw.githubusercontent.com/data-8/materials-fa22/main/materials/fa22/lab/lab02/farmers_markets.csv')"
   ]
  },
  {
   "cell_type": "markdown",
   "id": "d2ab6aab",
   "metadata": {},
   "source": [
    "Let's examine our table to see what data it contains.\n",
    "\n",
    "Use the method `head()` to display the first 5 rows of `farmers_markets`, which is the default (no argument needed) for head. \n",
    "\n",
    "*Note:* The terms \"method\" and \"function\" are technically not the same thing, but for the purposes of this course, we will use them interchangeably.\n",
    "\n",
    "**Hint:** `tbl.head(3)` will show the first 3 rows of the table named `tbl`. You can also use `tbl.tail()` to get the last 5 rows in the dataset. "
   ]
  },
  {
   "cell_type": "code",
   "execution_count": null,
   "id": "c9cd8dac",
   "metadata": {},
   "outputs": [],
   "source": [
    "# default shows first 5 rows; add a number in the argument such as 3 or 7 to retrieve that many rows\n"
   ]
  },
  {
   "cell_type": "markdown",
   "id": "fb277aa5",
   "metadata": {},
   "source": [
    "Notice that some of the values in this table are missing, as denoted by \"nan.\" This means either that the value is not available (e.g. if we don’t know the market’s street address) or not applicable (e.g. if the market doesn’t have a street address). You'll also notice that the table has a large number of columns in it!\n",
    "\n",
    "The table property `shape` returns the number of rows and columns in a table. (A \"property\" is just a method that doesn't need to be called by adding parentheses.)\n",
    "\n",
    "Example call: `tbl.shape` will return the number of rows and columns in a table called `tbl`\n",
    "\n",
    "Use `shape` to print the number of columns in our farmers' markets dataset. `shape[0]` prints the number of rows and `shape[1]` prints the number of columns. `len(tbl)` prints the number of observations (rows)."
   ]
  },
  {
   "cell_type": "code",
   "execution_count": null,
   "id": "1a57c9d5",
   "metadata": {},
   "outputs": [],
   "source": [
    "# print number of rows and columns\n"
   ]
  },
  {
   "cell_type": "markdown",
   "id": "abdfb83c",
   "metadata": {},
   "source": [
    "### Using Masks\n",
    "\n",
    "Most of the columns are about particular products -- whether the market sells tofu, pet food, etc.  If we're not interested in that information, it just makes the table difficult to read.  This comes up more than you might think, because people who collect and publish data may not know ahead of time what people will want to do with it.\n",
    "\n",
    "In such situations, we can use a mask to choose only the columns, or features, that we want in a particular table, or dataset. It takes any number of arguments. Each should be the name of a column in the table. It returns a new table with only those columns in it. The columns are in the order *in which they were listed as arguments*.\n",
    "\n",
    "For example, the value of `farmers_markets[[\"MarketName\", \"State\"]]` is a table with only the name and the state of each farmers' market in `farmers_markets`.\n",
    "\n",
    "Use one set of brackets to select just one column but use double brackets to get multiple features.\n",
    "\n",
    "Use a mask to create a table with only the name, city, state, latitude (`y`), and longitude (`x`) of each market.  Call that new table `farmers_markets_locations` and print the head.\n",
    "\n",
    "*Hint:* Make sure to be exact when using column names; double-check capitalization!"
   ]
  },
  {
   "cell_type": "code",
   "execution_count": null,
   "id": "d4baf4fd",
   "metadata": {},
   "outputs": [],
   "source": [
    "# print the head\n",
    "farmers_markets_locations = ...\n",
    "farmers_markets_locations"
   ]
  },
  {
   "cell_type": "markdown",
   "id": "47b707ef",
   "metadata": {},
   "source": [
    "### `drop`\n",
    "\n",
    "`drop` takes away the columns that you provide rather than the ones that you don't provide. `drop` returns a new table.\n",
    "\n",
    "An example would be `tbl.drop(['MarketName', 'State'], axis=1)`.\n",
    "\n",
    "`axis=1` is used to drop columns, or features, and `axis=0` is for rows, or observations. You can also use `axis='columns'` or `axis='rows'`.\n",
    "\n",
    "Suppose you just didn't want the `FMID` and `updateTime` columns in `farmers_markets`.  Create a table that's a copy of `farmers_markets` but doesn't include those columns.  Call that table `farmers_markets_without_fmid` and print the head."
   ]
  },
  {
   "cell_type": "code",
   "execution_count": null,
   "id": "609c41ff",
   "metadata": {},
   "outputs": [],
   "source": [
    "# print the head\n",
    "farmers_markets_without_fmid = ...\n",
    "farmers_markets_without_fmid"
   ]
  },
  {
   "cell_type": "markdown",
   "id": "47f92d4f",
   "metadata": {},
   "source": [
    "### `sort_values`\n",
    "\n",
    "Now, suppose we want to answer some questions about farmers' markets in the US. For example, which market(s) have the largest longitude (given by the `x` column)? \n",
    "\n",
    "An example would be `tbl.sort_values('zip')`\n",
    "\n",
    "To answer this, we'll sort `farmers_markets_locations` by longitude."
   ]
  },
  {
   "cell_type": "code",
   "execution_count": null,
   "id": "746c8751",
   "metadata": {},
   "outputs": [],
   "source": [
    "# print the sorted head\n",
    "farmers_markets_locations.sort_values('x').head()"
   ]
  },
  {
   "cell_type": "markdown",
   "id": "20edac19",
   "metadata": {},
   "source": [
    "Oops, that didn't answer our question because we sorted from smallest to largest longitude. To look at the largest longitudes, we'll have to sort in reverse order."
   ]
  },
  {
   "cell_type": "code",
   "execution_count": null,
   "id": "68ab0e27",
   "metadata": {},
   "outputs": [],
   "source": [
    "# print the sorted head\n",
    "farmers_markets_locations.sort_values('x', descending=True).head()"
   ]
  },
  {
   "cell_type": "markdown",
   "id": "6fcf33c3",
   "metadata": {},
   "source": [
    "(The `descending=True` bit is called an *optional argument*. It has a default value of `False`, so when you explicitly tell the function `descending=True`, then the function will sort in descending order.)"
   ]
  },
  {
   "cell_type": "markdown",
   "id": "32882d84",
   "metadata": {},
   "source": [
    "### `sort_values` challenge\n",
    "\n",
    "Some details about sort:\n",
    "\n",
    "1. The first argument to `sort_values` is the name of a column to sort by.\n",
    "2. If the column has text in it, `sort_values` will sort alphabetically; if the column has numbers, it will sort numerically - both in ascending order by default.\n",
    "3. The value of `farmers_markets_locations.sort_values(\"x\")` is a *copy* of `farmers_markets_locations`; the `farmers_markets_locations` table doesn't get modified. For example, if we called `farmers_markets_locations.sort(\"x\")`, then running `farmers_markets_locations` by itself would still return the unsorted table.\n",
    "4. Rows always stick together when a table is sorted.  It wouldn't make sense to sort just one column and leave the other columns alone.  For example, in this case, if we sorted just the `x` column, the farmers' markets would all end up with the wrong longitudes.\n",
    "\n",
    "Create a version of `farmers_markets_locations` that's sorted by **latitude (`y`)**, with the largest latitudes first.  Call it `farmers_markets_locations_by_latitude`."
   ]
  },
  {
   "cell_type": "code",
   "execution_count": null,
   "id": "4384472c",
   "metadata": {},
   "outputs": [],
   "source": [
    "farmers_markets_locations_by_latitude = ...\n",
    "farmers_markets_locations_by_latitude"
   ]
  },
  {
   "cell_type": "markdown",
   "id": "2d96351f",
   "metadata": {},
   "source": [
    "### `query`\n",
    "\n",
    "Now let's dive into the details a bit more.  `query` takes 1 argument:\n",
    "\n",
    "1. An expression.  `query` finds rows where that column's values meet some criterion.\n",
    "\n",
    "For example farmers_markets.query('zip == \"94704\"') using one expression or For example farmers_markets.query('zip == \"94704\" and city == \"Alameda\"') for more than one condition\n",
    "\n",
    "`query` returns a table that **meets the given condition(s)**.\n",
    "\n",
    "Create a table called `berkeley_markets` containing farmers' markets in Berkeley, California and print the head."
   ]
  },
  {
   "cell_type": "code",
   "execution_count": null,
   "id": "49954d27",
   "metadata": {},
   "outputs": [],
   "source": [
    "# print the head\n",
    "berkeley_markets = ...\n",
    "berkeley_markets"
   ]
  },
  {
   "cell_type": "markdown",
   "id": "ff9aa28e",
   "metadata": {},
   "source": [
    "## Analyzing a dataset\n",
    "\n",
    "Now that you're familiar with table operations, let’s answer an interesting question about a dataset!\n",
    "\n",
    "Run the cell below to load the `imdb` table. It contains information about the 250 highest-rated movies on IMDb."
   ]
  },
  {
   "cell_type": "code",
   "execution_count": null,
   "id": "8b58dd73",
   "metadata": {},
   "outputs": [],
   "source": [
    "# get imdb the data and show the head()\n",
    "import pandas as pd\n",
    "\n",
    "imdb = pd.read_csv('https://raw.githubusercontent.com/data-8/materials-fa22/main/materials/fa22/lab/lab02/imdb.csv')\n",
    "imdb.head()"
   ]
  },
  {
   "cell_type": "markdown",
   "id": "e63eb4e1",
   "metadata": {},
   "source": [
    "Often, we want to perform multiple operations - sorting, filtering, or others - in order to turn a table we have into something more useful. You can do these operations one by one, e.g.\n",
    "\n",
    "```\n",
    "first_step = original_tbl.query('col1 == \"some value\"')\n",
    "second_step = first_step.sort(‘col2’, descending=True)\n",
    "```\n",
    "\n",
    "However, since the value of the expression `original_tbl.query('col1 == \"some value\"')` is itself a table, you can just call a table method on it:\n",
    "\n",
    "```\n",
    "original_tbl.query('col1 == \"some value\"').sort(‘col2’, descending=True)\n",
    "```\n",
    "You should organize your work in the way that makes the most sense to you, using informative names for any intermediate tables you create. "
   ]
  },
  {
   "cell_type": "markdown",
   "id": "1f0a1583",
   "metadata": {},
   "source": [
    "Create a dataframe of movies released between 2010 and 2015 (inclusive) with ratings above 8. The dataframe should only contain the columns `Title` and `Rating`, **in that order**.\n",
    "\n",
    "Assign the dataframe to the name `above_eight`.\n",
    "\n",
    "*Hint:* Think about the steps you need to take, and try to put them in an order that make sense. Feel free to create intermediate dataframes for each step, but please make sure you assign your final dataframe the name `above_eight`!"
   ]
  },
  {
   "cell_type": "code",
   "execution_count": null,
   "id": "2876ad45",
   "metadata": {},
   "outputs": [],
   "source": [
    "# print the head\n",
    "above_eight = ...\n",
    "above_eight"
   ]
  },
  {
   "cell_type": "markdown",
   "id": "9c4ffbac",
   "metadata": {},
   "source": [
    "Use `shape` (and arithmetic) to find the *proportion* of movies in the dataset that were released 1900-1999, and the *proportion* of movies in the dataset that were released in the year 2000 or later.\n",
    "\n",
    "Assign `proportion_in_20th_century` to the proportion of movies in the dataset that were released 1900-1999, and `proportion_in_21st_century` to the proportion of movies in the dataset that were released in the year 2000 or later.\n",
    "\n",
    "*Hint:* The *proportion* of movies released in the 1900's is the *number* of movies released in the 1900's, divided by the *total number* of movies."
   ]
  },
  {
   "cell_type": "code",
   "execution_count": null,
   "id": "8e8e30ce",
   "metadata": {},
   "outputs": [],
   "source": [
    "num_movies_in_dataset = ...\n",
    "num_in_20th_century = ...\n",
    "num_in_21st_century = ...\n",
    "proportion_in_20th_century = ...\n",
    "proportion_in_21st_century = ...\n",
    "print(\"Proportion in 20th century:\", proportion_in_20th_century)\n",
    "print(\"Proportion in 21st century:\", proportion_in_21st_century)"
   ]
  },
  {
   "cell_type": "markdown",
   "id": "da50e1fa",
   "metadata": {},
   "source": [
    "## Python Programming"
   ]
  },
  {
   "cell_type": "markdown",
   "id": "e1bb7621",
   "metadata": {},
   "source": [
    "Write a Python program to generate 12 random numbers between 1 and 100. Sort the list of numbers in ascending order and print it out. Sort the list of numbers in descending order and print it out. Calculate the average for the group and print it out."
   ]
  },
  {
   "cell_type": "code",
   "execution_count": null,
   "id": "2f5309e5",
   "metadata": {},
   "outputs": [],
   "source": [
    "# write your code here\n",
    "..."
   ]
  },
  {
   "cell_type": "markdown",
   "id": "03eea927",
   "metadata": {},
   "source": [
    "The formula that describes the volume V of a sphere with radius r is the following:\n",
    "\n",
    "$ V=\\frac{4}{3}\\ast\\ \\pi\\ast\\ r^3 $\n",
    "\n",
    "Write a for loop program to calculate the value of V when r is in the range of 1–10. Output the result in the following format:\n",
    "\n",
    "\tr\tV\n",
    "\t1\t…\n",
    "\t2\t…\n",
    "\t3\t…\n"
   ]
  },
  {
   "cell_type": "code",
   "execution_count": null,
   "id": "1a4408b4",
   "metadata": {},
   "outputs": [],
   "source": [
    "# write your code here\n",
    "..."
   ]
  },
  {
   "cell_type": "markdown",
   "id": "62e5e522",
   "metadata": {},
   "source": [
    "In the field of Data Science, data is often formatted as a comma-delimited (CSV) file, where each line in a file corresponds to a field's value. To answer this question, you will need to point to https://raw.githubusercontent.com/unt-iialab/info5502-spring2022/main/datasets/lab_assignment_02_denton_housing.csv in your pandas' read_csv statement. The file [lab_assignment_02_denton_housing.csv](https://raw.githubusercontent.com/unt-iialab/info5502-spring2022/main/datasets/lab_assignment_02_denton_housing.csv) contains statistics about housing in the city of Denton from 2008 to 2014. Write a program to implement the following.\n",
    "\n",
    "For the years 2008 - 2014, calculate the percentage of housing units which are vacant and occupied. Print the results in the following format:\n",
    "\n",
    "Year Vacant Housing Units Occupied Housing Units\n",
    "\n",
    "    2008  30%   70%                          \n",
    "\t2009 ----- -----\n",
    "\t2010 ----- -----\n",
    "    2011 ----- -----\n",
    "\t2012 ----- -----\n",
    "    2013 ----- -----\n",
    "\t2014 ----- -----"
   ]
  },
  {
   "cell_type": "code",
   "execution_count": null,
   "id": "51115eb3",
   "metadata": {},
   "outputs": [],
   "source": [
    "# write your code here\n",
    "..."
   ]
  },
  {
   "cell_type": "markdown",
   "id": "d1aa3760",
   "metadata": {},
   "source": [
    "Calculate and print the valued and years in which the highest number of housing units were vacant and occupied. Print the results in the following format:  \n",
    "\n",
    "                              Year\tValue\n",
    "\tVacant Housing Units\t  -----   -----\n",
    "\tOccupied Housing Units\t-----   -----"
   ]
  },
  {
   "cell_type": "code",
   "execution_count": null,
   "id": "22098345",
   "metadata": {},
   "outputs": [],
   "source": [
    "# write your code here\n",
    "..."
   ]
  },
  {
   "cell_type": "markdown",
   "id": "68538b78",
   "metadata": {},
   "source": [
    "Import the penguins dataset from the Seaborn library and print the head."
   ]
  },
  {
   "cell_type": "code",
   "execution_count": null,
   "id": "1d4eeebe",
   "metadata": {},
   "outputs": [],
   "source": [
    "# write your code here\n",
    "..."
   ]
  },
  {
   "cell_type": "markdown",
   "id": "be618bff",
   "metadata": {},
   "source": [
    "Train test split the penguins dataset using species as the target. Drop island as a feature. Print the info for the training features' set (uses one line of code)."
   ]
  },
  {
   "cell_type": "code",
   "execution_count": null,
   "id": "3a86d591",
   "metadata": {},
   "outputs": [],
   "source": [
    "# write your code here\n",
    "..."
   ]
  },
  {
   "cell_type": "markdown",
   "id": "a6813f6b",
   "metadata": {},
   "source": [
    "Show the descriptive statistics for the training features' set. Use just one line of code."
   ]
  },
  {
   "cell_type": "code",
   "execution_count": null,
   "id": "3c05ea4a",
   "metadata": {},
   "outputs": [],
   "source": [
    "# write your code here\n",
    "..."
   ]
  }
 ],
 "metadata": {
  "kernelspec": {
   "display_name": "Python 3 (ipykernel)",
   "language": "python",
   "name": "python3"
  },
  "language_info": {
   "codemirror_mode": {
    "name": "ipython",
    "version": 3
   },
   "file_extension": ".py",
   "mimetype": "text/x-python",
   "name": "python",
   "nbconvert_exporter": "python",
   "pygments_lexer": "ipython3",
   "version": "3.9.7"
  }
 },
 "nbformat": 4,
 "nbformat_minor": 5
}
